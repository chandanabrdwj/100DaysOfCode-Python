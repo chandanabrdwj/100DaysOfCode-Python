{
 "cells": [
  {
   "cell_type": "markdown",
   "metadata": {},
   "source": [
    "[Source:] https://www.geeksforgeeks.org/greedy-algorithms/"
   ]
  },
  {
   "cell_type": "markdown",
   "metadata": {},
   "source": [
    "```\n",
    "Greedy is an algorithmic paradigm that builds up a solution piece by piece, always choosing the next piece that offers the most obvious and immediate benefit.\n",
    "\n",
    "Greedy algorithms are used for optimization problems. An optimization problem can be solved using Greedy if the problem has the following property: At every step, we can make a choice that looks best at the moment, and we get the optimal solution of the complete problem.\n",
    "\n",
    "If a Greedy Algorithm can solve a problem, then it generally becomes the best method to solve that problem as the Greedy algorithms are in general more efficient than other techniques like Dynamic Programming. But Greedy algorithms cannot always be applied. \n",
    "```"
   ]
  },
  {
   "cell_type": "markdown",
   "metadata": {},
   "source": [
    "\n",
    "\n",
    "Kruskal’s Minimum Spanning Tree (MST): In Kruskal’s algorithm, we create a MST by picking edges one by one. The Greedy Choice is to pick the smallest weight edge that doesn’t cause a cycle in the MST constructed so far.\n",
    "\n",
    "Prim’s Minimum Spanning Tree: In Prim’s algorithm also, we create a MST by picking edges one by one. We maintain two sets: a set of the vertices already included in MST and the set of the vertices not yet included. The Greedy Choice is to pick the smallest weight edge that connects the two sets.\n",
    "\n",
    "Dijkstra’s Shortest Path: The Dijkstra’s algorithm is very similar to Prim’s algorithm. The shortest path tree is built up, edge by edge. We maintain two sets: a set of the vertices already included in the tree and the set of the vertices not yet included. The Greedy Choice is to pick the edge that connects the two sets and is on the smallest weight path from source to the set that contains not yet included vertices.\n",
    "\n",
    "Huffman Coding: Huffman Coding is a loss-less compression technique. It assigns variable-length bit codes to different characters. The Greedy Choice is to assign least bit length code to the most frequent character.\n",
    "\n",
    "\n"
   ]
  },
  {
   "cell_type": "markdown",
   "metadata": {},
   "source": [
    "### Activity Selection Problem"
   ]
  },
  {
   "cell_type": "markdown",
   "metadata": {},
   "source": [
    "You are given n activities with their start and finish times. Select the maximum number of activities that can be performed by a single person, assuming that a person can only work on a single activity at a time."
   ]
  },
  {
   "cell_type": "markdown",
   "metadata": {},
   "source": [
    "#### Example:\n",
    "\n",
    "Example 1 : Consider the following 3 activities sorted by\n",
    "by finish time.\n",
    "     start[]  =  {10, 12, 20};\n",
    "     finish[] =  {20, 25, 30};\n",
    "A person can perform at most two activities. The \n",
    "maximum set of activities that can be executed \n",
    "is {0, 2} [ These are indexes in start[] and \n",
    "finish[] ]\n",
    "\n",
    "Example 2 : Consider the following 6 activities \n",
    "sorted by by finish time.\n",
    "     start[]  =  {1, 3, 0, 5, 8, 5};\n",
    "     finish[] =  {2, 4, 6, 7, 9, 9};\n",
    "A person can perform at most four activities. The \n",
    "maximum set of activities that can be executed \n",
    "is {0, 1, 3, 4} [ These are indexes in start[] and \n",
    "finish[] ]"
   ]
  },
  {
   "cell_type": "markdown",
   "metadata": {},
   "source": [
    "#### Explanation:\n",
    "The greedy choice is to always pick the next activity whose finish time is least among the remaining activities and the start time is more than or equal to the finish time of previously selected activity. We can sort the activities according to their finishing time so that we always consider the next activity as minimum finishing time activity.\n",
    "\n",
    "1) Sort the activities according to their finishing time\n",
    "\n",
    "2) Select the first activity from the sorted array and print it.\n",
    "\n",
    "3) Do following for remaining activities in the sorted array.\n",
    "\n",
    "a) If the start time of this activity is greater than or equal to the finish time of previously selected activity then select this activity and print it."
   ]
  },
  {
   "cell_type": "code",
   "execution_count": 8,
   "metadata": {},
   "outputs": [
    {
     "name": "stdout",
     "output_type": "stream",
     "text": [
      "The following activities are selected\n",
      "0\n",
      "1\n",
      "3\n",
      "4\n"
     ]
    }
   ],
   "source": [
    "\n",
    "\"\"\"The following implementation assumes that the activities \n",
    "are already sorted according to their finish time\"\"\"\n",
    "  \n",
    "\"\"\"Prints a maximum set of activities that can be done by a \n",
    "single person, one at a time\"\"\"\n",
    "# n --> Total number of activities \n",
    "# s[]--> An array that contains start time of all activities \n",
    "# f[] --> An array that contains finish time of all activities \n",
    "  \n",
    "def printMaxActivities(s , f ): \n",
    "    n = len(f) \n",
    "    print(\"The following activities are selected\")\n",
    "  \n",
    "    # The first activity is always selected \n",
    "    i = 0\n",
    "    print(i) \n",
    "  \n",
    "    # Consider rest of the activities \n",
    "    for j in range(n): \n",
    "  \n",
    "        # If this activity has start time greater than \n",
    "        # or equal to the finish time of previously \n",
    "        # selected activity, then select it \n",
    "        if s[j] >= f[i]: \n",
    "            print (j) \n",
    "            i = j \n",
    "  \n",
    "# Driver program to test above function \n",
    "s = [1 , 3 , 0 , 5 , 8 , 5] \n",
    "f = [2 , 4 , 6 , 7 , 9 , 9] \n",
    "printMaxActivities(s , f) \n"
   ]
  },
  {
   "cell_type": "markdown",
   "metadata": {},
   "source": [
    "### Egyptian Fraction"
   ]
  },
  {
   "cell_type": "markdown",
   "metadata": {},
   "source": [
    "Every positive fraction can be represented as sum of unique unit fractions. A fraction is unit fraction if numerator is 1 and denominator is a positive integer, for example 1/3 is a unit fraction. Such a representation is called Egyptian Fraction as it was used by ancient Egyptians."
   ]
  },
  {
   "cell_type": "markdown",
   "metadata": {},
   "source": [
    "#### Examples:\n",
    "```\n",
    "Egyptian Fraction Representation of 2/3 is 1/2 + 1/6\n",
    "Egyptian Fraction Representation of 6/14 is 1/3 + 1/11 + 1/231\n",
    "Egyptian Fraction Representation of 12/13 is 1/2 + 1/3 + 1/12 + 1/156\n",
    "```"
   ]
  },
  {
   "cell_type": "markdown",
   "metadata": {},
   "source": [
    "#### Explanation:\n",
    "For a given number of the form ‘nr/dr’ where dr > nr, first find the greatest possible unit fraction, then recur for the remaining part. For example, consider 6/14, we first find ceiling of 14/6, i.e., 3. So the first unit fraction becomes 1/3, then recur for (6/14 – 1/3) i.e., 4/42.\n",
    "\n"
   ]
  },
  {
   "cell_type": "code",
   "execution_count": 9,
   "metadata": {},
   "outputs": [
    {
     "name": "stdout",
     "output_type": "stream",
     "text": [
      "The Egyptian Fraction Representation of 6/14 is\n",
      " 1/3 +  1/11 +  1/231 "
     ]
    }
   ],
   "source": [
    "# Python3 program to print a fraction  \n",
    "# in Egyptian Form using Greedy \n",
    "# Algorithm \n",
    "  \n",
    "# import math package to use \n",
    "# ceiling function \n",
    "import math \n",
    "  \n",
    "# define a function egyptianFraction  \n",
    "# which receive parameter nr as \n",
    "# numerator and dr as denominator \n",
    "def egyptianFraction(nr, dr): \n",
    "  \n",
    "    print(\"The Egyptian Fraction \" +\n",
    "          \"Representation of {0}/{1} is\". \n",
    "                format(nr, dr), end=\"\\n\") \n",
    "  \n",
    "    # empty list ef to store \n",
    "    # denominator \n",
    "    ef = [] \n",
    "  \n",
    "    # while loop runs until  \n",
    "    # fraction becomes 0 i.e, \n",
    "    # numerator becomes 0 \n",
    "    while nr != 0: \n",
    "  \n",
    "        # taking ceiling \n",
    "        x = math.ceil(dr / nr) \n",
    "  \n",
    "        # storing value in ef list \n",
    "        ef.append(x) \n",
    "  \n",
    "        # updating new nr and dr \n",
    "        nr = x * nr - dr \n",
    "        dr = dr * x \n",
    "  \n",
    "    # printing the values \n",
    "    for i in range(len(ef)): \n",
    "        if i != len(ef) - 1: \n",
    "            print(\" 1/{0} +\" .  \n",
    "                    format(ef[i]), end = \" \") \n",
    "        else: \n",
    "            print(\" 1/{0}\" . \n",
    "                    format(ef[i]), end = \" \") \n",
    "  \n",
    "# calling the function \n",
    "egyptianFraction(6, 14) \n"
   ]
  },
  {
   "cell_type": "code",
   "execution_count": null,
   "metadata": {},
   "outputs": [],
   "source": []
  }
 ],
 "metadata": {
  "kernelspec": {
   "display_name": "Python 3",
   "language": "python",
   "name": "python3"
  },
  "language_info": {
   "codemirror_mode": {
    "name": "ipython",
    "version": 3
   },
   "file_extension": ".py",
   "mimetype": "text/x-python",
   "name": "python",
   "nbconvert_exporter": "python",
   "pygments_lexer": "ipython3",
   "version": "3.7.0"
  }
 },
 "nbformat": 4,
 "nbformat_minor": 2
}
