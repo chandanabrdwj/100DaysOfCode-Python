{
 "cells": [
  {
   "cell_type": "markdown",
   "metadata": {},
   "source": [
    "[Source:] https://www.geeksforgeeks.org/python-get-confirmed-recovered-deaths-cases-of-corona-around-the-globe/?ref=rp"
   ]
  },
  {
   "cell_type": "markdown",
   "metadata": {},
   "source": [
    "```\n",
    "Requests : Allows sending HTTP requests easily\n",
    "Beautiful Soup : Web scraping library\n",
    "```"
   ]
  },
  {
   "cell_type": "code",
   "execution_count": 1,
   "metadata": {},
   "outputs": [],
   "source": [
    "import requests\n",
    "from bs4 import BeautifulSoup as BS"
   ]
  },
  {
   "cell_type": "code",
   "execution_count": 6,
   "metadata": {},
   "outputs": [
    {
     "name": "stdout",
     "output_type": "stream",
     "text": [
      "Total Cases : 4,014,500\n",
      "Recovered Cases : 1,387,259\n",
      "Total Deaths : 276,253\n"
     ]
    }
   ],
   "source": [
    "def get_info(url):\n",
    "    data = requests.get(url)\n",
    "    soup = BS(data.text, 'html.parser')\n",
    "    total = soup.find(\"div\", class_ = \"maincounter-number\").text\n",
    "    total = total[1: len(total)-2]\n",
    "    other = soup.find_all(\"span\", class_=\"number-table\")\n",
    "    recovered = other[2].text\n",
    "    deaths = other[3].text\n",
    "    deaths = deaths[1:]\n",
    "    ans = {'Total Cases': total, 'Recovered Cases':recovered, 'Total Deaths':deaths}\n",
    "    return ans\n",
    "\n",
    "url = \"https://www.worldometers.info/coronavirus/\"\n",
    "ans = get_info(url)\n",
    "\n",
    "for i,j in ans.items():\n",
    "    print(i+ \" : \" + j)\n",
    "    "
   ]
  },
  {
   "cell_type": "code",
   "execution_count": null,
   "metadata": {},
   "outputs": [],
   "source": []
  }
 ],
 "metadata": {
  "kernelspec": {
   "display_name": "Python 3",
   "language": "python",
   "name": "python3"
  },
  "language_info": {
   "codemirror_mode": {
    "name": "ipython",
    "version": 3
   },
   "file_extension": ".py",
   "mimetype": "text/x-python",
   "name": "python",
   "nbconvert_exporter": "python",
   "pygments_lexer": "ipython3",
   "version": "3.7.0"
  }
 },
 "nbformat": 4,
 "nbformat_minor": 2
}
