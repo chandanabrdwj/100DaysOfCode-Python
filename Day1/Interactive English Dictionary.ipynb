{
 "cells": [
  {
   "cell_type": "markdown",
   "metadata": {},
   "source": [
    "##### [Source] https://www.udemy.com/course/the-python-mega-course/learn/lecture/7627840#overview"
   ]
  },
  {
   "cell_type": "markdown",
   "metadata": {},
   "source": [
    "###### Import Libraries"
   ]
  },
  {
   "cell_type": "code",
   "execution_count": 13,
   "metadata": {},
   "outputs": [],
   "source": [
    "import json\n",
    "from difflib import get_close_matches"
   ]
  },
  {
   "cell_type": "markdown",
   "metadata": {},
   "source": [
    "```\n",
    "Our data is in .json format \n",
    "Example: data snippet : Python dictionaries : \n",
    "{\"alloy\": [\"Any of a large number of substances having metallic properties and \n",
    "consisting of two or more elements; with few exceptions,the components are usually metallic elements.\"],...}\n",
    "\n",
    "difflib.get_close_matches(word, possibilities, n=3, cutoff=0.6)\n",
    "Return a list of the best “good enough” matches. word is a sequence for which close matches are desired \n",
    "(typically a string), and possibilities is a list of sequences against which to match word (typically a list of strings).\n",
    "\n",
    "Optional argument n (default 3) is the maximum number of close matches to return; n must be greater than 0.\n",
    "\n",
    "Optional argument cutoff (default 0.6) is a float in the range [0, 1]. Possibilities that don’t score at least that \n",
    "similar to word are ignored.\n",
    "\n",
    "The best (no more than n) matches among the possibilities are returned in a list, sorted by similarity score, \n",
    "most similar first.\n",
    "```"
   ]
  },
  {
   "cell_type": "markdown",
   "metadata": {},
   "source": [
    "#### ----- Working of difflib get_close_matches -------\n"
   ]
  },
  {
   "cell_type": "code",
   "execution_count": 14,
   "metadata": {},
   "outputs": [
    {
     "name": "stdout",
     "output_type": "stream",
     "text": [
      "['apple', 'ape']\n",
      "['while']\n",
      "[]\n",
      "['except']\n"
     ]
    }
   ],
   "source": [
    "print(get_close_matches('appel', ['ape', 'apple', 'peach', 'puppy']))\n",
    "\n",
    "import keyword\n",
    "\n",
    "print(get_close_matches('wheel', keyword.kwlist))\n",
    "\n",
    "print(get_close_matches('pineapple', keyword.kwlist))\n",
    "\n",
    "print(get_close_matches('accept', keyword.kwlist))"
   ]
  },
  {
   "cell_type": "markdown",
   "metadata": {},
   "source": [
    "##### Load the Data"
   ]
  },
  {
   "cell_type": "code",
   "execution_count": 15,
   "metadata": {},
   "outputs": [],
   "source": [
    "data = json.load(open(\"data.json\"))"
   ]
  },
  {
   "cell_type": "code",
   "execution_count": 16,
   "metadata": {},
   "outputs": [],
   "source": [
    "#data"
   ]
  },
  {
   "cell_type": "markdown",
   "metadata": {},
   "source": [
    "##### Translate Function"
   ]
  },
  {
   "cell_type": "markdown",
   "metadata": {},
   "source": [
    "```\n",
    "Define function translate(w):\n",
    "    normalize all input to same case(lower) by converting everything to lower : w = lower(w)\n",
    "    check IF the word is in your dataset \n",
    "        (T) return data[word]\n",
    "    ELIF check the word similarity using \"get_close_matches\" : if there are any similarity matches found\n",
    "        (T) Ask user to say Y or N based on your closest match\n",
    "        IF user says Y:\n",
    "            return the first match\n",
    "        ELIF user says N:\n",
    "            return word doesn't exist\n",
    "        ELSE\n",
    "            return we did not understand your entry\n",
    "  ELSE return word does not exist - please double check\n",
    " ```"
   ]
  },
  {
   "cell_type": "code",
   "execution_count": 20,
   "metadata": {},
   "outputs": [],
   "source": [
    "def translate(w):\n",
    "    w = w.lower()\n",
    "    if w in data:\n",
    "        return data[w]\n",
    "    elif len(get_close_matches(w, data.keys())) >0:\n",
    "        yn = input(\"Did you mean %s instead? Enter 'Y' if yes and 'N' if no:\" % get_close_matches(w, data.keys())[0])\n",
    "        if yn == \"Y\":\n",
    "            return data[get_close_matches(w, data.keys())[0]]\n",
    "        elif yn == \"N\":\n",
    "            return \"word doesn't exist\"\n",
    "        else:\n",
    "            return \"we did not understand your entry\"\n",
    "    else: \n",
    "        return \"word does not exist - please double check\"\n",
    "            \n",
    "        "
   ]
  },
  {
   "cell_type": "markdown",
   "metadata": {},
   "source": [
    "##### I/O"
   ]
  },
  {
   "cell_type": "code",
   "execution_count": 27,
   "metadata": {},
   "outputs": [
    {
     "name": "stdout",
     "output_type": "stream",
     "text": [
      "Enter word: snow\n",
      "The most common form of frozen precipitation, usually flakes or starlike crystals, matted ice needles, or combinations, and often rime-coated.\n",
      "To fall from the clouds in the form of ice crystals.\n",
      "Material composed of small ice crystals.\n",
      "A street name for cocaine.\n",
      "To confuse completely by concealing one's true motives from, especially by elaborately feigning good intentions so as to gain an end.\n"
     ]
    }
   ],
   "source": [
    "word = input(\"Enter word: \")\n",
    "output = translate(word)\n",
    "if type(output) == list:\n",
    "    for item in output:\n",
    "        print(item)\n",
    "else:\n",
    "    print(output)"
   ]
  },
  {
   "cell_type": "code",
   "execution_count": null,
   "metadata": {},
   "outputs": [],
   "source": []
  }
 ],
 "metadata": {
  "kernelspec": {
   "display_name": "Python 3",
   "language": "python",
   "name": "python3"
  },
  "language_info": {
   "codemirror_mode": {
    "name": "ipython",
    "version": 3
   },
   "file_extension": ".py",
   "mimetype": "text/x-python",
   "name": "python",
   "nbconvert_exporter": "python",
   "pygments_lexer": "ipython3",
   "version": "3.7.0"
  }
 },
 "nbformat": 4,
 "nbformat_minor": 2
}
