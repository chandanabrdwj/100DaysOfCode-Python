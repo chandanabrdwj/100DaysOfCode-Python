{
 "cells": [
  {
   "cell_type": "markdown",
   "metadata": {},
   "source": [
    "## Arrays and Strings"
   ]
  },
  {
   "cell_type": "markdown",
   "metadata": {},
   "source": [
    "#### [Reference:] https://github.com/w-hat/ctci-solutions"
   ]
  },
  {
   "cell_type": "markdown",
   "metadata": {},
   "source": [
    "##### 1.1 is_unique"
   ]
  },
  {
   "cell_type": "markdown",
   "metadata": {},
   "source": [
    "Determine whether or not a given string contains no duplicate characters.\n"
   ]
  },
  {
   "cell_type": "code",
   "execution_count": 7,
   "metadata": {},
   "outputs": [
    {
     "name": "stdout",
     "output_type": "stream",
     "text": [
      "String: aabce\n",
      "False\n"
     ]
    }
   ],
   "source": [
    "def contains_no_duplicates(string):\n",
    "    letters = {}\n",
    "    for letter in string:\n",
    "        if letter in letters:\n",
    "            return False\n",
    "        letters[letter] = True\n",
    "    return True\n",
    "\n",
    "if __name__ == \"__main__\":\n",
    "    s = input(\"String: \")\n",
    "    print(contains_no_duplicates(s))"
   ]
  },
  {
   "cell_type": "code",
   "execution_count": 6,
   "metadata": {},
   "outputs": [
    {
     "name": "stdout",
     "output_type": "stream",
     "text": [
      "String: asfe\n",
      "Duplicates do not exist\n"
     ]
    }
   ],
   "source": [
    "str = input(\"String: \")\n",
    "if len(str) > len(set(str)):\n",
    "    print(\"Duplicates exist\")\n",
    "else:\n",
    "    print(\"Duplicates do not exist\")"
   ]
  },
  {
   "cell_type": "markdown",
   "metadata": {},
   "source": [
    "##### 1.2 is_permutation"
   ]
  },
  {
   "cell_type": "markdown",
   "metadata": {},
   "source": [
    "Determine whether or not one string is a permutation of another.\n"
   ]
  },
  {
   "cell_type": "code",
   "execution_count": 5,
   "metadata": {},
   "outputs": [
    {
     "name": "stdout",
     "output_type": "stream",
     "text": [
      "Enter String 1: apple\n",
      "Enter String 2: aplep\n",
      "True\n"
     ]
    }
   ],
   "source": [
    "def is_permutation(str1, str2):\n",
    "  counter = Counter()\n",
    "  for letter in str1:\n",
    "    counter[letter] += 1\n",
    "  for letter in str2:\n",
    "    if not letter in counter:\n",
    "      return False\n",
    "    counter[letter] -= 1\n",
    "    if counter[letter] == 0:\n",
    "      del counter[letter]\n",
    "  return len(counter) == 0\n",
    "\n",
    "class Counter(dict):\n",
    "  def __missing__(self, key):\n",
    "    return 0\n",
    "\n",
    "if __name__ == \"__main__\":\n",
    "    stra = input(\"Enter String 1: \")\n",
    "    strb = input(\"Enter String 2: \")\n",
    "    print(is_permutation(stra, strb))\n"
   ]
  },
  {
   "cell_type": "code",
   "execution_count": 14,
   "metadata": {},
   "outputs": [
    {
     "name": "stdout",
     "output_type": "stream",
     "text": [
      "Text 1: apple\n",
      "Text 2: aplep\n",
      "It is a permutation\n"
     ]
    }
   ],
   "source": [
    "txt1 = input(\"Text 1: \")\n",
    "txt2 = input(\"Text 2: \")\n",
    "\n",
    "if sorted(txt1) == sorted(txt2):\n",
    "    print(\"It is a permutation\")\n",
    "else:\n",
    "    print(\"It is not a permutation\")"
   ]
  },
  {
   "cell_type": "markdown",
   "metadata": {},
   "source": [
    "##### 1.3 urlify"
   ]
  },
  {
   "cell_type": "markdown",
   "metadata": {},
   "source": [
    "Replace spaces in the middle of a string with \"%20\" assuming the end of the string contains twice as many spaces as are in the middle.\n"
   ]
  },
  {
   "cell_type": "code",
   "execution_count": 15,
   "metadata": {},
   "outputs": [
    {
     "name": "stdout",
     "output_type": "stream",
     "text": [
      "String: hello how are you  \n",
      "hello%20how%20are%20you\n",
      "hello how are%20you\n"
     ]
    }
   ],
   "source": [
    "# Replace spaces in the middle of a string with \"%20\" assuming the end of the \n",
    "# string contains twice as many spaces as are in the middle.\n",
    "\n",
    "def escape_spaces_1(string):\n",
    "  return string.strip().replace(\" \", \"%20\")\n",
    "\n",
    "def escape_spaces_2(string):\n",
    "  # Convert string to list to prepare to be modified\n",
    "  letters = list(string)\n",
    "  i = len(letters) - 1\n",
    "  j = i\n",
    "  while letters[i] == \" \":\n",
    "    i -= 1\n",
    "  while j != i:\n",
    "    # Replace space with %20\n",
    "    if letters[i] == \" \":\n",
    "      letters[j-2] = \"%\"\n",
    "      letters[j-1] = \"2\"\n",
    "      letters[j]   = \"0\"\n",
    "      j -= 2\n",
    "    # Copy the original character\n",
    "    else:\n",
    "      letters[j] = letters[i]\n",
    "    i -= 1\n",
    "    j -= 1\n",
    "  return ''.join(letters)\n",
    "\n",
    "if __name__ == \"__main__\":\n",
    "    st = input(\"String: \")\n",
    "    print(escape_spaces_1(st))\n",
    "    print(escape_spaces_2(st))\n"
   ]
  },
  {
   "cell_type": "code",
   "execution_count": 3,
   "metadata": {},
   "outputs": [
    {
     "name": "stdout",
     "output_type": "stream",
     "text": [
      "Enter the string: hello how are you\n"
     ]
    },
    {
     "data": {
      "text/plain": [
       "'hello%20how%20are%20you'"
      ]
     },
     "execution_count": 3,
     "metadata": {},
     "output_type": "execute_result"
    }
   ],
   "source": [
    "inp = input(\"Enter the string: \")\n",
    "st = inp.strip().replace(\" \", \"%20\")\n",
    "print(st)"
   ]
  },
  {
   "cell_type": "markdown",
   "metadata": {},
   "source": [
    "##### 1.4 is_palindrome_permutation"
   ]
  },
  {
   "cell_type": "markdown",
   "metadata": {},
   "source": [
    "Determine whether or not a string is a permutation of a palindrome,ignoring spaces."
   ]
  },
  {
   "cell_type": "code",
   "execution_count": 19,
   "metadata": {},
   "outputs": [
    {
     "name": "stdout",
     "output_type": "stream",
     "text": [
      "String: aa\n",
      "True\n"
     ]
    }
   ],
   "source": [
    "def is_palindrome_permutation(string):\n",
    "  counter = Counter()\n",
    "  for letter in string.replace(\" \", \"\"):\n",
    "    counter[letter] += 1\n",
    "  #return sum([count % 2 for count in counter.values()]) < 2\n",
    "  odd_counts = 0\n",
    "  for count in counter.values():\n",
    "    odd_counts += count % 2\n",
    "    if odd_counts > 1:\n",
    "      return False\n",
    "  return True\n",
    "\n",
    "class Counter(dict):\n",
    "  def __missing__(self, key):\n",
    "    return 0\n",
    "\n",
    "if __name__ == \"__main__\":\n",
    "    ss = input(\"String: \")\n",
    "    print(is_palindrome_permutation(ss))\n"
   ]
  },
  {
   "cell_type": "code",
   "execution_count": 28,
   "metadata": {},
   "outputs": [
    {
     "name": "stdout",
     "output_type": "stream",
     "text": [
      "string: tft\n",
      "is it a pali: True\n",
      "yes\n"
     ]
    }
   ],
   "source": [
    "txt = input(\"string: \")\n",
    "txt = \"\".join(txt.split())\n",
    "a = []\n",
    "if len(txt) < len(set(txt)):\n",
    "    a = False\n",
    "else:\n",
    "    a = True\n",
    "print(\"is it a pali: \" + str(a))\n",
    "\n",
    "if a == True:\n",
    "    print(\"yes\")"
   ]
  },
  {
   "cell_type": "markdown",
   "metadata": {},
   "source": [
    "##### 1.5 one_away"
   ]
  },
  {
   "cell_type": "markdown",
   "metadata": {},
   "source": [
    "Determine whether the edit distance between two strings is less than 2"
   ]
  },
  {
   "cell_type": "code",
   "execution_count": 8,
   "metadata": {},
   "outputs": [
    {
     "name": "stdout",
     "output_type": "stream",
     "text": [
      "Str1: abcde\n",
      "Str2: abcdr\n",
      "True\n"
     ]
    }
   ],
   "source": [
    "def one_away(str1, str2):\n",
    "  len_diff = abs(len(str1) - len(str2))\n",
    "  if len_diff > 1:\n",
    "    return False\n",
    "  elif len_diff == 0:\n",
    "    difference_count = 0\n",
    "    for i in range(len(str1)):\n",
    "      if str1[i] != str2[i]:\n",
    "        difference_count += 1\n",
    "        if difference_count > 1:\n",
    "          return False\n",
    "    return True\n",
    "  else:\n",
    "    if len(str1) > len(str2):\n",
    "      longer, shorter = str1, str2\n",
    "    else:\n",
    "      longer, shorter = str2, str1\n",
    "    shift = 0\n",
    "    for i in range(len(shorter)):\n",
    "      if shorter[i] != longer[i + shift]:\n",
    "        if shift or (shorter[i] != longer[i + 1]):\n",
    "          return False\n",
    "        shift = 1\n",
    "    return True\n",
    "\n",
    "if __name__ == \"__main__\":\n",
    "  import sys\n",
    "  inp1 = input(\"Str1: \")\n",
    "  inp2 = input(\"Str2: \")\n",
    "  print(one_away(inp1, inp2))\n"
   ]
  },
  {
   "cell_type": "markdown",
   "metadata": {},
   "source": [
    "##### 1.6 string_compression"
   ]
  },
  {
   "cell_type": "markdown",
   "metadata": {},
   "source": [
    "Compress a string made up of letters by replacing each substring containing\n",
    "a single type of letter by that letter followed by the count if the result\n",
    "is shorter than the original."
   ]
  },
  {
   "cell_type": "code",
   "execution_count": 9,
   "metadata": {},
   "outputs": [
    {
     "name": "stdout",
     "output_type": "stream",
     "text": [
      "string: aabwertababaab\n",
      "aabwertababaab\n"
     ]
    }
   ],
   "source": [
    "def compress(string):\n",
    "  if len(string) == 0:\n",
    "    return string\n",
    "  parts = []\n",
    "  current_letter = string[0]\n",
    "  current_count = 1\n",
    "  for letter in string[1:]:\n",
    "    if current_letter == letter:\n",
    "      current_count += 1\n",
    "    else:\n",
    "      parts.append(current_letter + str(current_count))\n",
    "      current_letter = letter\n",
    "      current_count = 1\n",
    "  parts.append(current_letter + str(current_count))\n",
    "  compressed = \"\".join(parts)\n",
    "  if len(compressed) < len(string):\n",
    "    return compressed\n",
    "  else:\n",
    "    return string\n",
    "\n",
    "if __name__ == \"__main__\":\n",
    "  import sys\n",
    "  ent = input(\"string: \")\n",
    "  print(compress(ent))\n"
   ]
  },
  {
   "cell_type": "markdown",
   "metadata": {},
   "source": [
    "##### 1.7 rotate_matrix"
   ]
  },
  {
   "cell_type": "markdown",
   "metadata": {},
   "source": [
    " Rotate a square matrix by 90 degrees counter-clockwise about its center"
   ]
  },
  {
   "cell_type": "code",
   "execution_count": 10,
   "metadata": {},
   "outputs": [
    {
     "name": "stderr",
     "output_type": "stream",
     "text": [
      "E\n",
      "======================================================================\n",
      "ERROR: C:\\Users\\Chandana\\AppData\\Roaming\\jupyter\\runtime\\kernel-932159dc-4f81-490c-8df7-85045cce57a9 (unittest.loader._FailedTest)\n",
      "----------------------------------------------------------------------\n",
      "AttributeError: module '__main__' has no attribute 'C:\\Users\\Chandana\\AppData\\Roaming\\jupyter\\runtime\\kernel-932159dc-4f81-490c-8df7-85045cce57a9'\n",
      "\n",
      "----------------------------------------------------------------------\n",
      "Ran 1 test in 0.001s\n",
      "\n",
      "FAILED (errors=1)\n"
     ]
    },
    {
     "ename": "SystemExit",
     "evalue": "True",
     "output_type": "error",
     "traceback": [
      "An exception has occurred, use %tb to see the full traceback.\n",
      "\u001b[1;31mSystemExit\u001b[0m\u001b[1;31m:\u001b[0m True\n"
     ]
    },
    {
     "name": "stderr",
     "output_type": "stream",
     "text": [
      "C:\\Users\\Chandana\\Anaconda3\\lib\\site-packages\\IPython\\core\\interactiveshell.py:2969: UserWarning: To exit: use 'exit', 'quit', or Ctrl-D.\n",
      "  warn(\"To exit: use 'exit', 'quit', or Ctrl-D.\", stacklevel=1)\n"
     ]
    }
   ],
   "source": [
    "import unittest\n",
    "\n",
    "def rotate_matrix(m):\n",
    "  n = len(m)\n",
    "  rotm = [None] * n\n",
    "  for row in range(n):\n",
    "    rotm[row] = [None] * n\n",
    "  for row in range(n):\n",
    "    for col in range(n):\n",
    "      rotm[n - col - 1][row] = m[row][col]\n",
    "  return rotm\n",
    "\n",
    "def rotate_matrix_in_place(m):\n",
    "  n = len(m)\n",
    "  for col in range(n/2):\n",
    "    for row in range(col, n - col - 1):\n",
    "      temp1 = m[n - col - 1][row]\n",
    "      m[n - col - 1][row] = m[row][col]\n",
    "      temp2 = m[n - row - 1][n - col - 1]\n",
    "      m[n - row - 1][n - col - 1] = temp1\n",
    "      temp1 = m[col][n - row - 1]\n",
    "      m[col][n - row - 1] = temp2\n",
    "      m[row][col] = temp1\n",
    "\n",
    "class Test(unittest.TestCase):\n",
    "  def test_rotate_matrix(self):\n",
    "    mat1 = [[1,2],[3,4]]\n",
    "    mat2 = [[2,4],[1,3]]\n",
    "    self.assertEqual(rotate_matrix(mat1), mat2)\n",
    "    mat3 = [[1,2,3],[4,5,6],[7,8,9]]\n",
    "    mat4 = [[3,6,9],[2,5,8],[1,4,7]]\n",
    "    self.assertEqual(rotate_matrix(mat3), mat4)\n",
    "    mat5 = [[1,2,3,4],[5,6,7,8],[9,10,11,12],[13,14,15,16]]\n",
    "    mat6 = [[4,8,12,16],[3,7,11,15],[2,6,10,14],[1,5,9,13]]\n",
    "    self.assertEqual(rotate_matrix(mat5), mat6)\n",
    "  \n",
    "  def test_rotate_matrix_in_place(self):\n",
    "    mat1 = [[1,2],[3,4]]\n",
    "    mat2 = [[2,4],[1,3]]\n",
    "    rotate_matrix_in_place(mat1)\n",
    "    self.assertEqual(mat1, mat2)\n",
    "    mat3 = [[1,2,3],[4,5,6],[7,8,9]]\n",
    "    mat4 = [[3,6,9],[2,5,8],[1,4,7]]\n",
    "    rotate_matrix_in_place(mat3)\n",
    "    self.assertEqual(mat3, mat4)\n",
    "    mat5 = [[1,2,3,4],[5,6,7,8],[9,10,11,12],[13,14,15,16]]\n",
    "    mat6 = [[4,8,12,16],[3,7,11,15],[2,6,10,14],[1,5,9,13]]\n",
    "    rotate_matrix_in_place(mat5)\n",
    "    self.assertEqual(mat5, mat6)\n",
    "\n",
    "if __name__ == \"__main__\":\n",
    "  unittest.main()\n"
   ]
  },
  {
   "cell_type": "markdown",
   "metadata": {},
   "source": [
    "##### 1.8 zero_matrix"
   ]
  },
  {
   "cell_type": "markdown",
   "metadata": {},
   "source": [
    "Given a matrix, zero out every row and column that contains a zero."
   ]
  },
  {
   "cell_type": "code",
   "execution_count": 11,
   "metadata": {},
   "outputs": [
    {
     "name": "stderr",
     "output_type": "stream",
     "text": [
      "E\n",
      "======================================================================\n",
      "ERROR: C:\\Users\\Chandana\\AppData\\Roaming\\jupyter\\runtime\\kernel-932159dc-4f81-490c-8df7-85045cce57a9 (unittest.loader._FailedTest)\n",
      "----------------------------------------------------------------------\n",
      "AttributeError: module '__main__' has no attribute 'C:\\Users\\Chandana\\AppData\\Roaming\\jupyter\\runtime\\kernel-932159dc-4f81-490c-8df7-85045cce57a9'\n",
      "\n",
      "----------------------------------------------------------------------\n",
      "Ran 1 test in 0.001s\n",
      "\n",
      "FAILED (errors=1)\n"
     ]
    },
    {
     "ename": "SystemExit",
     "evalue": "True",
     "output_type": "error",
     "traceback": [
      "An exception has occurred, use %tb to see the full traceback.\n",
      "\u001b[1;31mSystemExit\u001b[0m\u001b[1;31m:\u001b[0m True\n"
     ]
    },
    {
     "name": "stderr",
     "output_type": "stream",
     "text": [
      "C:\\Users\\Chandana\\Anaconda3\\lib\\site-packages\\IPython\\core\\interactiveshell.py:2969: UserWarning: To exit: use 'exit', 'quit', or Ctrl-D.\n",
      "  warn(\"To exit: use 'exit', 'quit', or Ctrl-D.\", stacklevel=1)\n"
     ]
    }
   ],
   "source": [
    "import unittest\n",
    "\n",
    "def zero_out_row_col(mat):\n",
    "  n = len(mat)\n",
    "  if n == 0:\n",
    "    return mat\n",
    "  m = len(mat[0])\n",
    "  zero_rows, zero_cols = [], []\n",
    "  for r in range(n):\n",
    "    for c in range(m):\n",
    "      if mat[r][c] == 0:\n",
    "        zero_rows.append(r)\n",
    "        zero_cols.append(c)\n",
    "        break\n",
    "  for r in zero_rows:\n",
    "    for c in range(m):\n",
    "      mat[r][c] = 0\n",
    "  for c in zero_cols:\n",
    "    for r in range(n):\n",
    "      mat[r][c] = 0\n",
    "\n",
    "class Test(unittest.TestCase):\n",
    "  def test_zero_out_row_col_matrix(self):\n",
    "    mat1 = [[1,1,1,1,1],[1,0,1,1,1],[1,1,1,1,1],[1,1,1,0,1],[2,3,4,5,6]]\n",
    "    mat2 = [[1,0,1,0,1],[0,0,0,0,0],[1,0,1,0,1],[0,0,0,0,0],[2,0,4,0,6]]\n",
    "    zero_out_row_col(mat1)\n",
    "    self.assertEqual(mat1, mat2)\n",
    "\n",
    "if __name__ == \"__main__\":\n",
    "  unittest.main()\n"
   ]
  },
  {
   "cell_type": "markdown",
   "metadata": {},
   "source": [
    "##### 1.9 is_rotation"
   ]
  },
  {
   "cell_type": "markdown",
   "metadata": {},
   "source": [
    "Determine whether or not a given string is a rotation of another string."
   ]
  },
  {
   "cell_type": "code",
   "execution_count": 12,
   "metadata": {},
   "outputs": [
    {
     "name": "stderr",
     "output_type": "stream",
     "text": [
      "E\n",
      "======================================================================\n",
      "ERROR: C:\\Users\\Chandana\\AppData\\Roaming\\jupyter\\runtime\\kernel-932159dc-4f81-490c-8df7-85045cce57a9 (unittest.loader._FailedTest)\n",
      "----------------------------------------------------------------------\n",
      "AttributeError: module '__main__' has no attribute 'C:\\Users\\Chandana\\AppData\\Roaming\\jupyter\\runtime\\kernel-932159dc-4f81-490c-8df7-85045cce57a9'\n",
      "\n",
      "----------------------------------------------------------------------\n",
      "Ran 1 test in 0.000s\n",
      "\n",
      "FAILED (errors=1)\n"
     ]
    },
    {
     "ename": "SystemExit",
     "evalue": "True",
     "output_type": "error",
     "traceback": [
      "An exception has occurred, use %tb to see the full traceback.\n",
      "\u001b[1;31mSystemExit\u001b[0m\u001b[1;31m:\u001b[0m True\n"
     ]
    },
    {
     "name": "stderr",
     "output_type": "stream",
     "text": [
      "C:\\Users\\Chandana\\Anaconda3\\lib\\site-packages\\IPython\\core\\interactiveshell.py:2969: UserWarning: To exit: use 'exit', 'quit', or Ctrl-D.\n",
      "  warn(\"To exit: use 'exit', 'quit', or Ctrl-D.\", stacklevel=1)\n"
     ]
    }
   ],
   "source": [
    "\n",
    "import unittest\n",
    "\n",
    "def is_rotation(s1, s2):\n",
    "  if len(s1) != len(s2):\n",
    "    return False\n",
    "  return is_substring(s1 + s1, s2)\n",
    "  \n",
    "def is_substring(s1, s2):\n",
    "  if len(s2) > len(s1):\n",
    "    return False\n",
    "  for i in range(len(s1) - len(s2) + 1):\n",
    "    is_substring_here = True\n",
    "    for j in range(len(s2)):\n",
    "      if s1[i + j] != s2[j]:\n",
    "        is_substring_here = False\n",
    "        break\n",
    "    if is_substring_here:\n",
    "      return True\n",
    "  return False\n",
    "\n",
    "class Test(unittest.TestCase):\n",
    "  def test_is_rotation(self):\n",
    "    s1 = \"tabletop\"\n",
    "    s2 = \"toptable\"\n",
    "    s3 = \"optalbet\"\n",
    "    self.assertTrue(is_rotation(s1, s2))\n",
    "    self.assertFalse(is_rotation(s1, s3))\n",
    "  \n",
    "  def test_is_substring(self):\n",
    "    s1 = \"cat in the hat\"\n",
    "    s2 = \"cat\"\n",
    "    s3 = \"hat\"\n",
    "    s4 = \"cats\"\n",
    "    self.assertTrue(is_substring(s1, s2))\n",
    "    self.assertTrue(is_substring(s1, s3))\n",
    "    self.assertFalse(is_substring(s1, s4))\n",
    "\n",
    "if __name__ == \"__main__\":\n",
    "  unittest.main()\n"
   ]
  },
  {
   "cell_type": "code",
   "execution_count": null,
   "metadata": {},
   "outputs": [],
   "source": []
  }
 ],
 "metadata": {
  "kernelspec": {
   "display_name": "Python 3",
   "language": "python",
   "name": "python3"
  },
  "language_info": {
   "codemirror_mode": {
    "name": "ipython",
    "version": 3
   },
   "file_extension": ".py",
   "mimetype": "text/x-python",
   "name": "python",
   "nbconvert_exporter": "python",
   "pygments_lexer": "ipython3",
   "version": "3.7.0"
  }
 },
 "nbformat": 4,
 "nbformat_minor": 2
}
