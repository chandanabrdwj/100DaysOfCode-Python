{
 "cells": [
  {
   "cell_type": "markdown",
   "metadata": {},
   "source": [
    "[Source:] \n",
    "```\n",
    "Book titled \"Elements of Programming Interviews in Python\"\n",
    "by Adnan Aziz, Tsung-Hsien Lee, Amit Prakash\n",
    "```"
   ]
  },
  {
   "cell_type": "markdown",
   "metadata": {},
   "source": [
    "### Chapter - Arrays"
   ]
  },
  {
   "cell_type": "markdown",
   "metadata": {},
   "source": [
    "```\n",
    "The following problem gives good insight into working with arrays: Your input is an array of integers, and you have to reorder its entries so that the even entries appear first. \n",
    "This is easy if you use O(n) space, where n is the length of the array. However, you are required to solve it without allocating additional storage.\n",
    "\n",
    "When working with arrays you should take advantage of the fact that you can operate efficiently on both ends. \n",
    "For this problem, we can partition the array into three subarrays: Even, Unclassified, and Odd, appearing in that order. Initially Even and Odd are empty, and Unclassified is the entire array. \n",
    "\n",
    "We iterate through Unclassified, moving its elements to the boundaries of the Even and Odd subarrays via swaps, thereby expanding Even and Odd, and shrinking Unclassified.\n",
    "```"
   ]
  },
  {
   "cell_type": "code",
   "execution_count": 1,
   "metadata": {},
   "outputs": [],
   "source": [
    "def even_odd(A):\n",
    "    next_even , next_odd = 0, len(A) - 1\n",
    "    while next_even < next_odd:\n",
    "        if A[next_even] % 2 == 0:\n",
    "            next_even += 1\n",
    "        else:\n",
    "            A[next_even], A[next_odd] = A[next_odd], A[next_even]\n",
    "            next_odd -= 1"
   ]
  },
  {
   "cell_type": "markdown",
   "metadata": {},
   "source": [
    "```\n",
    "Array problems often have simple brute-force solutions that use O(n) space, but there are subtler solutions that use the array itself to reduce space complexity to O(1).\n",
    "\n",
    "Filling an array from the front is slow, so see if it’s possible to write values from the back. Instead of deleting an entry (which requires moving all entries to its right), consider overwriting it.\n",
    "\n",
    "When dealing with integers encoded by an array consider processing the digits from the back of the array. Alternately, reverse the array so the least-significant digit is the first entry.\n",
    "\n",
    "Be comfortable with writing code that operates on subarrays.\n",
    "It’s incredibly easy to make off-by-1 errors when operating on arrays—reading past the last element of an array is a common error which has catastrophic consequences.\n",
    "\n",
    "Don’t worry about preserving the integrity of the array (sortedness, keeping equal entries together, etc.) until it is time to return.\n",
    "\n",
    "An array can serve as a good data structure when you know the distribution of the elements in advance. For example, a Boolean array of length W is a good choice for representing a subset of f0; 1; : : : ; W − 1g. (When using a Boolean array to represent a subset of f1; 2; 3; : : : ; ng, \n",
    "allocate an array of size n + 1 to simplify indexing.) When operating on 2D arrays, use parallel logic for rows and for columns.\n",
    "\n",
    "Sometimes it’s easier to simulate the specification, than to analytically solve for the result. For example, rather than writing a formula for the i-th entry in the spiral order for an n × n matrix, just compute the output from the beginning.\n",
    "```"
   ]
  },
  {
   "cell_type": "markdown",
   "metadata": {},
   "source": [
    "```\n",
    "Know your array libraries:\n",
    "\n",
    "Arrays in Python are provided by the list type. (The tuple type is very similar to the list type, with the constraint that it is immutable.) The key property of a list is that it is dynamically-resized, i.e., there’s no bound as to how many values can be added to it. In the same way, values can be deleted and inserted at arbitrary locations.\n",
    "\n",
    "• Know the syntax for instantiating a list, e.g., [3, 5, 7, 11], [1] + [0] * 10, list(range(100)). (List comprehension, described later, is also a powerful tool for instantiating arrays.)\n",
    "\n",
    "• The basic operations are len(A), A.append(42), A.remove(2), and A.insert(3, 28).\n",
    "\n",
    "• Know how to instantiate a 2D array, e.g., [[1, 2, 4], [3, 5, 7, 9], [13]].\n",
    "\n",
    "• Checking if a value is present in an array is as simple as a in A. (This operation has O(n) time complexity, where n is the length of the array.)\n",
    "• Understand how copy works, i.e., the difference between B = A and B = list(A). \n",
    "Understand what a deep copy is, and how it differs from a shallow copy, i.e., how copy.copy(A) differs from copy.deepcopy(A).\n",
    "\n",
    "• Key methods for list include min(A), max(A), binary search for sorted lists (bisect.bisect(A, 6), bisect.bisect_left(A, 6), and bisect.bisect_right(A, 6)), A.reverse() (in-place), reversed(A) (returns an iterator), A.sort() (in-place), sorted(A) (returns a copy), del A[i] (deletes the i-th element), and del A[i:j] (removes the slice).\n",
    "\n",
    "• Slicing is a very succinct way of manipulating arrays. It can be viewed as a generalization of indexing: the most general form of slice is A[i:j:k], with all of i, j, and k being optional. \n",
    "Let A = [1, 6, 3, 4, 5, 2, 7]. Here are some examples of slicing: A[2:4] is [3, 4], A[2:] is [3, 4, 5, 2, 7], A[:4] is [1, 6, 3, 4], A[:-1] is [1, 6, 3, 4, 5, 2], A[-3:] is [5, 2,\n",
    "7], A[-3:-1] is [5, 2], A[1:5:2] is [6, 4], A[5:1:-2] is [2, 4], and A[::-1] is [7, 2, 5,4, 3, 6, 1] (reverses list). Slicing can also be used to rotate a list: A[k:] + A[:k] rotates A by k to the left. It can also be used to create a copy: B = A[:] does a (shallow) copy of A into B.\n",
    "\n",
    "• Python provides a feature called list comprehension that is a succinct way to create lists. A list comprehension consists of (1.) an input sequence, (2.) an iterator over the input sequence, (3.) a logical condition over the iterator (this is optional), and (4.) an expression that yields the elements of the derived list. For example, [x**2 for a in range(6)] yields [1, 4, 9,16, 25], and [x**2 for a in range(6) if x % 2 == 0] yields [4,16].\n",
    "\n",
    "Although list comprehensions can always be rewritten using map(), filter(), and lambdas, they are clearer to read, in large part because they do not need lambdas.\n",
    "\n",
    "List comprehension supports multiple levels of looping. This can be used to create the product of sets, e.g., if A = [1, 3, 5] and B = [’a’, ’b’], then [(x, y) for x in A for y in B] creates [(1, ’a’), (1, ’b’), (3, ’a’), (3, ’b’), (5, ’a’), (5, ’b’)]. It can also be used to convert a 2D list to a 1D list, e.g., if M = [[’a’, ’b’, ’c’], [’d’, ’e’,’f’]], x for row in M for x in row creates [’a’, ’b’, ’c’, ’d’, ’e’, ’f’]. Two levels of looping also allow for iterating over each entry in a 2D list, e.g., \n",
    "if A = [[1,2, 3], [4, 5, 6]] then [[x**2 for x in row] for row in M] yields [[1, 4, 9], [16,25, 36]].\n",
    "\n",
    "As a general rule, it is best to avoid more than two nested comprehensions, and use conventional nested for loops—the indentation makes it easier to read the program.\n",
    "Finally, sets and dictionaries also support list comprehensions, with the same benefits.\n",
    "```"
   ]
  },
  {
   "cell_type": "code",
   "execution_count": null,
   "metadata": {},
   "outputs": [],
   "source": []
  }
 ],
 "metadata": {
  "kernelspec": {
   "display_name": "Python 3",
   "language": "python",
   "name": "python3"
  },
  "language_info": {
   "codemirror_mode": {
    "name": "ipython",
    "version": 3
   },
   "file_extension": ".py",
   "mimetype": "text/x-python",
   "name": "python",
   "nbconvert_exporter": "python",
   "pygments_lexer": "ipython3",
   "version": "3.7.0"
  }
 },
 "nbformat": 4,
 "nbformat_minor": 2
}
