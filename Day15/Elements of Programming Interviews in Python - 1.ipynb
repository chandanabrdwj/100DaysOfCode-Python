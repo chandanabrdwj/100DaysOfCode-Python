{
 "cells": [
  {
   "cell_type": "markdown",
   "metadata": {},
   "source": [
    "[Source:] \n",
    "```\n",
    "Book titled \"Elements of Programming Interviews in Python\"\n",
    "by Adnan Aziz, Tsung-Hsien Lee, Amit Prakash\n",
    "```"
   ]
  },
  {
   "cell_type": "markdown",
   "metadata": {},
   "source": [
    "### Chapter - 1  Primitive Types"
   ]
  },
  {
   "cell_type": "markdown",
   "metadata": {},
   "source": [
    "Writing a program to count the number of bits that are set to 1 in an integer is a good way to get up to speed with primitive types. The following program tests bits one-at-a-time starting with the least-significant bit. It illustrates shifting and masking; it also shows how to avoid hard-coding the\n",
    "size of the integer word."
   ]
  },
  {
   "cell_type": "code",
   "execution_count": 1,
   "metadata": {},
   "outputs": [],
   "source": [
    "def count_bits(x):\n",
    "    num_bits = 0\n",
    "    while x:\n",
    "        num_bits += x & 1\n",
    "        x >>= 1\n",
    "    return num_bits"
   ]
  },
  {
   "cell_type": "code",
   "execution_count": 8,
   "metadata": {},
   "outputs": [
    {
     "data": {
      "text/plain": [
       "6"
      ]
     },
     "execution_count": 8,
     "metadata": {},
     "output_type": "execute_result"
    }
   ],
   "source": [
    "count_bits(111)"
   ]
  },
  {
   "cell_type": "markdown",
   "metadata": {},
   "source": [
    "Since we perform O(1) computation per bit, the time complexity is O(n), where n is the number of\n",
    "bits needed to represent the integer, e.g., 4 bits are needed to represent 12, which is (1100)2 in binary"
   ]
  },
  {
   "cell_type": "markdown",
   "metadata": {},
   "source": [
    "Know your primitive types:\n",
    "\n",
    "Python has a number of build-in types: numerics (e.g., integer), sequences (e.g., list), mappings (e.g., dict), as well as classes, instances and exceptions. All instances of these types are objects.\n",
    "\n",
    "Integers in Python3 are unbounded—the maximum integer representable is a function of the available memory.\n",
    "The constant sys.maxsize can be used to find the word-size; specifically, it’s the maximum value integer that can be stored in the word,\n",
    "e.g., 2**63 - 1 on a 64-bit machine.\n",
    "Bounds on floats are specified in sys.float_info.\n",
    "\n",
    "• Be very familiar with the bit-wise operators such as 6&4,1|2, 8>>1, -16>>>2, 1<<10, ˜0, 15ˆx.\n",
    "Negative numbers are treated as their 2’s complement value. (There is no concept of an\n",
    "unsigned shift in Python, since integers have infinite precision.)\n",
    "\n",
    "• The key methods for numeric types are abs(-34.5), math.ceil(2.17), math.floor(3.14),\n",
    "min(x,-4), max(3.14, y), pow(2.71, 3.14) (alternately, 2.71 ** 3.14), and\n",
    "math.sqrt(225).\n",
    "\n",
    "• Know how to interconvert integers and strings, e.g., str(42), int(’42’), floats and strings,\n",
    "e.g., str(3.14), float(’3.14’).\n",
    "\n",
    "• Unlike integers, floats are not infinite precision, and it’s convenient to refer to infinity as\n",
    "float(’inf’) and float(’-inf’). These values are comparable to integers, and can be used\n",
    "to create psuedo max-int and pseudo min-int.\n",
    "\n",
    "• When comparing floating point values consider using math.isclose()—it is robust, e.g.,\n",
    "when comparing very large values, and can handle both absolute and relative differences.\n",
    "\n",
    "• The key methods in random are random.randrange(28), random.randint(8,16),\n",
    "random.random(), random.shuffle(A), and random.choice(A)"
   ]
  },
  {
   "cell_type": "markdown",
   "metadata": {},
   "source": [
    "#### Computing the parity of a word"
   ]
  },
  {
   "cell_type": "markdown",
   "metadata": {},
   "source": [
    "```\n",
    "The parity of a binary word is 1 if the number of 1s in the word is odd; otherwise, it is 0. For\n",
    "example, the parity of 1011 is 1, and the parity of 10001000 is 0. Parity checks are used to detect\n",
    "single bit errors in data storage and communication. It is fairly straightforward to write code that\n",
    "computes the parity of a single 64-bit word.\n",
    "How would you compute the parity of a very large number of 64-bit words?\n",
    "Hint: Use a lookup table, but don’t use 264 entries!\n",
    "Solution: The brute-force algorithm iteratively tests the value of each bit while tracking the number\n",
    "of 1s seen so far. Since we only care if the number of 1s is even or odd, we can store the number\n",
    "modulo 2.\n",
    "```"
   ]
  },
  {
   "cell_type": "code",
   "execution_count": 9,
   "metadata": {},
   "outputs": [],
   "source": [
    "def parity(x):\n",
    "    result = 0\n",
    "    while x:\n",
    "        result ^= x & 1\n",
    "        x >>= 1\n",
    "    return result"
   ]
  },
  {
   "cell_type": "code",
   "execution_count": 10,
   "metadata": {},
   "outputs": [
    {
     "data": {
      "text/plain": [
       "0"
      ]
     },
     "execution_count": 10,
     "metadata": {},
     "output_type": "execute_result"
    }
   ],
   "source": [
    "parity(20)"
   ]
  },
  {
   "cell_type": "markdown",
   "metadata": {},
   "source": [
    "```\n",
    "\n",
    "The time complexity is O(n), where n is the word size.\n",
    "\n",
    "We will now describe several algorithms for parity computation that are superior to the bruteforce algorithm.\n",
    "\n",
    "The first improvement is based on erasing the lowest set bit in a word in a single operation, thereby improving performance in the best- and average-cases. Specifically, the expression y = x & ~(x − 1), where & is the bitwise-AND operator and ~ is the bitwise complement operator. \n",
    "\n",
    "The variable y is 1 at exactly the lowest bit of x that is 1; all other bits in y are 0. For example, if x = (00101100)2, then x − 1 = (00101011)2, ~(x − 1) = (11010100)2, and\n",
    "y = (00101100)2 & (11010100)2 = (00000100)2. \n",
    "\n",
    "This calculation is robust—it is correct for unsigned\n",
    "and two’s-complement representations. Consequently, this bit may be removed from x by computing x ⊕ y, where ⊕ is the bitwise-XOR function. The time complexity is O(s), where s is the number of bits set to 1 in x.\n",
    "```"
   ]
  },
  {
   "cell_type": "code",
   "execution_count": 11,
   "metadata": {},
   "outputs": [],
   "source": [
    "def parity(x):\n",
    "    result = 0\n",
    "    while x:\n",
    "        result ^= 1\n",
    "        x &= x - 1 # Drops the lowest set bit of x.\n",
    "    return result"
   ]
  },
  {
   "cell_type": "code",
   "execution_count": 12,
   "metadata": {},
   "outputs": [
    {
     "data": {
      "text/plain": [
       "0"
      ]
     },
     "execution_count": 12,
     "metadata": {},
     "output_type": "execute_result"
    }
   ],
   "source": [
    "parity(30)"
   ]
  },
  {
   "cell_type": "markdown",
   "metadata": {},
   "source": [
    "The time complexity is O(n), where n is the word size.\n",
    "We will now describe several algorithms for parity computation that are superior to the bruteforce algorithm.\n",
    "The first improvement is based on erasing the lowest set bit in a word in a single operation, thereby improving performance in the best- and average-cases. Specifically, the expression y = x & ~(x − 1), where & is the bitwise-AND operator and ~ is the bitwise complement\n",
    "operator. The variable y is 1 at exactly the lowest bit of x that is 1; all other bits in y are\n",
    "0. For example, if x = (00101100)2, then x − 1 = (00101011)2, ~(x − 1) = (11010100)2, and\n",
    "y = (00101100)2 & (11010100)2 = (00000100)2. This calculation is robust—it is correct for unsigned\n",
    "and two’s-complement representations. Consequently, this bit may be removed from x by computing x ⊕ y, where ⊕ is the bitwise-XOR function. The time complexity is O(s), where s is the number\n",
    "of bits set to 1 in x."
   ]
  },
  {
   "cell_type": "code",
   "execution_count": 13,
   "metadata": {},
   "outputs": [],
   "source": [
    "def parity(x):\n",
    "    result = 0\n",
    "    while x:\n",
    "        result ^= 1\n",
    "        x &= x - 1 # Drops the lowest set bit of x.\n",
    "    return result"
   ]
  },
  {
   "cell_type": "markdown",
   "metadata": {},
   "source": [
    "Let k be the number of bits set to 1 in a particular word. (For example, for 10001010, k = 3.) Then\n",
    "time complexity of the algorithm above is O(k).\n",
    "The fact that x & ~(x−1) isolates the lowest bit that is 1 in x is important enough that you should\n",
    "memorize it. However, it is also fairly easy to derive. First, suppose x is not 0, i.e., it has has a bit\n",
    "that is one. Subtracting one from x changes the rightmost bit to zero and sets all the lower bits to\n",
    "one (if you add one now, you get the original value back). The effect is to mask out the rightmost\n",
    "one. Therefore x & ~(x − 1) has a single bit set to one, namely, the rightmost 1 in x. Now suppose x\n",
    "is 0. Subtracting one from x underflows, resulting in a word in which all bits are set to one. Again,\n",
    "x & ~(x − 1) is 0.\n",
    "A similar derivation shows that x &(x − 1) replaces the lowest bit that is 1 with 0. For example,\n",
    "if x = (00101100)2, then x − 1 = (00101011)2, so x &(x − 1) = (00101100)2&(00101011)2 = (00101000)2.\n",
    "This fact can also be very useful.\n",
    "We now consider a qualitatively different approach. The problem statement refers to computing\n",
    "the parity for a very large number of words. When you have to perform a large number of parity\n",
    "computations, and, more generally, any kind of bit fiddling computations, two keys to performance\n",
    "are processing multiple bits at a time and caching results in an array-based lookup table.\n",
    "First we demonstrate caching. Clearly, we cannot cache the parity of every 64-bit integer—we\n",
    "would need 264 bits of storage, which is of the order of ten trillion exabytes. However, when\n",
    "computing the parity of a collection of bits, it does not matter how we group those bits, i.e., the\n",
    "computation is associative. Therefore, we can compute the parity of a 64-bit integer by grouping its\n",
    "bits into four nonoverlapping 16 bit subwords, computing the parity of each subwords, and then\n",
    "computing the parity of these four subresults. We choose 16 since 216 = 65536 is relatively small,which makes it feasible to cache the parity of all 16-bit words using an array. Furthermore, since 16\n",
    "evenly divides 64, the code is simpler than if we were, for example, to use 10 bit subwords.\n",
    "We illustrate the approach with a lookup table for 2-bit words. The cache is h0; 1; 1; 0i—these\n",
    "are the parities of (00); (01); (10); (11), respectively. To compute the parity of (11001010) we would\n",
    "compute the parities of (11), (00), (10), (10). By table lookup we see these are 0; 0; 1; 1, respectively,\n",
    "so the final result is the parity of 0; 0; 1; 1 which is 0.\n",
    "To lookup the parity of the first two bits in (11101010), we right shift by 6, to get (00000011), and\n",
    "use this as an index into the cache. To lookup the parity of the next two bits, i.e., (10), we right shift\n",
    "by 4, to get (10) in the two least-significant bit places. The right shift does not remove the leading\n",
    "(11)—it results in (00001110). We cannot index the cache with this, it leads to an out-of-bounds\n",
    "access. To get the last two bits after the right shift by 4, we bitwise-AND (00001110) with (00000011)\n",
    "(this is the “mask” used to extract the last 2 bits). The result is (00000010). Similar masking is\n",
    "needed for the two other 2-bit lookups."
   ]
  },
  {
   "cell_type": "code",
   "execution_count": 15,
   "metadata": {},
   "outputs": [],
   "source": [
    "def parity(x):\n",
    "    MASK_SIZE = 16\n",
    "    BIT_MASK = 0xFFFF\n",
    "    return (PRECOMPUTED_PARITY[x >> (3 * MASK_SIZE)] ^\n",
    "        PRECOMPUTED_PARITY[(x >> (2 * MASK_SIZE)) & BIT_MASK] ^\n",
    "        PRECOMPUTED_PARITY[(x >> MASK_SIZE) & BIT_MASK] ^\n",
    "        PRECOMPUTED_PARITY[x & BIT_MASK])"
   ]
  },
  {
   "cell_type": "markdown",
   "metadata": {},
   "source": [
    "The time complexity is a function of the size of the keys used to index the lookup table. Let L be\n",
    "the width of the words for which we cache the results, and n the word size. Since there are n=L\n",
    "terms, the time complexity is O(n=L), assuming word-level operations, such as shifting, take O(1)\n",
    "time. (This does not include the time for initialization of the lookup table.)\n",
    "We can improve on the O(n) worst-case time complexity of the previous algorithms by exploiting\n",
    "some simple properties of parity. Specifically, the XOR of two bits is defined to be 0 if both bits are\n",
    "0 or both bits are 1; otherwise it is 1. XOR has the property of being associative, i.e., it does not\n",
    "matter how we group bits, as well as commutative, i.e., the order in which we perform the XORs\n",
    "does not change the result. The XOR of a group of bits is its parity. We can exploit this fact to use\n",
    "the CPU’s word-level XOR instruction to process multiple bits at a time.\n",
    "For example, the parity of hb63; b62; : : : ; b3; b2; b1; b0i equals the parity of the XOR of\n",
    "hb63; b62; : : : ; b32i and hb31; b30; : : : ; b0i. The XOR of these two 32-bit values can be computed with a\n",
    "single shift and a single 32-bit XOR instruction. We repeat the same operation on 32-, 16-, 8-, 4-,\n",
    "2-, and 1-bit operands to get the final result. Note that the leading bits are not meaningful, and we\n",
    "have to explicitly extract the result from the least-significant bit.\n",
    "We illustrate the approach with an 8-bit word. The parity of (11010111) is the same as the parity\n",
    "of (1101) XORed with (0111), i.e., of (1010). This in turn is the same as the parity of (10) XORed with\n",
    "(10), i.e., of (00). The final result is the XOR of (0) with (0), i.e., 0. Note that the first XOR yields\n",
    "(11011010), and only the last 4 bits are relevant going forward. The second XOR yields (11101100),\n",
    "and only the last 2 bits are relevant. The third XOR yields (10011010). The last bit is the result, and\n",
    "to extract it we have to bitwise-AND with (00000001)."
   ]
  },
  {
   "cell_type": "code",
   "execution_count": 17,
   "metadata": {},
   "outputs": [],
   "source": [
    "def parity(x):\n",
    "    x ^= x >> 32\n",
    "    x ^= x >> 16\n",
    "    x ^= x >> 8\n",
    "    x ^= x >> 4\n",
    "    x ^= x >> 2\n",
    "    x ^= x >> 1\n",
    "    return x & 0x1"
   ]
  },
  {
   "cell_type": "markdown",
   "metadata": {},
   "source": [
    "The time complexity is O(log n), where n is the word size.\n",
    "Note that we can combine caching with word-level operations, e.g., by doing a lookup in the\n",
    "XOR-based approach once we get to 16 bits.\n",
    "The actual runtimes depend on the input data, e.g., the refinement of the brute-force algorithm\n",
    "is very fast on sparse inputs. However, for random inputs, the refinement of the brute-force is\n",
    "roughly 20% faster than the brute-force algorithm. The table-based approach is four times faster\n",
    "still, and using associativity reduces run time by another factor of two.\n",
    "Variant: Write expressions that use bitwise operators, equality checks, and Boolean operators to do\n",
    "the following in O(1) time.\n",
    "• Right propagate the rightmost set bit in x, e.g., turns (01010000)2 to (01011111)2.\n",
    "• Compute x modulo a power of two, e.g., returns 13 for 77 mod 64.\n",
    "• Test if x is a power of 2, i.e., evaluates to true for x = 1; 2; 4; 8; : : : ,false for all other values."
   ]
  },
  {
   "cell_type": "code",
   "execution_count": null,
   "metadata": {},
   "outputs": [],
   "source": []
  }
 ],
 "metadata": {
  "kernelspec": {
   "display_name": "Python 3",
   "language": "python",
   "name": "python3"
  },
  "language_info": {
   "codemirror_mode": {
    "name": "ipython",
    "version": 3
   },
   "file_extension": ".py",
   "mimetype": "text/x-python",
   "name": "python",
   "nbconvert_exporter": "python",
   "pygments_lexer": "ipython3",
   "version": "3.7.0"
  }
 },
 "nbformat": 4,
 "nbformat_minor": 2
}
