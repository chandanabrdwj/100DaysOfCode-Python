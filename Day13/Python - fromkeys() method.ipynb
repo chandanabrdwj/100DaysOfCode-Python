{
 "cells": [
  {
   "cell_type": "markdown",
   "metadata": {},
   "source": [
    "### Exploring fromkeys()"
   ]
  },
  {
   "cell_type": "markdown",
   "metadata": {},
   "source": [
    "[Source:] https://www.geeksforgeeks.org/python-dictionary-fromkeys-method/"
   ]
  },
  {
   "cell_type": "markdown",
   "metadata": {},
   "source": [
    "```\n",
    "The fromkeys() method returns a new dictionary with the given sequence of elements as the keys of the dictionary. If the value argument is set, each element of the newly created dictionary is set to the provided value.\n",
    "```"
   ]
  },
  {
   "cell_type": "markdown",
   "metadata": {},
   "source": [
    "```\n",
    "Syntax : fromkeys(seq, val)\n",
    "Parameters :\n",
    "seq : The sequence to be transformed into a dictionary.\n",
    "val : Initial values that need to be assigned to the generated keys. Defaults to None.\n",
    "Returns : A dictionary with keys mapped to None if no value is provided, else to the value provided in the field.\n",
    "```"
   ]
  },
  {
   "cell_type": "code",
   "execution_count": 5,
   "metadata": {},
   "outputs": [
    {
     "name": "stdout",
     "output_type": "stream",
     "text": [
      "The newly created dict with None values : {'e': None, 'c': None, 'a': None, 'b': None, 'd': None}\n",
      "The newly created dict with 1 as value : {'e': 1, 'c': 1, 'a': 1, 'b': 1, 'd': 1}\n"
     ]
    }
   ],
   "source": [
    "seq = { 'a', 'b', 'c', 'd', 'e' } \n",
    "res_dict = dict.fromkeys(seq) \n",
    "print (\"The newly created dict with None values : \" + str(res_dict)) \n",
    "res_dict2 = dict.fromkeys(seq, 1) \n",
    "print (\"The newly created dict with 1 as value : \" + str(res_dict2)) "
   ]
  },
  {
   "cell_type": "code",
   "execution_count": 6,
   "metadata": {},
   "outputs": [
    {
     "name": "stdout",
     "output_type": "stream",
     "text": [
      "The newly created dict with list values : {'e': [2, 3], 'c': [2, 3], 'a': [2, 3], 'b': [2, 3], 'd': [2, 3]}\n",
      "The dict with list values after appending : {'e': [2, 3, 4], 'c': [2, 3, 4], 'a': [2, 3, 4], 'b': [2, 3, 4], 'd': [2, 3, 4]}\n",
      "\n",
      "\n",
      "The newly created dict with list values : {'e': [2, 3], 'c': [2, 3], 'a': [2, 3], 'b': [2, 3], 'd': [2, 3]}\n",
      "The dict with list values after appending (no change) : {'e': [2, 3], 'c': [2, 3], 'a': [2, 3], 'b': [2, 3], 'd': [2, 3]}\n"
     ]
    }
   ],
   "source": [
    "seq = { 'a', 'b', 'c', 'd', 'e' } \n",
    "lis1 = [ 2, 3 ] \n",
    "res_dict = dict.fromkeys(seq, lis1) \n",
    "print (\"The newly created dict with list values : \"\n",
    "\t\t\t\t\t\t\t\t\t+ str(res_dict)) \n",
    "lis1.append(4) \n",
    "\n",
    "print (\"The dict with list values after appending : \"\n",
    "\t\t\t\t\t\t\t\t\t+ str(res_dict)) \n",
    "\n",
    "lis1 = [ 2, 3 ] \n",
    "print ('\\n') \n",
    "res_dict2 = { key : list(lis1) for key in seq } \n",
    "print (\"The newly created dict with list values : \"\n",
    "\t\t\t\t\t\t\t\t+ str(res_dict2)) \n",
    "lis1.append(4) \n",
    "print (\"The dict with list values after appending (no change) : \"\n",
    "\t\t\t\t\t\t\t\t\t\t\t+ str(res_dict2)) \n"
   ]
  },
  {
   "cell_type": "code",
   "execution_count": null,
   "metadata": {},
   "outputs": [],
   "source": []
  }
 ],
 "metadata": {
  "kernelspec": {
   "display_name": "Python 3",
   "language": "python",
   "name": "python3"
  },
  "language_info": {
   "codemirror_mode": {
    "name": "ipython",
    "version": 3
   },
   "file_extension": ".py",
   "mimetype": "text/x-python",
   "name": "python",
   "nbconvert_exporter": "python",
   "pygments_lexer": "ipython3",
   "version": "3.7.0"
  }
 },
 "nbformat": 4,
 "nbformat_minor": 2
}
