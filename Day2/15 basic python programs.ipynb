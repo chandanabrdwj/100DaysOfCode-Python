{
 "cells": [
  {
   "cell_type": "code",
   "execution_count": 28,
   "metadata": {},
   "outputs": [],
   "source": [
    "# https://www.geeksforgeeks.org/python-programming-examples/"
   ]
  },
  {
   "cell_type": "markdown",
   "metadata": {},
   "source": [
    "##### Add two numbers"
   ]
  },
  {
   "cell_type": "code",
   "execution_count": 1,
   "metadata": {},
   "outputs": [
    {
     "name": "stdout",
     "output_type": "stream",
     "text": [
      "sum of 15 and 12 is 27\n"
     ]
    }
   ],
   "source": [
    "num1 = 15\n",
    "num2 = 12\n",
    "\n",
    "sum = num1+num2\n",
    "\n",
    "print(\"sum of {0} and {1} is {2}\".format(num1,num2,sum))"
   ]
  },
  {
   "cell_type": "code",
   "execution_count": 3,
   "metadata": {},
   "outputs": [
    {
     "name": "stdout",
     "output_type": "stream",
     "text": [
      "First number:2\n",
      "second number:3\n",
      "The sum of 2 and 3 is 5.0\n"
     ]
    }
   ],
   "source": [
    "n1 = input(\"First number:\")\n",
    "n2 = input(\"second number:\")\n",
    "\n",
    "sum = float(n1) + float(n2)\n",
    "\n",
    "print(\"The sum of {0} and {1} is {2}\". format(n1,n2,sum))"
   ]
  },
  {
   "cell_type": "markdown",
   "metadata": {},
   "source": [
    "##### Factorial of a number"
   ]
  },
  {
   "cell_type": "code",
   "execution_count": 4,
   "metadata": {},
   "outputs": [
    {
     "name": "stdout",
     "output_type": "stream",
     "text": [
      "Factorial of 5 is 120\n"
     ]
    }
   ],
   "source": [
    "def factorial(n):\n",
    "    return 1 if (n==1 or n==0)else n * factorial(n-1);\n",
    "\n",
    "num = 5\n",
    "print(\"Factorial of\",num, \"is\", factorial(num))"
   ]
  },
  {
   "cell_type": "markdown",
   "metadata": {},
   "source": [
    "##### Simple Interest"
   ]
  },
  {
   "cell_type": "markdown",
   "metadata": {},
   "source": [
    "P = 1\n",
    "T = 1\n",
    "R = 1\n",
    "\n",
    "SI = (P*T*R) / 100\n",
    "\n",
    "print(\"simple interest is\", SI)"
   ]
  },
  {
   "cell_type": "markdown",
   "metadata": {},
   "source": [
    "##### Compound Interest"
   ]
  },
  {
   "cell_type": "code",
   "execution_count": 8,
   "metadata": {},
   "outputs": [
    {
     "name": "stdout",
     "output_type": "stream",
     "text": [
      "CI is 9998.371105373222\n"
     ]
    }
   ],
   "source": [
    "def compound_interest(p,r,t):\n",
    "    CI = p -(pow((1+r/100),t))\n",
    "    print(\"CI is\", CI)\n",
    "\n",
    "compound_interest(10000, 10.25, 5)\n",
    "\n",
    "\n",
    "    \n"
   ]
  },
  {
   "cell_type": "markdown",
   "metadata": {},
   "source": [
    "###### Check Armstrong number"
   ]
  },
  {
   "cell_type": "code",
   "execution_count": null,
   "metadata": {},
   "outputs": [],
   "source": [
    "\"\"\"\n",
    "abcd... = pow(a,n) + pow(b,n) + pow(c,n) + pow(d,n) + .... \n",
    "\n",
    "Input : 153\n",
    "Output : Yes\n",
    "153 is an Armstrong number.\n",
    "1*1*1 + 5*5*5 + 3*3*3 = 153\n",
    "\n",
    "Input : 120\n",
    "Output : No\n",
    "120 is not a Armstrong number.\n",
    "1*1*1 + 2*2*2 + 0*0*0 = 9\n",
    "\n",
    "\"\"\"\n",
    "# Python program to determine whether the number is \n",
    "# Armstrong number or not \n",
    "  \n",
    "# Function to calculate x raised to the power y \n",
    "def power(x, y): \n",
    "    if y==0: \n",
    "        return 1\n",
    "    if y%2==0: \n",
    "        return power(x, y/2)*power(x, y/2) \n",
    "    return x*power(x, y/2)*power(x, y/2) \n",
    "  \n",
    "# Function to calculate order of the number \n",
    "def order(x): \n",
    "  \n",
    "    # variable to store of the number \n",
    "    n = 0\n",
    "    while (x!=0): \n",
    "        n = n+1\n",
    "        x = x/10\n",
    "    return n \n",
    "  \n",
    "# Function to check whether the given number is \n",
    "# Armstrong number or not \n",
    "def isArmstrong (x): \n",
    "    n = order(x) \n",
    "    temp = x \n",
    "    sum1 = 0\n",
    "    while (temp!=0): \n",
    "        r = temp%10\n",
    "        sum1 = sum1 + power(r, n) \n",
    "        temp = temp/10\n",
    "  \n",
    "    # If condition satisfies \n",
    "    return (sum1 == x) \n",
    "  \n",
    "  \n",
    "# Driver Program \n",
    "x = 153\n",
    "print(isArmstrong(x)) \n",
    "x = 1253\n",
    "print(isArmstrong(x)) "
   ]
  },
  {
   "cell_type": "markdown",
   "metadata": {},
   "source": [
    "##### Area of circle"
   ]
  },
  {
   "cell_type": "code",
   "execution_count": 1,
   "metadata": {},
   "outputs": [
    {
     "name": "stdout",
     "output_type": "stream",
     "text": [
      "Area is 78.550000\n"
     ]
    }
   ],
   "source": [
    "def findArea(r):\n",
    "    PI = 3.142\n",
    "    return PI * (r*r)\n",
    "\n",
    "print(\"Area is %.6f\" %findArea(5))"
   ]
  },
  {
   "cell_type": "markdown",
   "metadata": {},
   "source": [
    "##### Print all the prime numbers in a given interval"
   ]
  },
  {
   "cell_type": "code",
   "execution_count": 2,
   "metadata": {},
   "outputs": [
    {
     "name": "stdout",
     "output_type": "stream",
     "text": [
      "11\n",
      "13\n",
      "17\n",
      "19\n",
      "23\n"
     ]
    }
   ],
   "source": [
    "start = 11\n",
    "end = 25\n",
    "\n",
    "for val in range(start, end+1):\n",
    "    if val > 1:\n",
    "        for n in range(2,val):\n",
    "            if(val % n) == 0:\n",
    "                break\n",
    "        else:\n",
    "            print(val)"
   ]
  },
  {
   "cell_type": "markdown",
   "metadata": {},
   "source": [
    "##### To check whether a number is prime or not"
   ]
  },
  {
   "cell_type": "code",
   "execution_count": 5,
   "metadata": {},
   "outputs": [
    {
     "name": "stdout",
     "output_type": "stream",
     "text": [
      "11 is a prime number\n"
     ]
    }
   ],
   "source": [
    "num = 11\n",
    "\n",
    "if num > 1:\n",
    "    for i in range(2,num//2):\n",
    "        if(num % i) == 0:\n",
    "            print(num, \"is not a prime number\")\n",
    "            break\n",
    "    else:\n",
    "        print(num,\"is a prime number\")\n",
    "else:\n",
    "    (num,\"is not a prime number\")\n",
    "    \n",
    "    "
   ]
  },
  {
   "cell_type": "code",
   "execution_count": 6,
   "metadata": {},
   "outputs": [
    {
     "name": "stdout",
     "output_type": "stream",
     "text": [
      "True\n",
      "False\n"
     ]
    }
   ],
   "source": [
    "def isPrime(n):\n",
    "    if(n <= 1):\n",
    "        return False\n",
    "    if(n <= 3):\n",
    "        return True\n",
    "    if (n % 2 == 0 or n % 3 == 0):\n",
    "        return False\n",
    "    \n",
    "    i = 5\n",
    "    while(i*i <= n):\n",
    "        if (n % i == 0 or n % (i + 2) == 0):\n",
    "            return False\n",
    "        i = i + 6\n",
    "        \n",
    "    return True\n",
    "\n",
    "if(isPrime(11)):\n",
    "    print(\"True\")\n",
    "else:\n",
    "    print(\"False\")\n",
    "\n",
    "if(isPrime(15)):\n",
    "    print(\"True\")\n",
    "else:\n",
    "    print(\"False\")\n",
    "    \n",
    "    "
   ]
  },
  {
   "cell_type": "markdown",
   "metadata": {},
   "source": [
    "###### For nth Fibonacci number"
   ]
  },
  {
   "cell_type": "code",
   "execution_count": 10,
   "metadata": {},
   "outputs": [
    {
     "name": "stdout",
     "output_type": "stream",
     "text": [
      "21\n"
     ]
    }
   ],
   "source": [
    "def Fibonacci(n):\n",
    "    if n<0:\n",
    "        print(\"incorrect input\")\n",
    "    elif n==1:\n",
    "        return 0\n",
    "    elif n==2:\n",
    "        return 1\n",
    "    else:\n",
    "        return Fibonacci(n-1)+Fibonacci(n-2)\n",
    "        \n",
    "print(Fibonacci(9))"
   ]
  },
  {
   "cell_type": "code",
   "execution_count": 11,
   "metadata": {},
   "outputs": [
    {
     "name": "stdout",
     "output_type": "stream",
     "text": [
      "21\n"
     ]
    }
   ],
   "source": [
    "FibArray = [0,1]\n",
    "\n",
    "def fibonacci(n):\n",
    "    if n<0:\n",
    "        print(\"Incorrect input\")\n",
    "    elif n<=len(FibArray):\n",
    "        return FibArray[n-1]\n",
    "    else:\n",
    "        temp_fib = fibonacci(n-1)+fibonacci(n-2)\n",
    "        FibArray.append(temp_fib)\n",
    "        return temp_fib\n",
    "    \n",
    "print(fibonacci(9))"
   ]
  },
  {
   "cell_type": "code",
   "execution_count": 12,
   "metadata": {},
   "outputs": [
    {
     "name": "stdout",
     "output_type": "stream",
     "text": [
      "21\n"
     ]
    }
   ],
   "source": [
    "def fibonacci(n):\n",
    "    a = 0\n",
    "    b = 1\n",
    "    if n < 0:\n",
    "        print(\"incorrect input\")\n",
    "    elif n==0:\n",
    "        return a\n",
    "    elif n==1:\n",
    "        return b\n",
    "    else:\n",
    "        for i in range(2,n):\n",
    "            c = a+b\n",
    "            a = b\n",
    "            b = c\n",
    "        return b \n",
    "    \n",
    "print(fibonacci(9))\n",
    "        "
   ]
  },
  {
   "cell_type": "markdown",
   "metadata": {},
   "source": [
    "#### To check if a number is fibonacci or not"
   ]
  },
  {
   "cell_type": "code",
   "execution_count": 13,
   "metadata": {},
   "outputs": [
    {
     "name": "stdout",
     "output_type": "stream",
     "text": [
      "1 is a fibonacci number\n",
      "2 is a fibonacci number\n",
      "3 is a fibonacci number\n",
      "4 is not a fibonacci number\n",
      "5 is a fibonacci number\n",
      "6 is not a fibonacci number\n",
      "7 is not a fibonacci number\n",
      "8 is a fibonacci number\n",
      "9 is not a fibonacci number\n",
      "10 is not a fibonacci number\n"
     ]
    }
   ],
   "source": [
    "\"\"\"\n",
    "Following is an interesting property about Fibonacci numbers that \n",
    "can also be used to check if a given number is Fibonacci or not.\n",
    "A number is Fibonacci if and only if one or both of \n",
    "(5*n2 + 4) or (5*n2 – 4) is a perfect square\n",
    "\"\"\"\n",
    "\n",
    "# Program to check if x is a perfext square\n",
    "import math\n",
    "\n",
    "def isPerfectSquare(x):\n",
    "    s = int(math.sqrt(x))\n",
    "    return s*s == x\n",
    "\n",
    "def isFibonacci(n):\n",
    "    return isPerfectSquare(5*n*n + 4) or isPerfectSquare(5*n*n - 4)\n",
    "\n",
    "for i in range(1,11):\n",
    "    if (isFibonacci(i) == True):\n",
    "        print(i,\"is a fibonacci number\")\n",
    "    else:\n",
    "        print(i,\"is not a fibonacci number\")\n"
   ]
  },
  {
   "cell_type": "markdown",
   "metadata": {},
   "source": [
    "#### ASCII of a number\n"
   ]
  },
  {
   "cell_type": "code",
   "execution_count": 15,
   "metadata": {},
   "outputs": [
    {
     "name": "stdout",
     "output_type": "stream",
     "text": [
      "The ASCII value of ' g ' is 103\n"
     ]
    }
   ],
   "source": [
    "\"\"\"\n",
    "ord() : It coverts the given string of length one, \n",
    "return an integer representing the unicode code point of \n",
    "the character. For example, ord(‘a’) returns the integer 97.\n",
    "\"\"\"\n",
    "\n",
    "c = 'g'\n",
    "print(\"The ASCII value of ' \"+ c + \" ' is\", ord(c))"
   ]
  },
  {
   "cell_type": "markdown",
   "metadata": {},
   "source": [
    "##### Sum of squares of first n natural numbers"
   ]
  },
  {
   "cell_type": "code",
   "execution_count": 23,
   "metadata": {},
   "outputs": [
    {
     "name": "stdout",
     "output_type": "stream",
     "text": [
      "30\n"
     ]
    }
   ],
   "source": [
    "# The task is to find 12 + 22 + 32 + ….. + N2.\n",
    "\n",
    "\n",
    "def squaresum(n):\n",
    "    sm = 0 \n",
    "    for i in range(1,n+1):\n",
    "        sm = sm + (i*i)\n",
    "    return sm\n",
    "\n",
    "n=4\n",
    "print(squaresum(n))"
   ]
  },
  {
   "cell_type": "code",
   "execution_count": 24,
   "metadata": {},
   "outputs": [
    {
     "name": "stdout",
     "output_type": "stream",
     "text": [
      "30\n"
     ]
    }
   ],
   "source": [
    "def squaresum(n):\n",
    "    return (n * (n+1) * (2*n+1)) // 6\n",
    "\n",
    "n = 4\n",
    "print(squaresum(n))"
   ]
  },
  {
   "cell_type": "code",
   "execution_count": 25,
   "metadata": {},
   "outputs": [
    {
     "name": "stdout",
     "output_type": "stream",
     "text": [
      "30.0\n"
     ]
    }
   ],
   "source": [
    "def squaresum(n):\n",
    "    return (n * (n+1)/2) * (2*n+1) / 3\n",
    "\n",
    "n = 4\n",
    "print(squaresum(n))"
   ]
  },
  {
   "cell_type": "markdown",
   "metadata": {},
   "source": [
    "###### Cube sum of first n natural numbers"
   ]
  },
  {
   "cell_type": "code",
   "execution_count": 26,
   "metadata": {
    "scrolled": true
   },
   "outputs": [
    {
     "name": "stdout",
     "output_type": "stream",
     "text": [
      "225\n"
     ]
    }
   ],
   "source": [
    "def sumOfSeries(n):\n",
    "    sum = 0 \n",
    "    for i in range(1, n+1):\n",
    "        sum += i*i*i\n",
    "    return sum\n",
    "\n",
    "n = 5\n",
    "print(sumOfSeries(n))\n"
   ]
  },
  {
   "cell_type": "code",
   "execution_count": 27,
   "metadata": {},
   "outputs": [
    {
     "name": "stdout",
     "output_type": "stream",
     "text": [
      "225\n"
     ]
    }
   ],
   "source": [
    "def sumOfSeries(n):\n",
    "    x = (n*(n+1)/2)\n",
    "    return (int) (x*x)\n",
    "\n",
    "n = 5\n",
    "print(sumOfSeries(n))"
   ]
  },
  {
   "cell_type": "markdown",
   "metadata": {},
   "source": [
    "###### Sum of array"
   ]
  },
  {
   "cell_type": "code",
   "execution_count": 31,
   "metadata": {},
   "outputs": [
    {
     "name": "stdout",
     "output_type": "stream",
     "text": [
      "sum of the array is 37\n"
     ]
    }
   ],
   "source": [
    "def _sum(arr,n):\n",
    "    return(sum(arr))\n",
    "\n",
    "arr = []\n",
    "arr = [12,3,6,7,9]\n",
    "\n",
    "n = len(arr)\n",
    "\n",
    "ans = _sum(arr,n)\n",
    "\n",
    "print(\"sum of the array is\",ans)"
   ]
  },
  {
   "cell_type": "markdown",
   "metadata": {},
   "source": [
    "##### Find the largest element in an array"
   ]
  },
  {
   "cell_type": "code",
   "execution_count": 32,
   "metadata": {},
   "outputs": [
    {
     "name": "stdout",
     "output_type": "stream",
     "text": [
      "largest in the given array is 98\n"
     ]
    }
   ],
   "source": [
    "def largest(arr,n):\n",
    "    max = arr[0]\n",
    "    \n",
    "    for i in range(1,n):\n",
    "        if arr[i] > max:\n",
    "            max = arr[i]\n",
    "    return max\n",
    "\n",
    "arr = [10,23,98,65]\n",
    "n = len(arr)\n",
    "Ans = largest(arr,n)\n",
    "print(\"largest in the given array is\", Ans)\n",
    "     "
   ]
  },
  {
   "cell_type": "markdown",
   "metadata": {},
   "source": [
    "##### Array rotation"
   ]
  },
  {
   "cell_type": "code",
   "execution_count": 34,
   "metadata": {},
   "outputs": [
    {
     "name": "stdout",
     "output_type": "stream",
     "text": [
      "3 4 5 6 7 1 2 "
     ]
    }
   ],
   "source": [
    "\"\"\"\n",
    "To rotate by one, store arr[0] in a temporary variable temp, move arr[1] to arr[0], arr[2] to arr[1] …and finally temp to arr[n-1]\n",
    "\n",
    "Let us take the same example arr[] = [1, 2, 3, 4, 5, 6, 7], d = 2\n",
    "Rotate arr[] by one 2 times\n",
    "We get [2, 3, 4, 5, 6, 7, 1] after first rotation and [ 3, 4, 5, 6, 7, 1, 2] after second rotation.\n",
    "\n",
    "\"\"\"\n",
    "\n",
    "# function to left rotate arr[] of size n by d\n",
    "def leftRotate(arr,d,n):\n",
    "    for i in range(d):\n",
    "        leftRotatebyOne(arr,n)\n",
    "        \n",
    "def leftRotatebyOne(arr,n):\n",
    "    temp = arr[0]\n",
    "    for i in range(n-1):\n",
    "        arr[i] = arr[i+1]\n",
    "    arr[n-1] = temp\n",
    "      \n",
    "def printArray(arr,size):\n",
    "    for i in range(size):\n",
    "        print(\"%d\"% arr[i],end=\" \")\n",
    "        \n",
    "arr = [1,2,3,4,5,6,7]\n",
    "leftRotate(arr,2,7)\n",
    "printArray(arr,7)\n",
    "\n",
    "        "
   ]
  },
  {
   "cell_type": "code",
   "execution_count": 36,
   "metadata": {},
   "outputs": [
    {
     "name": "stdout",
     "output_type": "stream",
     "text": [
      "3 4 5 6 7 1 2 "
     ]
    }
   ],
   "source": [
    "#Function to left rotate arr[] of size n by d\n",
    "\n",
    "def leftRotate(arr, d, n):\n",
    "    for i in range (gcd(d,n)):\n",
    "        \n",
    "        temp = arr[i]\n",
    "        j = i \n",
    "        while 1:\n",
    "            k = j + d\n",
    "            if k >= n:\n",
    "                k = k - n\n",
    "            if k == i:\n",
    "                break\n",
    "            arr[j] = arr[k]\n",
    "            j = k\n",
    "        arr[j] = temp\n",
    "\n",
    "def printArray(arr, size):\n",
    "    for i in range (size):\n",
    "        print(\"%d\" % arr[i], end=' ')\n",
    "\n",
    "def gcd(a,b):\n",
    "    if b == 0:\n",
    "        return a;\n",
    "    else:\n",
    "        return gcd(b, a%b)\n",
    "\n",
    "arr = [1,2,3,4,5,6,7]\n",
    "leftRotate(arr,2,7)\n",
    "printArray(arr,7)  \n",
    "    \n",
    "        \n",
    "        \n"
   ]
  },
  {
   "cell_type": "code",
   "execution_count": null,
   "metadata": {},
   "outputs": [],
   "source": []
  }
 ],
 "metadata": {
  "kernelspec": {
   "display_name": "Python 3",
   "language": "python",
   "name": "python3"
  },
  "language_info": {
   "codemirror_mode": {
    "name": "ipython",
    "version": 3
   },
   "file_extension": ".py",
   "mimetype": "text/x-python",
   "name": "python",
   "nbconvert_exporter": "python",
   "pygments_lexer": "ipython3",
   "version": "3.7.0"
  }
 },
 "nbformat": 4,
 "nbformat_minor": 2
}
