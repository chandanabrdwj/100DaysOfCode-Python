{
 "cells": [
  {
   "cell_type": "markdown",
   "metadata": {},
   "source": [
    "https://www.sanfoundry.com/1000-python-questions-answers/"
   ]
  },
  {
   "cell_type": "markdown",
   "metadata": {},
   "source": [
    "```\n",
    "1. Is Python case sensitive when dealing with identifiers?\n",
    "\n",
    "Yes\n",
    "```"
   ]
  },
  {
   "cell_type": "markdown",
   "metadata": {},
   "source": [
    "```\n",
    "2. What is the maximum possible length of an identifier?\n",
    "\n",
    "It can be of any length.\n",
    "```"
   ]
  },
  {
   "cell_type": "markdown",
   "metadata": {},
   "source": [
    "```\n",
    "3. Which of the following is invalid?\n",
    "a) _a = 1\n",
    "b) __a = 1\n",
    "c) __str__ = 1\n",
    "d) none of the mentioned\n",
    "\n",
    "Explanation: All the statements will execute successfully but at the cost of reduced readability.\n",
    "```"
   ]
  },
  {
   "cell_type": "markdown",
   "metadata": {},
   "source": [
    "```\n",
    "4. Which of the following is an invalid variable?\n",
    "a) my_string_1\n",
    "b) 1st_string\n",
    "c) foo\n",
    "d) _\n",
    "\n",
    "Answer: b\n",
    "Explanation:Variable names should not start with a number.\n",
    "```"
   ]
  },
  {
   "cell_type": "markdown",
   "metadata": {},
   "source": [
    "```\n",
    "5. Why are local variable names beginning with an underscore discouraged?\n",
    "a) they are used to indicate a private variables of a class\n",
    "b) they confuse the interpreter\n",
    "c) they are used to indicate global variables\n",
    "d) they slow down execution\n",
    "\n",
    "Answer: a\n",
    "Explanation: As Python has no concept of private variables, leading underscores are used to indicate variables that must not be accessed from outside the class.\n",
    "\n",
    "```"
   ]
  },
  {
   "cell_type": "markdown",
   "metadata": {},
   "source": [
    "```\n",
    "6. Which of the following is not a keyword?\n",
    "a) eval\n",
    "b) assert\n",
    "c) nonlocal\n",
    "d) pass\n",
    "\n",
    "Answer: a\n",
    "Explanation: eval can be used as a variable.\n",
    "```"
   ]
  },
  {
   "cell_type": "markdown",
   "metadata": {},
   "source": [
    "```\n",
    "7. All keywords in Python are in _________\n",
    "a) lower case\n",
    "b) UPPER CASE\n",
    "c) Capitalized\n",
    "d) None of the mentioned\n",
    "\n",
    "Answer: d\n",
    "Explanation: True, False and None are capitalized while the others are in lower case.\n",
    "```"
   ]
  },
  {
   "cell_type": "markdown",
   "metadata": {},
   "source": [
    "```\n",
    "8. Which of the following is true for variable names in Python?\n",
    "a) unlimited length\n",
    "b) all private members must have leading and trailing underscores\n",
    "c) underscore and ampersand are the only two special characters allowed\n",
    "d) none of the mentioned\n",
    "\n",
    "Answer: a\n",
    "Explanation: Variable names can be of any length.\n",
    "```"
   ]
  },
  {
   "cell_type": "markdown",
   "metadata": {},
   "source": [
    "```\n",
    "9. Which of the following is an invalid statement?\n",
    "a) abc = 1,000,000\n",
    "b) a b c = 1000 2000 3000\n",
    "c) a,b,c = 1000, 2000, 3000\n",
    "d) a_b_c = 1,000,000\n",
    "\n",
    "Answer: b\n",
    "Explanation: Spaces are not allowed in variable names.\n",
    "```"
   ]
  },
  {
   "cell_type": "markdown",
   "metadata": {},
   "source": [
    "```\n",
    "10. Which of the following cannot be a variable?\n",
    "a) __init__\n",
    "b) in\n",
    "c) it\n",
    "d) on\n",
    "\n",
    "Answer: b\n",
    "Explanation: in is a keyword.\n",
    "```"
   ]
  },
  {
   "cell_type": "markdown",
   "metadata": {},
   "source": [
    "```\n",
    "11. Which of these in not a core data type?\n",
    "a) Lists\n",
    "b) Dictionary\n",
    "c) Tuples\n",
    "d) Class\n",
    "\n",
    "Answer: d\n",
    "Explanation: Class is a user defined data type.\n",
    "```"
   ]
  },
  {
   "cell_type": "markdown",
   "metadata": {},
   "source": [
    "```\n",
    "12. Given a function that does not return any value, What value is thrown by default when executed in shell.\n",
    "a) int\n",
    "b) bool\n",
    "c) void\n",
    "d) None\n",
    "\n",
    "Answer: d\n",
    "Explanation: Python shell throws a NoneType object back.\n",
    "```"
   ]
  },
  {
   "cell_type": "markdown",
   "metadata": {},
   "source": [
    "```\n",
    "13. What will be the output of the following Python code?\n",
    "\n",
    ">>>str=\"hello\"\n",
    ">>>str[:2]\n",
    ">>>\n",
    "a) he\n",
    "b) lo\n",
    "c) olleh\n",
    "d) hello\n",
    "\n",
    "Answer: a\n",
    "Explanation: We are printing only the 1st two bytes of string and hence the answer is “he”.\n",
    "```"
   ]
  },
  {
   "cell_type": "markdown",
   "metadata": {},
   "source": [
    "```\n",
    "14. Which of the following will run without errors?\n",
    "a) round(45.8)\n",
    "b) round(6352.898,2,5)\n",
    "c) round()\n",
    "d) round(7463.123,2,1)\n",
    "\n",
    "Answer: a\n",
    "Explanation: Execute help(round) in the shell to get details of the parameters that are passed into the round function.\n",
    "```"
   ]
  },
  {
   "cell_type": "markdown",
   "metadata": {},
   "source": [
    "```\n",
    "15. What is the return type of function id?\n",
    "a) int\n",
    "b) float\n",
    "c) bool\n",
    "d) dict\n",
    "\n",
    "Answer: a\n",
    "Explanation: Execute help(id) to find out details in python shell.id returns a integer value that is unique.\n",
    "```"
   ]
  },
  {
   "cell_type": "markdown",
   "metadata": {},
   "source": [
    "```\n",
    "16. In python we do not specify types, it is directly interpreted by the compiler, so consider the following operation to be performed.\n",
    "\n",
    ">>>x = 13 ? 2\n",
    "objective is to make sure x has a integer value, select all that apply (python 3.xx)\n",
    "a) x = 13 // 2\n",
    "b) x = int(13 / 2)\n",
    "c) x = 13 % 2\n",
    "d) All of the mentioned\n",
    "\n",
    "Answer: d\n",
    "Explanation: // is integer operation in python 3.0 and int(..) is a type cast operator.\n",
    "```"
   ]
  },
  {
   "cell_type": "markdown",
   "metadata": {},
   "source": [
    "```\n",
    "17. What error occurs when you execute the following Python code snippet?\n",
    "\n",
    "apple = mango\n",
    "a) SyntaxError\n",
    "b) NameError\n",
    "c) ValueError\n",
    "d) TypeError\n",
    "\n",
    "Answer: b\n",
    "Explanation: Mango is not defined hence name error.\n",
    "```"
   ]
  },
  {
   "cell_type": "markdown",
   "metadata": {},
   "source": [
    "```\n",
    "18. What will be the output of the following Python code snippet?\n",
    "\n",
    "def example(a):\n",
    "    a = a + '2'\n",
    "     a = a*2\n",
    "    return a\n",
    ">>>example(\"hello\")\n",
    "a) indentation Error\n",
    "b) cannot perform mathematical operation on strings\n",
    "c) hello2\n",
    "d) hello2hello2\n",
    "\n",
    "Answer: a\n",
    "Explanation: Python codes have to be indented properly.\n",
    "```"
   ]
  },
  {
   "cell_type": "markdown",
   "metadata": {},
   "source": [
    "```\n",
    "19. What data type is the object below?\n",
    "\n",
    "L = [1, 23, 'hello', 1]\n",
    "a) list\n",
    "b) dictionary\n",
    "c) array\n",
    "d) tuple\n",
    "\n",
    "Answer: a\n",
    "Explanation: List data type can store any values within it.\n",
    "```"
   ]
  },
  {
   "cell_type": "markdown",
   "metadata": {},
   "source": [
    "```\n",
    "20. In order to store values in terms of key and value we use what core data type.\n",
    "a) list\n",
    "b) tuple\n",
    "c) class\n",
    "d) dictionary\n",
    "View Answer\n",
    "\n",
    "Answer: d\n",
    "Explanation: Dictionary stores values in terms of keys and values.\n",
    "```"
   ]
  }
 ],
 "metadata": {
  "kernelspec": {
   "display_name": "Python 3",
   "language": "python",
   "name": "python3"
  },
  "language_info": {
   "codemirror_mode": {
    "name": "ipython",
    "version": 3
   },
   "file_extension": ".py",
   "mimetype": "text/x-python",
   "name": "python",
   "nbconvert_exporter": "python",
   "pygments_lexer": "ipython3",
   "version": "3.7.0"
  }
 },
 "nbformat": 4,
 "nbformat_minor": 2
}
