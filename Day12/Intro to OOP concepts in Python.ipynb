{
 "cells": [
  {
   "cell_type": "markdown",
   "metadata": {},
   "source": [
    "[Source:] https://www.geeksforgeeks.org/python3-intermediate-level-topics/"
   ]
  },
  {
   "cell_type": "markdown",
   "metadata": {},
   "source": [
    "### Classes"
   ]
  },
  {
   "cell_type": "code",
   "execution_count": 3,
   "metadata": {},
   "outputs": [
    {
     "name": "stdout",
     "output_type": "stream",
     "text": [
      "chan 1337\n"
     ]
    }
   ],
   "source": [
    "class MyClass:   \n",
    "        \n",
    "        number = 0       \n",
    "        name = \"noname\"\n",
    "  \n",
    "def Main(): \n",
    "        me = MyClass()  \n",
    "        me.number = 1337    \n",
    "        me.name = \"chan\"\n",
    "        print(me.name + \" \" + str(me.number)) \n",
    "if __name__=='__main__':   \n",
    "        Main() "
   ]
  },
  {
   "cell_type": "markdown",
   "metadata": {},
   "source": [
    "### Methods"
   ]
  },
  {
   "cell_type": "code",
   "execution_count": 4,
   "metadata": {},
   "outputs": [
    {
     "name": "stdout",
     "output_type": "stream",
     "text": [
      "X: 5, Y: 6\n"
     ]
    }
   ],
   "source": [
    "class Vector2D: \n",
    "        x = 0.0\n",
    "        y = 0.0  \n",
    "        \n",
    "        def Set(self, x, y):      \n",
    "                self.x = x \n",
    "                self.y = y \n",
    "  \n",
    "def Main(): \n",
    "        vec = Vector2D()                    \n",
    "        vec.Set(5, 6)        \n",
    "        print(\"X: \" + str(vec.x) + \", Y: \" + str(vec.y))   \n",
    "if __name__=='__main__': \n",
    "        Main() "
   ]
  },
  {
   "cell_type": "markdown",
   "metadata": {},
   "source": [
    "### Inheritance"
   ]
  },
  {
   "cell_type": "code",
   "execution_count": 6,
   "metadata": {},
   "outputs": [
    {
     "name": "stdout",
     "output_type": "stream",
     "text": [
      "Is jess a cat? True\n",
      "Is jess a pet? True\n",
      "Is the pet a cat? False\n",
      "Is thePet a Pet? True\n",
      "Jess\n"
     ]
    }
   ],
   "source": [
    "class Pet: \n",
    "        def __init__(self, name, age):      \n",
    "                self.name = name \n",
    "                self.age = age \n",
    "  \n",
    "class Cat(Pet):          \n",
    "        def __init__(self, name, age): \n",
    "                super().__init__(name, age)  \n",
    "  \n",
    "def Main(): \n",
    "        thePet = Pet(\"Pet\", 1) \n",
    "        jess = Cat(\"Jess\", 3)           \n",
    "        print(\"Is jess a cat? \" +str(isinstance(jess, Cat))) \n",
    "        print(\"Is jess a pet? \" +str(isinstance(jess, Pet))) \n",
    "        print(\"Is the pet a cat? \"+str(isinstance(thePet, Cat))) \n",
    "        print(\"Is thePet a Pet? \" +str(isinstance(thePet, Pet))) \n",
    "        print(jess.name) \n",
    "  \n",
    "if __name__=='__main__': \n",
    "        Main() "
   ]
  },
  {
   "cell_type": "markdown",
   "metadata": {},
   "source": [
    "### Iterators"
   ]
  },
  {
   "cell_type": "code",
   "execution_count": 7,
   "metadata": {},
   "outputs": [
    {
     "name": "stdout",
     "output_type": "stream",
     "text": [
      "e\n",
      "l\n",
      "c\n",
      "i\n",
      "s\n",
      "p\n",
      "a\n",
      "r\n",
      "D\n"
     ]
    }
   ],
   "source": [
    "class Reverse: \n",
    "    def __init__(self, data): \n",
    "        self.data = data \n",
    "        self.index = len(data)         \n",
    "  \n",
    "    def __iter__(self): \n",
    "        return self\n",
    "      \n",
    "    def __next__(self): \n",
    "        if self.index == 0: \n",
    "            raise StopIteration     \n",
    "        self.index-= 1\n",
    "        return self.data[self.index] \n",
    "  \n",
    "def Main(): \n",
    "    rev = Reverse('Drapsicle') \n",
    "    for char in rev: \n",
    "        print(char) \n",
    "  \n",
    "if __name__=='__main__': \n",
    "    Main() "
   ]
  },
  {
   "cell_type": "markdown",
   "metadata": {},
   "source": [
    "### Generators"
   ]
  },
  {
   "cell_type": "code",
   "execution_count": 8,
   "metadata": {},
   "outputs": [
    {
     "name": "stdout",
     "output_type": "stream",
     "text": [
      "h\n",
      "s\n",
      "s\n",
      "r\n",
      "a\n",
      "H\n",
      "['h', 's', 's', 'r', 'a', 'H']\n"
     ]
    }
   ],
   "source": [
    "def Reverse(data):  \n",
    "    for index in range(len(data)-1, -1, -1): \n",
    "        yield data[index] \n",
    "  \n",
    "def Main(): \n",
    "    rev = Reverse('Harssh') \n",
    "    for char in rev: \n",
    "        print(char) \n",
    "    data ='Harssh'\n",
    "    print(list(data[i] for i in range(len(data)-1, -1, -1))) \n",
    "  \n",
    "if __name__==\"__main__\": \n",
    "    Main() "
   ]
  },
  {
   "cell_type": "code",
   "execution_count": null,
   "metadata": {},
   "outputs": [],
   "source": []
  }
 ],
 "metadata": {
  "kernelspec": {
   "display_name": "Python 3",
   "language": "python",
   "name": "python3"
  },
  "language_info": {
   "codemirror_mode": {
    "name": "ipython",
    "version": 3
   },
   "file_extension": ".py",
   "mimetype": "text/x-python",
   "name": "python",
   "nbconvert_exporter": "python",
   "pygments_lexer": "ipython3",
   "version": "3.7.0"
  }
 },
 "nbformat": 4,
 "nbformat_minor": 2
}
