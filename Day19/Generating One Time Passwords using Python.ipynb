{
 "cells": [
  {
   "cell_type": "markdown",
   "metadata": {},
   "source": [
    "[Source:]  https://www.geeksforgeeks.org/python-program-to-generate-one-time-password-otp/"
   ]
  },
  {
   "cell_type": "markdown",
   "metadata": {},
   "source": [
    "#### Generating 4 digit numeric OTP"
   ]
  },
  {
   "cell_type": "code",
   "execution_count": 16,
   "metadata": {},
   "outputs": [
    {
     "name": "stdout",
     "output_type": "stream",
     "text": [
      "OTP of 4 digits: 9991\n"
     ]
    }
   ],
   "source": [
    "import math, random \n",
    "\n",
    "def generateOTP() : \n",
    "\tdigits = \"0123456789\"\n",
    "\tOTP = \"\" \n",
    "\n",
    "\tfor i in range(4) : \n",
    "\t\tOTP += digits[math.floor(random.random() * 10)] \n",
    "\treturn OTP \n",
    "\n",
    "if __name__ == \"__main__\" : \n",
    "\t\n",
    "\tprint(\"OTP of 4 digits:\", generateOTP()) \n"
   ]
  },
  {
   "cell_type": "markdown",
   "metadata": {},
   "source": [
    "#### Generating alphanumeric OTP of length 6"
   ]
  },
  {
   "cell_type": "code",
   "execution_count": 17,
   "metadata": {},
   "outputs": [
    {
     "name": "stdout",
     "output_type": "stream",
     "text": [
      "OTP of length 6: gOnOWq\n"
     ]
    }
   ],
   "source": [
    "import math, random \n",
    "\n",
    "def generateOTP() : \n",
    "\tstring = '0123456789abcdefghijklmnopqrstuvwxyzABCDEFGHIJKLMNOPQRSTUVWXYZ'\n",
    "\tOTP = \"\" \n",
    "\tlength = len(string) \n",
    "\tfor i in range(6) : \n",
    "\t\tOTP += string[math.floor(random.random() * length)] \n",
    "\n",
    "\treturn OTP \n",
    "if __name__ == \"__main__\" : \n",
    "\t\n",
    "\tprint(\"OTP of length 6:\", generateOTP()) \n"
   ]
  },
  {
   "cell_type": "markdown",
   "metadata": {},
   "source": [
    "#### Generating OTP using string constants"
   ]
  },
  {
   "cell_type": "code",
   "execution_count": 18,
   "metadata": {},
   "outputs": [
    {
     "name": "stdout",
     "output_type": "stream",
     "text": [
      "Z4wF44EA0v\n"
     ]
    }
   ],
   "source": [
    "import random \n",
    "import string \n",
    "\t\n",
    "def rand_pass(size): \n",
    "\t\t\n",
    "\tgenerate_pass = ''.join([random.choice( string.ascii_uppercase +\n",
    "\t\t\t\t\t\t\t\t\t\t\tstring.ascii_lowercase +\n",
    "\t\t\t\t\t\t\t\t\t\t\tstring.digits) \n",
    "\t\t\t\t\t\t\t\t\t\t\tfor n in range(size)]) \n",
    "\t\t\t\t\t\t\t\n",
    "\treturn generate_pass \n",
    "\t\n",
    "password = rand_pass(10) \n",
    "print(password) \n"
   ]
  },
  {
   "cell_type": "code",
   "execution_count": null,
   "metadata": {},
   "outputs": [],
   "source": []
  }
 ],
 "metadata": {
  "kernelspec": {
   "display_name": "Python 3",
   "language": "python",
   "name": "python3"
  },
  "language_info": {
   "codemirror_mode": {
    "name": "ipython",
    "version": 3
   },
   "file_extension": ".py",
   "mimetype": "text/x-python",
   "name": "python",
   "nbconvert_exporter": "python",
   "pygments_lexer": "ipython3",
   "version": "3.7.0"
  }
 },
 "nbformat": 4,
 "nbformat_minor": 2
}
