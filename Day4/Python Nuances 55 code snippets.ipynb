{
 "cells": [
  {
   "cell_type": "markdown",
   "metadata": {},
   "source": [
    "### [Sources:]\n",
    "\n",
    "https://medium.com/towards-artificial-intelligence/50-python-3-tips-tricks-e5dbe05212d7\n",
    "\n",
    "https://www.tutorialspoint.com/10-interesting-python-cool-tricks\n"
   ]
  },
  {
   "cell_type": "markdown",
   "metadata": {},
   "source": [
    "#### 1. Creating a sequence of numbers (using range)"
   ]
  },
  {
   "cell_type": "code",
   "execution_count": 9,
   "metadata": {},
   "outputs": [
    {
     "name": "stdout",
     "output_type": "stream",
     "text": [
      "0 2 4 6 8 "
     ]
    }
   ],
   "source": [
    "for i in range(0,10,2):\n",
    "    print(i, end= \" \")"
   ]
  },
  {
   "cell_type": "markdown",
   "metadata": {},
   "source": [
    "#### 2. Summing a sequence of numbers (using range)"
   ]
  },
  {
   "cell_type": "code",
   "execution_count": 11,
   "metadata": {},
   "outputs": [
    {
     "data": {
      "text/plain": [
       "20"
      ]
     },
     "execution_count": 11,
     "metadata": {},
     "output_type": "execute_result"
    }
   ],
   "source": [
    "l = range(0,10,2)\n",
    "sum(l)"
   ]
  },
  {
   "cell_type": "markdown",
   "metadata": {},
   "source": [
    "#### 3. Checking whether any element in the sequence is even (using any)"
   ]
  },
  {
   "cell_type": "code",
   "execution_count": 12,
   "metadata": {},
   "outputs": [
    {
     "data": {
      "text/plain": [
       "True"
      ]
     },
     "execution_count": 12,
     "metadata": {},
     "output_type": "execute_result"
    }
   ],
   "source": [
    "any(a%2 == 0 for a in range(0,10,2))"
   ]
  },
  {
   "cell_type": "markdown",
   "metadata": {},
   "source": [
    "#### 4. Checking whether all elements in the sequence are even (using all)"
   ]
  },
  {
   "cell_type": "code",
   "execution_count": 13,
   "metadata": {},
   "outputs": [
    {
     "data": {
      "text/plain": [
       "True"
      ]
     },
     "execution_count": 13,
     "metadata": {},
     "output_type": "execute_result"
    }
   ],
   "source": [
    "all(a%2 == 0 for a in range (0,10,2))"
   ]
  },
  {
   "cell_type": "markdown",
   "metadata": {},
   "source": [
    "#### 5. Cumulative summing a sequence of numbers (using cumsum)"
   ]
  },
  {
   "cell_type": "code",
   "execution_count": 14,
   "metadata": {},
   "outputs": [
    {
     "data": {
      "text/plain": [
       "[0, 2, 6, 12, 20]"
      ]
     },
     "execution_count": 14,
     "metadata": {},
     "output_type": "execute_result"
    }
   ],
   "source": [
    "import numpy as np\n",
    "res = list(np.cumsum(range(0,10,2)))\n",
    "res"
   ]
  },
  {
   "cell_type": "markdown",
   "metadata": {},
   "source": [
    "#### 7. Given each iterable we construct a tuple by adding an index (using enumerate)"
   ]
  },
  {
   "cell_type": "code",
   "execution_count": 15,
   "metadata": {},
   "outputs": [
    {
     "data": {
      "text/plain": [
       "[(0, 'Hello'), (1, 'world'), (2, '!')]"
      ]
     },
     "execution_count": 15,
     "metadata": {},
     "output_type": "execute_result"
    }
   ],
   "source": [
    "a = ['Hello', 'world', '!']\n",
    "list(enumerate(a))"
   ]
  },
  {
   "cell_type": "markdown",
   "metadata": {},
   "source": [
    "#### 8. Concatenating iterable to a single string (uisng join)"
   ]
  },
  {
   "cell_type": "code",
   "execution_count": 16,
   "metadata": {},
   "outputs": [
    {
     "data": {
      "text/plain": [
       "'python really rocks'"
      ]
     },
     "execution_count": 16,
     "metadata": {},
     "output_type": "execute_result"
    }
   ],
   "source": [
    "a = ['python','really','rocks']\n",
    "\" \".join(a)"
   ]
  },
  {
   "cell_type": "markdown",
   "metadata": {},
   "source": [
    "#### 9. Combining two iterable of tuples or pivot nested iterables (using zip)"
   ]
  },
  {
   "cell_type": "code",
   "execution_count": 27,
   "metadata": {},
   "outputs": [
    {
     "data": {
      "text/plain": [
       "<zip at 0x21f9b93d3c8>"
      ]
     },
     "execution_count": 27,
     "metadata": {},
     "output_type": "execute_result"
    }
   ],
   "source": [
    "#Combining two iterables\n",
    "a = [1,2,3]\n",
    "b = ['a','b','c']\n",
    "z = zip(a,b)\n",
    "z\n",
    "\n",
    "#Pivoting list of tuples\n",
    "zip(*z)"
   ]
  },
  {
   "cell_type": "markdown",
   "metadata": {},
   "source": [
    "#### 10. Getting min/max from iterable (using min max)"
   ]
  },
  {
   "cell_type": "code",
   "execution_count": 35,
   "metadata": {},
   "outputs": [
    {
     "name": "stdout",
     "output_type": "stream",
     "text": [
      "2\n",
      "-3\n"
     ]
    }
   ],
   "source": [
    "a = [1, 2, -3]\n",
    "print(max(a))\n",
    "print(min(a))\n"
   ]
  },
  {
   "cell_type": "markdown",
   "metadata": {},
   "source": [
    "#### 11. Getting sorted iterable (using sorted)"
   ]
  },
  {
   "cell_type": "code",
   "execution_count": 39,
   "metadata": {},
   "outputs": [
    {
     "data": {
      "text/plain": [
       "[-3, 1, 2]"
      ]
     },
     "execution_count": 39,
     "metadata": {},
     "output_type": "execute_result"
    }
   ],
   "source": [
    "a = [1,2,-3]\n",
    "sorted(a)"
   ]
  },
  {
   "cell_type": "markdown",
   "metadata": {},
   "source": [
    "#### 12. Splitting a single string to list (using split)"
   ]
  },
  {
   "cell_type": "code",
   "execution_count": 44,
   "metadata": {},
   "outputs": [
    {
     "data": {
      "text/plain": [
       "['a', 'b', 'c']"
      ]
     },
     "execution_count": 44,
     "metadata": {},
     "output_type": "execute_result"
    }
   ],
   "source": [
    "s = \"a,b,c\"\n",
    "s = s.split(\",\")\n",
    "s"
   ]
  },
  {
   "cell_type": "markdown",
   "metadata": {},
   "source": [
    "#### 13. Initializing a list filled with some repetitive number"
   ]
  },
  {
   "cell_type": "code",
   "execution_count": 45,
   "metadata": {},
   "outputs": [
    {
     "data": {
      "text/plain": [
       "[1, 1, 1, 1, 1, 1, 1, 1, 1, 1]"
      ]
     },
     "execution_count": 45,
     "metadata": {},
     "output_type": "execute_result"
    }
   ],
   "source": [
    "[1]*10"
   ]
  },
  {
   "cell_type": "markdown",
   "metadata": {},
   "source": [
    "#### 14. Merging/Upserting two dictionaries (using update)"
   ]
  },
  {
   "cell_type": "code",
   "execution_count": 47,
   "metadata": {},
   "outputs": [
    {
     "data": {
      "text/plain": [
       "{'a': 1, 'b': 2, 'c': 1}"
      ]
     },
     "execution_count": 47,
     "metadata": {},
     "output_type": "execute_result"
    }
   ],
   "source": [
    "a = {\"a\":1, \"b\":1}\n",
    "b = {\"b\":2, \"c\":1}\n",
    "\n",
    "a.update(b)\n",
    "a"
   ]
  },
  {
   "cell_type": "markdown",
   "metadata": {},
   "source": [
    "#### 15. Naming and  saving slices of iterables (using slice)"
   ]
  },
  {
   "cell_type": "code",
   "execution_count": 49,
   "metadata": {},
   "outputs": [
    {
     "data": {
      "text/plain": [
       "[3, 4, 5]"
      ]
     },
     "execution_count": 49,
     "metadata": {},
     "output_type": "execute_result"
    }
   ],
   "source": [
    "a = [0, 1, 2, 3, 4, 5]\n",
    "LastThree = slice(-3,None)\n",
    "a[LastThree]"
   ]
  },
  {
   "cell_type": "markdown",
   "metadata": {},
   "source": [
    "#### 16. Finding the index of an item in a list (using index)"
   ]
  },
  {
   "cell_type": "code",
   "execution_count": 50,
   "metadata": {},
   "outputs": [
    {
     "data": {
      "text/plain": [
       "1"
      ]
     },
     "execution_count": 50,
     "metadata": {},
     "output_type": "execute_result"
    }
   ],
   "source": [
    "a = [\"foo\", \"bar\", \"baz\"]\n",
    "a.index(\"bar\")"
   ]
  },
  {
   "cell_type": "markdown",
   "metadata": {},
   "source": [
    "#### 17. Finding the index of the min/max item in an iterable (using enumerate)"
   ]
  },
  {
   "cell_type": "code",
   "execution_count": 55,
   "metadata": {},
   "outputs": [
    {
     "data": {
      "text/plain": [
       "2"
      ]
     },
     "execution_count": 55,
     "metadata": {},
     "output_type": "execute_result"
    }
   ],
   "source": [
    "a = [2,3,1]\n",
    "min(enumerate(a), key=lambda x: x[1])[0]"
   ]
  },
  {
   "cell_type": "markdown",
   "metadata": {},
   "source": [
    "#### 18. Rotating iterable by k elements (using :)"
   ]
  },
  {
   "cell_type": "code",
   "execution_count": 56,
   "metadata": {},
   "outputs": [
    {
     "data": {
      "text/plain": [
       "[3, 4, 1, 2]"
      ]
     },
     "execution_count": 56,
     "metadata": {},
     "output_type": "execute_result"
    }
   ],
   "source": [
    "a = [1,2,3,4]\n",
    "k = 2\n",
    "a[-2:] + a[:-2]"
   ]
  },
  {
   "cell_type": "markdown",
   "metadata": {},
   "source": [
    "#### 19. Removing useless characters on the end/start/both of your string (using strip)"
   ]
  },
  {
   "cell_type": "code",
   "execution_count": 57,
   "metadata": {},
   "outputs": [
    {
     "data": {
      "text/plain": [
       "'George'"
      ]
     },
     "execution_count": 57,
     "metadata": {},
     "output_type": "execute_result"
    }
   ],
   "source": [
    "name = \"//George//\"\n",
    "name.strip(\"/\")"
   ]
  },
  {
   "cell_type": "code",
   "execution_count": 58,
   "metadata": {},
   "outputs": [
    {
     "data": {
      "text/plain": [
       "'//George'"
      ]
     },
     "execution_count": 58,
     "metadata": {},
     "output_type": "execute_result"
    }
   ],
   "source": [
    "name = \"//George//\"\n",
    "name.rstrip(\"/\")"
   ]
  },
  {
   "cell_type": "code",
   "execution_count": 59,
   "metadata": {},
   "outputs": [
    {
     "data": {
      "text/plain": [
       "'George//'"
      ]
     },
     "execution_count": 59,
     "metadata": {},
     "output_type": "execute_result"
    }
   ],
   "source": [
    "name = \"//George//\"\n",
    "name.lstrip(\"/\")"
   ]
  },
  {
   "cell_type": "markdown",
   "metadata": {},
   "source": [
    "#### 20. Reversing an iterable with order (using ::)"
   ]
  },
  {
   "cell_type": "code",
   "execution_count": 60,
   "metadata": {},
   "outputs": [
    {
     "data": {
      "text/plain": [
       "'cba'"
      ]
     },
     "execution_count": 60,
     "metadata": {},
     "output_type": "execute_result"
    }
   ],
   "source": [
    "s = \"abc\"\n",
    "s[::-1]"
   ]
  },
  {
   "cell_type": "code",
   "execution_count": 61,
   "metadata": {},
   "outputs": [
    {
     "data": {
      "text/plain": [
       "['c', 'b', 'a']"
      ]
     },
     "execution_count": 61,
     "metadata": {},
     "output_type": "execute_result"
    }
   ],
   "source": [
    "l = [\"a\", \"b\", \"c\"]\n",
    "l[::-1]"
   ]
  },
  {
   "cell_type": "markdown",
   "metadata": {},
   "source": [
    "#### 21. Multiple predicates short-cut"
   ]
  },
  {
   "cell_type": "code",
   "execution_count": 63,
   "metadata": {},
   "outputs": [
    {
     "data": {
      "text/plain": [
       "True"
      ]
     },
     "execution_count": 63,
     "metadata": {},
     "output_type": "execute_result"
    }
   ],
   "source": [
    "n = 10\n",
    "1 < n < 20"
   ]
  },
  {
   "cell_type": "markdown",
   "metadata": {},
   "source": [
    "#### 22. Ternary operator"
   ]
  },
  {
   "cell_type": "code",
   "execution_count": 65,
   "metadata": {},
   "outputs": [
    {
     "data": {
      "text/plain": [
       "'Python!'"
      ]
     },
     "execution_count": 65,
     "metadata": {},
     "output_type": "execute_result"
    }
   ],
   "source": [
    "\"Python!\" if True else \"I am Grumpy\""
   ]
  },
  {
   "cell_type": "markdown",
   "metadata": {},
   "source": [
    "#### 23. Try-Catch-Else construct"
   ]
  },
  {
   "cell_type": "code",
   "execution_count": 66,
   "metadata": {},
   "outputs": [
    {
     "name": "stdout",
     "output_type": "stream",
     "text": [
      "Exception occured\n",
      "Always gets here\n"
     ]
    }
   ],
   "source": [
    "try:\n",
    "    foo()\n",
    "except Exception:\n",
    "    print(\"Exception occured\")\n",
    "else:\n",
    "    print(\"Exception did not occur\")\n",
    "finally:\n",
    "    print(\"Always gets here\")"
   ]
  },
  {
   "cell_type": "markdown",
   "metadata": {},
   "source": [
    "#### 24. While-else construct"
   ]
  },
  {
   "cell_type": "code",
   "execution_count": 67,
   "metadata": {},
   "outputs": [
    {
     "name": "stdout",
     "output_type": "stream",
     "text": [
      "while-ing away!\n",
      "Finished up!\n"
     ]
    }
   ],
   "source": [
    "i = 5\n",
    "\n",
    "while i > 1:\n",
    "    print(\"while-ing away!\")\n",
    "    i = -1\n",
    "    if i == 3:\n",
    "        break\n",
    "else:\n",
    "    print(\"Finished up!\")   "
   ]
  },
  {
   "cell_type": "markdown",
   "metadata": {},
   "source": [
    "#### 25. List comprehension"
   ]
  },
  {
   "cell_type": "code",
   "execution_count": 68,
   "metadata": {},
   "outputs": [
    {
     "data": {
      "text/plain": [
       "[0, 1, 4, 9, 16]"
      ]
     },
     "execution_count": 68,
     "metadata": {},
     "output_type": "execute_result"
    }
   ],
   "source": [
    "m = [x ** 2 for x in range(5)]\n",
    "m"
   ]
  },
  {
   "cell_type": "markdown",
   "metadata": {},
   "source": [
    "#### 26. Set comprehension"
   ]
  },
  {
   "cell_type": "code",
   "execution_count": 70,
   "metadata": {},
   "outputs": [
    {
     "data": {
      "text/plain": [
       "{0, 1, 4, 9, 16}"
      ]
     },
     "execution_count": 70,
     "metadata": {},
     "output_type": "execute_result"
    }
   ],
   "source": [
    "m = {x ** 2 for x in range(5)}\n",
    "m"
   ]
  },
  {
   "cell_type": "markdown",
   "metadata": {},
   "source": [
    "#### 27. Dictionary comprehension"
   ]
  },
  {
   "cell_type": "code",
   "execution_count": 71,
   "metadata": {},
   "outputs": [
    {
     "data": {
      "text/plain": [
       "{0: 0, 1: 1, 2: 4, 3: 9, 4: 16}"
      ]
     },
     "execution_count": 71,
     "metadata": {},
     "output_type": "execute_result"
    }
   ],
   "source": [
    "m = {x:x ** 2 for x in range (5)}\n",
    "m"
   ]
  },
  {
   "cell_type": "markdown",
   "metadata": {},
   "source": [
    "#### 28. Generator comprehension"
   ]
  },
  {
   "cell_type": "code",
   "execution_count": 81,
   "metadata": {},
   "outputs": [
    {
     "data": {
      "text/plain": [
       "[1, 4, 9, 16]"
      ]
     },
     "execution_count": 81,
     "metadata": {},
     "output_type": "execute_result"
    }
   ],
   "source": [
    "m = (x ** 2 for x in range(5))\n",
    "m\n",
    "list(m)\n",
    "m = (x ** 2 for x in range(5))\n",
    "next(m)\n",
    "list(m)"
   ]
  },
  {
   "cell_type": "markdown",
   "metadata": {},
   "source": [
    "#### 29. List comprehension with current and previous value"
   ]
  },
  {
   "cell_type": "code",
   "execution_count": 82,
   "metadata": {},
   "outputs": [
    {
     "data": {
      "text/plain": [
       "[1, 2, -2]"
      ]
     },
     "execution_count": 82,
     "metadata": {},
     "output_type": "execute_result"
    }
   ],
   "source": [
    "a = [1,2,4,2]\n",
    "[y-x for x,y in zip(a,a[1:])]"
   ]
  },
  {
   "cell_type": "markdown",
   "metadata": {},
   "source": [
    "#### 30. Unpack variables from iterable"
   ]
  },
  {
   "cell_type": "code",
   "execution_count": 86,
   "metadata": {},
   "outputs": [
    {
     "data": {
      "text/plain": [
       "(1, 2, 3)"
      ]
     },
     "execution_count": 86,
     "metadata": {},
     "output_type": "execute_result"
    }
   ],
   "source": [
    "a, b, c = 1, 2, 3\n",
    "a, b, c"
   ]
  },
  {
   "cell_type": "code",
   "execution_count": 94,
   "metadata": {},
   "outputs": [
    {
     "name": "stdout",
     "output_type": "stream",
     "text": [
      "1\n",
      "1 2 3\n"
     ]
    }
   ],
   "source": [
    "a, b, c = [1, 2, 3]\n",
    "print(a)\n",
    "print(a,b,c)"
   ]
  },
  {
   "cell_type": "markdown",
   "metadata": {},
   "source": [
    "#### 31. Swap variables"
   ]
  },
  {
   "cell_type": "code",
   "execution_count": 97,
   "metadata": {},
   "outputs": [
    {
     "data": {
      "text/plain": [
       "(1, 2)"
      ]
     },
     "execution_count": 97,
     "metadata": {},
     "output_type": "execute_result"
    }
   ],
   "source": [
    "a,b = 1,2\n",
    "a,b = b,a\n",
    "b,a"
   ]
  },
  {
   "cell_type": "markdown",
   "metadata": {},
   "source": [
    "#### 32. Unpack variables from iterable without indicating all elements"
   ]
  },
  {
   "cell_type": "code",
   "execution_count": 98,
   "metadata": {},
   "outputs": [
    {
     "data": {
      "text/plain": [
       "1"
      ]
     },
     "execution_count": 98,
     "metadata": {},
     "output_type": "execute_result"
    }
   ],
   "source": [
    "a, *b, c = [1,2,3,4,5]\n",
    "a"
   ]
  },
  {
   "cell_type": "code",
   "execution_count": 99,
   "metadata": {},
   "outputs": [
    {
     "data": {
      "text/plain": [
       "[2, 3, 4]"
      ]
     },
     "execution_count": 99,
     "metadata": {},
     "output_type": "execute_result"
    }
   ],
   "source": [
    "b"
   ]
  },
  {
   "cell_type": "code",
   "execution_count": 100,
   "metadata": {},
   "outputs": [
    {
     "data": {
      "text/plain": [
       "5"
      ]
     },
     "execution_count": 100,
     "metadata": {},
     "output_type": "execute_result"
    }
   ],
   "source": [
    "c"
   ]
  },
  {
   "cell_type": "markdown",
   "metadata": {},
   "source": [
    "#### 33. unpack variables using the splat operator"
   ]
  },
  {
   "cell_type": "code",
   "execution_count": 103,
   "metadata": {},
   "outputs": [
    {
     "name": "stdout",
     "output_type": "stream",
     "text": [
      "10 20 30\n"
     ]
    }
   ],
   "source": [
    "def test(x, y, z):\n",
    "    print(x, y, z)\n",
    "res = test(*[10,20,30])"
   ]
  },
  {
   "cell_type": "code",
   "execution_count": 104,
   "metadata": {},
   "outputs": [
    {
     "name": "stdout",
     "output_type": "stream",
     "text": [
      "1 2 3\n"
     ]
    }
   ],
   "source": [
    "res = test(**{'x':1, 'y':2, 'z':3})"
   ]
  },
  {
   "cell_type": "markdown",
   "metadata": {},
   "source": [
    "#### 34. Flatten iterables"
   ]
  },
  {
   "cell_type": "code",
   "execution_count": 106,
   "metadata": {},
   "outputs": [
    {
     "data": {
      "text/plain": [
       "[1, 2, 3, 4, 5, 6]"
      ]
     },
     "execution_count": 106,
     "metadata": {},
     "output_type": "execute_result"
    }
   ],
   "source": [
    "import itertools\n",
    "a = [[1,2], [3,4], [5,6]]\n",
    "list(itertools.chain.from_iterable(a))"
   ]
  },
  {
   "cell_type": "markdown",
   "metadata": {},
   "source": [
    "#### 35. Creating cartesian products from iterables"
   ]
  },
  {
   "cell_type": "code",
   "execution_count": 108,
   "metadata": {},
   "outputs": [
    {
     "name": "stdout",
     "output_type": "stream",
     "text": [
      "1 4\n",
      "1 5\n",
      "2 4\n",
      "2 5\n",
      "3 4\n",
      "3 5\n"
     ]
    }
   ],
   "source": [
    "for p in itertools.product([1, 2, 3], [4,5]):\n",
    "    print(\" \".join(str(x) for x in p))"
   ]
  },
  {
   "cell_type": "markdown",
   "metadata": {},
   "source": [
    "#### 36. Creating permutation from iterable"
   ]
  },
  {
   "cell_type": "code",
   "execution_count": 111,
   "metadata": {},
   "outputs": [
    {
     "name": "stdout",
     "output_type": "stream",
     "text": [
      "123\n",
      "132\n",
      "213\n",
      "231\n",
      "312\n",
      "321\n"
     ]
    }
   ],
   "source": [
    "for p in itertools.permutations([1, 2, 3]):\n",
    "    print(''.join(str(x) for x in p))"
   ]
  },
  {
   "cell_type": "markdown",
   "metadata": {},
   "source": [
    "#### 37. Creating ngram from iterable"
   ]
  },
  {
   "cell_type": "code",
   "execution_count": 112,
   "metadata": {},
   "outputs": [],
   "source": [
    "from itertools import islice\n",
    "def n_grams(a,n):\n",
    "    z = (islice(a, i, None) for i in range(n))\n",
    "    return zip(*z)"
   ]
  },
  {
   "cell_type": "code",
   "execution_count": 115,
   "metadata": {},
   "outputs": [
    {
     "data": {
      "text/plain": [
       "<zip at 0x21f9b9a5e48>"
      ]
     },
     "execution_count": 115,
     "metadata": {},
     "output_type": "execute_result"
    }
   ],
   "source": [
    "a = [1,2,3,4,5,6]\n",
    "n_grams(a,3)"
   ]
  },
  {
   "cell_type": "markdown",
   "metadata": {},
   "source": [
    "#### 38. Combining two iterables of tuples with padding or pivot nested iterable with padding"
   ]
  },
  {
   "cell_type": "code",
   "execution_count": 116,
   "metadata": {},
   "outputs": [
    {
     "data": {
      "text/plain": [
       "[(1, 'a'), (2, 'b'), (3, 'c')]"
      ]
     },
     "execution_count": 116,
     "metadata": {},
     "output_type": "execute_result"
    }
   ],
   "source": [
    "import itertools as it\n",
    "x = [1,2,3,4,5]\n",
    "y = ['a', 'b', 'c']\n",
    "list(zip(x,y))\n"
   ]
  },
  {
   "cell_type": "code",
   "execution_count": 117,
   "metadata": {},
   "outputs": [
    {
     "data": {
      "text/plain": [
       "[(1, 'a'), (2, 'b'), (3, 'c'), (4, None), (5, None)]"
      ]
     },
     "execution_count": 117,
     "metadata": {},
     "output_type": "execute_result"
    }
   ],
   "source": [
    "list(it.zip_longest(x,y))"
   ]
  },
  {
   "cell_type": "markdown",
   "metadata": {},
   "source": [
    "#### 39. Creating a combination of k things from an iterable of n"
   ]
  },
  {
   "cell_type": "code",
   "execution_count": 121,
   "metadata": {},
   "outputs": [
    {
     "data": {
      "text/plain": [
       "[(20, 20, 20),\n",
       " (20, 20, 10),\n",
       " (20, 20, 10),\n",
       " (20, 20, 10),\n",
       " (20, 20, 10),\n",
       " (20, 20, 10),\n",
       " (20, 20, 5),\n",
       " (20, 20, 5),\n",
       " (20, 20, 1),\n",
       " (20, 20, 1),\n",
       " (20, 20, 1),\n",
       " (20, 20, 1),\n",
       " (20, 20, 1),\n",
       " (20, 20, 10),\n",
       " (20, 20, 10),\n",
       " (20, 20, 10),\n",
       " (20, 20, 10),\n",
       " (20, 20, 10),\n",
       " (20, 20, 5),\n",
       " (20, 20, 5),\n",
       " (20, 20, 1),\n",
       " (20, 20, 1),\n",
       " (20, 20, 1),\n",
       " (20, 20, 1),\n",
       " (20, 20, 1),\n",
       " (20, 10, 10),\n",
       " (20, 10, 10),\n",
       " (20, 10, 10),\n",
       " (20, 10, 10),\n",
       " (20, 10, 5),\n",
       " (20, 10, 5),\n",
       " (20, 10, 1),\n",
       " (20, 10, 1),\n",
       " (20, 10, 1),\n",
       " (20, 10, 1),\n",
       " (20, 10, 1),\n",
       " (20, 10, 10),\n",
       " (20, 10, 10),\n",
       " (20, 10, 10),\n",
       " (20, 10, 5),\n",
       " (20, 10, 5),\n",
       " (20, 10, 1),\n",
       " (20, 10, 1),\n",
       " (20, 10, 1),\n",
       " (20, 10, 1),\n",
       " (20, 10, 1),\n",
       " (20, 10, 10),\n",
       " (20, 10, 10),\n",
       " (20, 10, 5),\n",
       " (20, 10, 5),\n",
       " (20, 10, 1),\n",
       " (20, 10, 1),\n",
       " (20, 10, 1),\n",
       " (20, 10, 1),\n",
       " (20, 10, 1),\n",
       " (20, 10, 10),\n",
       " (20, 10, 5),\n",
       " (20, 10, 5),\n",
       " (20, 10, 1),\n",
       " (20, 10, 1),\n",
       " (20, 10, 1),\n",
       " (20, 10, 1),\n",
       " (20, 10, 1),\n",
       " (20, 10, 5),\n",
       " (20, 10, 5),\n",
       " (20, 10, 1),\n",
       " (20, 10, 1),\n",
       " (20, 10, 1),\n",
       " (20, 10, 1),\n",
       " (20, 10, 1),\n",
       " (20, 5, 5),\n",
       " (20, 5, 1),\n",
       " (20, 5, 1),\n",
       " (20, 5, 1),\n",
       " (20, 5, 1),\n",
       " (20, 5, 1),\n",
       " (20, 5, 1),\n",
       " (20, 5, 1),\n",
       " (20, 5, 1),\n",
       " (20, 5, 1),\n",
       " (20, 5, 1),\n",
       " (20, 1, 1),\n",
       " (20, 1, 1),\n",
       " (20, 1, 1),\n",
       " (20, 1, 1),\n",
       " (20, 1, 1),\n",
       " (20, 1, 1),\n",
       " (20, 1, 1),\n",
       " (20, 1, 1),\n",
       " (20, 1, 1),\n",
       " (20, 1, 1),\n",
       " (20, 20, 10),\n",
       " (20, 20, 10),\n",
       " (20, 20, 10),\n",
       " (20, 20, 10),\n",
       " (20, 20, 10),\n",
       " (20, 20, 5),\n",
       " (20, 20, 5),\n",
       " (20, 20, 1),\n",
       " (20, 20, 1),\n",
       " (20, 20, 1),\n",
       " (20, 20, 1),\n",
       " (20, 20, 1),\n",
       " (20, 10, 10),\n",
       " (20, 10, 10),\n",
       " (20, 10, 10),\n",
       " (20, 10, 10),\n",
       " (20, 10, 5),\n",
       " (20, 10, 5),\n",
       " (20, 10, 1),\n",
       " (20, 10, 1),\n",
       " (20, 10, 1),\n",
       " (20, 10, 1),\n",
       " (20, 10, 1),\n",
       " (20, 10, 10),\n",
       " (20, 10, 10),\n",
       " (20, 10, 10),\n",
       " (20, 10, 5),\n",
       " (20, 10, 5),\n",
       " (20, 10, 1),\n",
       " (20, 10, 1),\n",
       " (20, 10, 1),\n",
       " (20, 10, 1),\n",
       " (20, 10, 1),\n",
       " (20, 10, 10),\n",
       " (20, 10, 10),\n",
       " (20, 10, 5),\n",
       " (20, 10, 5),\n",
       " (20, 10, 1),\n",
       " (20, 10, 1),\n",
       " (20, 10, 1),\n",
       " (20, 10, 1),\n",
       " (20, 10, 1),\n",
       " (20, 10, 10),\n",
       " (20, 10, 5),\n",
       " (20, 10, 5),\n",
       " (20, 10, 1),\n",
       " (20, 10, 1),\n",
       " (20, 10, 1),\n",
       " (20, 10, 1),\n",
       " (20, 10, 1),\n",
       " (20, 10, 5),\n",
       " (20, 10, 5),\n",
       " (20, 10, 1),\n",
       " (20, 10, 1),\n",
       " (20, 10, 1),\n",
       " (20, 10, 1),\n",
       " (20, 10, 1),\n",
       " (20, 5, 5),\n",
       " (20, 5, 1),\n",
       " (20, 5, 1),\n",
       " (20, 5, 1),\n",
       " (20, 5, 1),\n",
       " (20, 5, 1),\n",
       " (20, 5, 1),\n",
       " (20, 5, 1),\n",
       " (20, 5, 1),\n",
       " (20, 5, 1),\n",
       " (20, 5, 1),\n",
       " (20, 1, 1),\n",
       " (20, 1, 1),\n",
       " (20, 1, 1),\n",
       " (20, 1, 1),\n",
       " (20, 1, 1),\n",
       " (20, 1, 1),\n",
       " (20, 1, 1),\n",
       " (20, 1, 1),\n",
       " (20, 1, 1),\n",
       " (20, 1, 1),\n",
       " (20, 10, 10),\n",
       " (20, 10, 10),\n",
       " (20, 10, 10),\n",
       " (20, 10, 10),\n",
       " (20, 10, 5),\n",
       " (20, 10, 5),\n",
       " (20, 10, 1),\n",
       " (20, 10, 1),\n",
       " (20, 10, 1),\n",
       " (20, 10, 1),\n",
       " (20, 10, 1),\n",
       " (20, 10, 10),\n",
       " (20, 10, 10),\n",
       " (20, 10, 10),\n",
       " (20, 10, 5),\n",
       " (20, 10, 5),\n",
       " (20, 10, 1),\n",
       " (20, 10, 1),\n",
       " (20, 10, 1),\n",
       " (20, 10, 1),\n",
       " (20, 10, 1),\n",
       " (20, 10, 10),\n",
       " (20, 10, 10),\n",
       " (20, 10, 5),\n",
       " (20, 10, 5),\n",
       " (20, 10, 1),\n",
       " (20, 10, 1),\n",
       " (20, 10, 1),\n",
       " (20, 10, 1),\n",
       " (20, 10, 1),\n",
       " (20, 10, 10),\n",
       " (20, 10, 5),\n",
       " (20, 10, 5),\n",
       " (20, 10, 1),\n",
       " (20, 10, 1),\n",
       " (20, 10, 1),\n",
       " (20, 10, 1),\n",
       " (20, 10, 1),\n",
       " (20, 10, 5),\n",
       " (20, 10, 5),\n",
       " (20, 10, 1),\n",
       " (20, 10, 1),\n",
       " (20, 10, 1),\n",
       " (20, 10, 1),\n",
       " (20, 10, 1),\n",
       " (20, 5, 5),\n",
       " (20, 5, 1),\n",
       " (20, 5, 1),\n",
       " (20, 5, 1),\n",
       " (20, 5, 1),\n",
       " (20, 5, 1),\n",
       " (20, 5, 1),\n",
       " (20, 5, 1),\n",
       " (20, 5, 1),\n",
       " (20, 5, 1),\n",
       " (20, 5, 1),\n",
       " (20, 1, 1),\n",
       " (20, 1, 1),\n",
       " (20, 1, 1),\n",
       " (20, 1, 1),\n",
       " (20, 1, 1),\n",
       " (20, 1, 1),\n",
       " (20, 1, 1),\n",
       " (20, 1, 1),\n",
       " (20, 1, 1),\n",
       " (20, 1, 1),\n",
       " (10, 10, 10),\n",
       " (10, 10, 10),\n",
       " (10, 10, 10),\n",
       " (10, 10, 5),\n",
       " (10, 10, 5),\n",
       " (10, 10, 1),\n",
       " (10, 10, 1),\n",
       " (10, 10, 1),\n",
       " (10, 10, 1),\n",
       " (10, 10, 1),\n",
       " (10, 10, 10),\n",
       " (10, 10, 10),\n",
       " (10, 10, 5),\n",
       " (10, 10, 5),\n",
       " (10, 10, 1),\n",
       " (10, 10, 1),\n",
       " (10, 10, 1),\n",
       " (10, 10, 1),\n",
       " (10, 10, 1),\n",
       " (10, 10, 10),\n",
       " (10, 10, 5),\n",
       " (10, 10, 5),\n",
       " (10, 10, 1),\n",
       " (10, 10, 1),\n",
       " (10, 10, 1),\n",
       " (10, 10, 1),\n",
       " (10, 10, 1),\n",
       " (10, 10, 5),\n",
       " (10, 10, 5),\n",
       " (10, 10, 1),\n",
       " (10, 10, 1),\n",
       " (10, 10, 1),\n",
       " (10, 10, 1),\n",
       " (10, 10, 1),\n",
       " (10, 5, 5),\n",
       " (10, 5, 1),\n",
       " (10, 5, 1),\n",
       " (10, 5, 1),\n",
       " (10, 5, 1),\n",
       " (10, 5, 1),\n",
       " (10, 5, 1),\n",
       " (10, 5, 1),\n",
       " (10, 5, 1),\n",
       " (10, 5, 1),\n",
       " (10, 5, 1),\n",
       " (10, 1, 1),\n",
       " (10, 1, 1),\n",
       " (10, 1, 1),\n",
       " (10, 1, 1),\n",
       " (10, 1, 1),\n",
       " (10, 1, 1),\n",
       " (10, 1, 1),\n",
       " (10, 1, 1),\n",
       " (10, 1, 1),\n",
       " (10, 1, 1),\n",
       " (10, 10, 10),\n",
       " (10, 10, 10),\n",
       " (10, 10, 5),\n",
       " (10, 10, 5),\n",
       " (10, 10, 1),\n",
       " (10, 10, 1),\n",
       " (10, 10, 1),\n",
       " (10, 10, 1),\n",
       " (10, 10, 1),\n",
       " (10, 10, 10),\n",
       " (10, 10, 5),\n",
       " (10, 10, 5),\n",
       " (10, 10, 1),\n",
       " (10, 10, 1),\n",
       " (10, 10, 1),\n",
       " (10, 10, 1),\n",
       " (10, 10, 1),\n",
       " (10, 10, 5),\n",
       " (10, 10, 5),\n",
       " (10, 10, 1),\n",
       " (10, 10, 1),\n",
       " (10, 10, 1),\n",
       " (10, 10, 1),\n",
       " (10, 10, 1),\n",
       " (10, 5, 5),\n",
       " (10, 5, 1),\n",
       " (10, 5, 1),\n",
       " (10, 5, 1),\n",
       " (10, 5, 1),\n",
       " (10, 5, 1),\n",
       " (10, 5, 1),\n",
       " (10, 5, 1),\n",
       " (10, 5, 1),\n",
       " (10, 5, 1),\n",
       " (10, 5, 1),\n",
       " (10, 1, 1),\n",
       " (10, 1, 1),\n",
       " (10, 1, 1),\n",
       " (10, 1, 1),\n",
       " (10, 1, 1),\n",
       " (10, 1, 1),\n",
       " (10, 1, 1),\n",
       " (10, 1, 1),\n",
       " (10, 1, 1),\n",
       " (10, 1, 1),\n",
       " (10, 10, 10),\n",
       " (10, 10, 5),\n",
       " (10, 10, 5),\n",
       " (10, 10, 1),\n",
       " (10, 10, 1),\n",
       " (10, 10, 1),\n",
       " (10, 10, 1),\n",
       " (10, 10, 1),\n",
       " (10, 10, 5),\n",
       " (10, 10, 5),\n",
       " (10, 10, 1),\n",
       " (10, 10, 1),\n",
       " (10, 10, 1),\n",
       " (10, 10, 1),\n",
       " (10, 10, 1),\n",
       " (10, 5, 5),\n",
       " (10, 5, 1),\n",
       " (10, 5, 1),\n",
       " (10, 5, 1),\n",
       " (10, 5, 1),\n",
       " (10, 5, 1),\n",
       " (10, 5, 1),\n",
       " (10, 5, 1),\n",
       " (10, 5, 1),\n",
       " (10, 5, 1),\n",
       " (10, 5, 1),\n",
       " (10, 1, 1),\n",
       " (10, 1, 1),\n",
       " (10, 1, 1),\n",
       " (10, 1, 1),\n",
       " (10, 1, 1),\n",
       " (10, 1, 1),\n",
       " (10, 1, 1),\n",
       " (10, 1, 1),\n",
       " (10, 1, 1),\n",
       " (10, 1, 1),\n",
       " (10, 10, 5),\n",
       " (10, 10, 5),\n",
       " (10, 10, 1),\n",
       " (10, 10, 1),\n",
       " (10, 10, 1),\n",
       " (10, 10, 1),\n",
       " (10, 10, 1),\n",
       " (10, 5, 5),\n",
       " (10, 5, 1),\n",
       " (10, 5, 1),\n",
       " (10, 5, 1),\n",
       " (10, 5, 1),\n",
       " (10, 5, 1),\n",
       " (10, 5, 1),\n",
       " (10, 5, 1),\n",
       " (10, 5, 1),\n",
       " (10, 5, 1),\n",
       " (10, 5, 1),\n",
       " (10, 1, 1),\n",
       " (10, 1, 1),\n",
       " (10, 1, 1),\n",
       " (10, 1, 1),\n",
       " (10, 1, 1),\n",
       " (10, 1, 1),\n",
       " (10, 1, 1),\n",
       " (10, 1, 1),\n",
       " (10, 1, 1),\n",
       " (10, 1, 1),\n",
       " (10, 5, 5),\n",
       " (10, 5, 1),\n",
       " (10, 5, 1),\n",
       " (10, 5, 1),\n",
       " (10, 5, 1),\n",
       " (10, 5, 1),\n",
       " (10, 5, 1),\n",
       " (10, 5, 1),\n",
       " (10, 5, 1),\n",
       " (10, 5, 1),\n",
       " (10, 5, 1),\n",
       " (10, 1, 1),\n",
       " (10, 1, 1),\n",
       " (10, 1, 1),\n",
       " (10, 1, 1),\n",
       " (10, 1, 1),\n",
       " (10, 1, 1),\n",
       " (10, 1, 1),\n",
       " (10, 1, 1),\n",
       " (10, 1, 1),\n",
       " (10, 1, 1),\n",
       " (5, 5, 1),\n",
       " (5, 5, 1),\n",
       " (5, 5, 1),\n",
       " (5, 5, 1),\n",
       " (5, 5, 1),\n",
       " (5, 1, 1),\n",
       " (5, 1, 1),\n",
       " (5, 1, 1),\n",
       " (5, 1, 1),\n",
       " (5, 1, 1),\n",
       " (5, 1, 1),\n",
       " (5, 1, 1),\n",
       " (5, 1, 1),\n",
       " (5, 1, 1),\n",
       " (5, 1, 1),\n",
       " (5, 1, 1),\n",
       " (5, 1, 1),\n",
       " (5, 1, 1),\n",
       " (5, 1, 1),\n",
       " (5, 1, 1),\n",
       " (5, 1, 1),\n",
       " (5, 1, 1),\n",
       " (5, 1, 1),\n",
       " (5, 1, 1),\n",
       " (5, 1, 1),\n",
       " (1, 1, 1),\n",
       " (1, 1, 1),\n",
       " (1, 1, 1),\n",
       " (1, 1, 1),\n",
       " (1, 1, 1),\n",
       " (1, 1, 1),\n",
       " (1, 1, 1),\n",
       " (1, 1, 1),\n",
       " (1, 1, 1),\n",
       " (1, 1, 1)]"
      ]
     },
     "execution_count": 121,
     "metadata": {},
     "output_type": "execute_result"
    }
   ],
   "source": [
    "import itertools\n",
    "bills = [20,20,20,10,10,10,10,10,5,5,1,1,1,1,1]\n",
    "list(itertools.combinations(bills, 3))"
   ]
  },
  {
   "cell_type": "markdown",
   "metadata": {},
   "source": [
    "#### 40. Creating accumulated results of iterable given a function"
   ]
  },
  {
   "cell_type": "code",
   "execution_count": 122,
   "metadata": {},
   "outputs": [
    {
     "data": {
      "text/plain": [
       "[9, 9, 9, 5, 5, 5, 2, 2]"
      ]
     },
     "execution_count": 122,
     "metadata": {},
     "output_type": "execute_result"
    }
   ],
   "source": [
    "import itertools\n",
    "list(itertools.accumulate([9,21,17,5,11,12,2,6], min))"
   ]
  },
  {
   "cell_type": "markdown",
   "metadata": {},
   "source": [
    "#### 41. Creating an iterator that returns elements from the iterable as long as the predicate is true"
   ]
  },
  {
   "cell_type": "code",
   "execution_count": 125,
   "metadata": {},
   "outputs": [
    {
     "data": {
      "text/plain": [
       "<itertools.takewhile at 0x21f9b9a5dc8>"
      ]
     },
     "execution_count": 125,
     "metadata": {},
     "output_type": "execute_result"
    }
   ],
   "source": [
    "import itertools\n",
    "itertools.takewhile(lambda x: x<3, [0,1,2,3,4])"
   ]
  },
  {
   "cell_type": "code",
   "execution_count": 124,
   "metadata": {},
   "outputs": [
    {
     "data": {
      "text/plain": [
       "<itertools.dropwhile at 0x21f9b9422c8>"
      ]
     },
     "execution_count": 124,
     "metadata": {},
     "output_type": "execute_result"
    }
   ],
   "source": [
    "itertools.dropwhile(lambda x: x<3, [0,1,2,3,4])"
   ]
  },
  {
   "cell_type": "markdown",
   "metadata": {},
   "source": [
    "#### 42. Creating an iterator that filters elements from iterable returning only those for which the predicate is False"
   ]
  },
  {
   "cell_type": "code",
   "execution_count": 127,
   "metadata": {},
   "outputs": [
    {
     "data": {
      "text/plain": [
       "[None, False, 0]"
      ]
     },
     "execution_count": 127,
     "metadata": {},
     "output_type": "execute_result"
    }
   ],
   "source": [
    "import itertools\n",
    "list(itertools.filterfalse(bool, [None, False, 1, 0, 10]))"
   ]
  },
  {
   "cell_type": "markdown",
   "metadata": {},
   "source": [
    "#### 43. Creating an iterator that computes the function using arguments obtained from the iterable of iterables"
   ]
  },
  {
   "cell_type": "code",
   "execution_count": 128,
   "metadata": {},
   "outputs": [
    {
     "data": {
      "text/plain": [
       "[12, 32, 21]"
      ]
     },
     "execution_count": 128,
     "metadata": {},
     "output_type": "execute_result"
    }
   ],
   "source": [
    "import itertools\n",
    "import operator\n",
    "a = [(2,6), (8,4), (7,3)]\n",
    "list(itertools.starmap(operator.mul, a))"
   ]
  },
  {
   "cell_type": "markdown",
   "metadata": {},
   "source": [
    "#### 44. Counter data structure"
   ]
  },
  {
   "cell_type": "code",
   "execution_count": 129,
   "metadata": {},
   "outputs": [
    {
     "data": {
      "text/plain": [
       "Counter({1: 2, 2: 2, 3: 4, 4: 1, 5: 1, 6: 1, 7: 1})"
      ]
     },
     "execution_count": 129,
     "metadata": {},
     "output_type": "execute_result"
    }
   ],
   "source": [
    "import collections\n",
    "A = collections.Counter([1,1,2,2,3,3,3,3,4,5,6,7])\n",
    "A"
   ]
  },
  {
   "cell_type": "code",
   "execution_count": 131,
   "metadata": {},
   "outputs": [
    {
     "data": {
      "text/plain": [
       "[(3, 4), (1, 2), (2, 2)]"
      ]
     },
     "execution_count": 131,
     "metadata": {},
     "output_type": "execute_result"
    }
   ],
   "source": [
    "A.most_common(3)"
   ]
  },
  {
   "cell_type": "markdown",
   "metadata": {},
   "source": [
    "#### 45. Default dictionary structure "
   ]
  },
  {
   "cell_type": "code",
   "execution_count": 132,
   "metadata": {},
   "outputs": [
    {
     "data": {
      "text/plain": [
       "0"
      ]
     },
     "execution_count": 132,
     "metadata": {},
     "output_type": "execute_result"
    }
   ],
   "source": [
    "import collections\n",
    "m = collections.defaultdict(int)\n",
    "m['a']"
   ]
  },
  {
   "cell_type": "code",
   "execution_count": 133,
   "metadata": {},
   "outputs": [
    {
     "data": {
      "text/plain": [
       "''"
      ]
     },
     "execution_count": 133,
     "metadata": {},
     "output_type": "execute_result"
    }
   ],
   "source": [
    "m = collections.defaultdict(str)\n",
    "m['a']"
   ]
  },
  {
   "cell_type": "code",
   "execution_count": 135,
   "metadata": {},
   "outputs": [
    {
     "data": {
      "text/plain": [
       "'aa'"
      ]
     },
     "execution_count": 135,
     "metadata": {},
     "output_type": "execute_result"
    }
   ],
   "source": [
    "m['b'] += 'a'\n",
    "m['b']"
   ]
  },
  {
   "cell_type": "code",
   "execution_count": 136,
   "metadata": {},
   "outputs": [
    {
     "data": {
      "text/plain": [
       "'[default value]'"
      ]
     },
     "execution_count": 136,
     "metadata": {},
     "output_type": "execute_result"
    }
   ],
   "source": [
    "m = collections.defaultdict(lambda: '[default value]')\n",
    "m['a']"
   ]
  },
  {
   "cell_type": "code",
   "execution_count": 137,
   "metadata": {},
   "outputs": [
    {
     "data": {
      "text/plain": [
       "[]"
      ]
     },
     "execution_count": 137,
     "metadata": {},
     "output_type": "execute_result"
    }
   ],
   "source": [
    "m = collections.defaultdict(list)\n",
    "m['a']"
   ]
  },
  {
   "cell_type": "markdown",
   "metadata": {},
   "source": [
    "#### 46. Ordered dict structure"
   ]
  },
  {
   "cell_type": "markdown",
   "metadata": {},
   "source": [
    "from collections import OrderedDict\n",
    "d = OrderedDict.fromkeys('abcde')\n",
    "d.move_to_end('b')\n",
    "''.join(d.keys())"
   ]
  },
  {
   "cell_type": "code",
   "execution_count": 139,
   "metadata": {},
   "outputs": [
    {
     "data": {
      "text/plain": [
       "'bacde'"
      ]
     },
     "execution_count": 139,
     "metadata": {},
     "output_type": "execute_result"
    }
   ],
   "source": [
    "d.move_to_end('b', last=False)\n",
    "''.join(d.keys())"
   ]
  },
  {
   "cell_type": "markdown",
   "metadata": {},
   "source": [
    "#### 47. Deques structure"
   ]
  },
  {
   "cell_type": "code",
   "execution_count": 141,
   "metadata": {},
   "outputs": [
    {
     "data": {
      "text/plain": [
       "deque([6, 5, 2, 1, 3, 4])"
      ]
     },
     "execution_count": 141,
     "metadata": {},
     "output_type": "execute_result"
    }
   ],
   "source": [
    "import collections\n",
    "Q = collections.deque()\n",
    "Q.append(1)\n",
    "Q.appendleft(2)\n",
    "Q.extend([3,4])\n",
    "Q.extendleft([5,6])\n",
    "Q"
   ]
  },
  {
   "cell_type": "code",
   "execution_count": 142,
   "metadata": {},
   "outputs": [
    {
     "data": {
      "text/plain": [
       "4"
      ]
     },
     "execution_count": 142,
     "metadata": {},
     "output_type": "execute_result"
    }
   ],
   "source": [
    "Q.pop()"
   ]
  },
  {
   "cell_type": "code",
   "execution_count": 143,
   "metadata": {},
   "outputs": [
    {
     "data": {
      "text/plain": [
       "6"
      ]
     },
     "execution_count": 143,
     "metadata": {},
     "output_type": "execute_result"
    }
   ],
   "source": [
    "Q.popleft()"
   ]
  },
  {
   "cell_type": "code",
   "execution_count": 144,
   "metadata": {},
   "outputs": [
    {
     "data": {
      "text/plain": [
       "deque([5, 2, 1, 3])"
      ]
     },
     "execution_count": 144,
     "metadata": {},
     "output_type": "execute_result"
    }
   ],
   "source": [
    "Q"
   ]
  },
  {
   "cell_type": "code",
   "execution_count": 148,
   "metadata": {},
   "outputs": [
    {
     "data": {
      "text/plain": [
       "deque([1, 3, 5, 2])"
      ]
     },
     "execution_count": 148,
     "metadata": {},
     "output_type": "execute_result"
    }
   ],
   "source": [
    "Q.rotate(3)\n",
    "Q"
   ]
  },
  {
   "cell_type": "code",
   "execution_count": 151,
   "metadata": {},
   "outputs": [
    {
     "data": {
      "text/plain": [
       "deque([5, 2, 1, 3])"
      ]
     },
     "execution_count": 151,
     "metadata": {},
     "output_type": "execute_result"
    }
   ],
   "source": [
    "Q.rotate(-3)\n",
    "Q"
   ]
  },
  {
   "cell_type": "code",
   "execution_count": 152,
   "metadata": {},
   "outputs": [
    {
     "name": "stdout",
     "output_type": "stream",
     "text": [
      "0\n",
      "0,1\n",
      "0,1,2\n",
      "1,2,3\n"
     ]
    }
   ],
   "source": [
    "last_three = collections.deque(maxlen=3)\n",
    "for i in range(4):\n",
    "    last_three.append(i)\n",
    "    print(','.join(str(x) for x in last_three))"
   ]
  },
  {
   "cell_type": "markdown",
   "metadata": {},
   "source": [
    "#### 48. Named tuples structure"
   ]
  },
  {
   "cell_type": "code",
   "execution_count": 153,
   "metadata": {},
   "outputs": [
    {
     "data": {
      "text/plain": [
       "Point(x=1.0, y=2.0)"
      ]
     },
     "execution_count": 153,
     "metadata": {},
     "output_type": "execute_result"
    }
   ],
   "source": [
    "import collections\n",
    "Point = collections.namedtuple('Point', ['x','y'])\n",
    "p = Point(x=1.0, y=2.0)\n",
    "p"
   ]
  },
  {
   "cell_type": "code",
   "execution_count": 154,
   "metadata": {},
   "outputs": [
    {
     "data": {
      "text/plain": [
       "1.0"
      ]
     },
     "execution_count": 154,
     "metadata": {},
     "output_type": "execute_result"
    }
   ],
   "source": [
    "p.x"
   ]
  },
  {
   "cell_type": "code",
   "execution_count": 155,
   "metadata": {},
   "outputs": [
    {
     "data": {
      "text/plain": [
       "2.0"
      ]
     },
     "execution_count": 155,
     "metadata": {},
     "output_type": "execute_result"
    }
   ],
   "source": [
    "p.y"
   ]
  },
  {
   "cell_type": "markdown",
   "metadata": {},
   "source": [
    "#### 49. Use a Dictionary To Store A Switch"
   ]
  },
  {
   "cell_type": "code",
   "execution_count": 156,
   "metadata": {},
   "outputs": [
    {
     "data": {
      "text/plain": [
       "12"
      ]
     },
     "execution_count": 156,
     "metadata": {},
     "output_type": "execute_result"
    }
   ],
   "source": [
    "func_dict = {'sum': lambda x, y:x+y, 'subtract': lambda x,y: x-y}\n",
    "func_dict['sum'](9,3)"
   ]
  },
  {
   "cell_type": "code",
   "execution_count": 157,
   "metadata": {},
   "outputs": [
    {
     "data": {
      "text/plain": [
       "6"
      ]
     },
     "execution_count": 157,
     "metadata": {},
     "output_type": "execute_result"
    }
   ],
   "source": [
    "func_dict['subtract'](9,3)"
   ]
  },
  {
   "cell_type": "markdown",
   "metadata": {},
   "source": [
    "#### 50. Data classes structure"
   ]
  },
  {
   "cell_type": "code",
   "execution_count": 161,
   "metadata": {},
   "outputs": [
    {
     "data": {
      "text/plain": [
       "True"
      ]
     },
     "execution_count": 161,
     "metadata": {},
     "output_type": "execute_result"
    }
   ],
   "source": [
    "from dataclasses import dataclass\n",
    "\n",
    "@dataclass\n",
    "class DataClassCard:\n",
    "    rank: str\n",
    "    suit: str\n",
    "\n",
    "queen_of_hearts = DataClassCard(\"Q\", \"Hearts\")\n",
    "queen_of_hearts.rank\n",
    "\n",
    "queen_of_hearts\n",
    "\n",
    "queen_of_hearts == DataClassCard('Q', 'Hearts')"
   ]
  },
  {
   "cell_type": "markdown",
   "metadata": {},
   "source": [
    "#### 51. Creating uuid"
   ]
  },
  {
   "cell_type": "code",
   "execution_count": 162,
   "metadata": {},
   "outputs": [
    {
     "data": {
      "text/plain": [
       "UUID('1fe3ed93-b687-493f-8f9e-6b4b4497ef3b')"
      ]
     },
     "execution_count": 162,
     "metadata": {},
     "output_type": "execute_result"
    }
   ],
   "source": [
    "import uuid\n",
    "user_id = uuid.uuid4()\n",
    "user_id"
   ]
  },
  {
   "cell_type": "markdown",
   "metadata": {},
   "source": [
    "#### 52. Elegant way to deal with file path"
   ]
  },
  {
   "cell_type": "code",
   "execution_count": 163,
   "metadata": {},
   "outputs": [
    {
     "data": {
      "text/plain": [
       "'raw_data.txt'"
      ]
     },
     "execution_count": 163,
     "metadata": {},
     "output_type": "execute_result"
    }
   ],
   "source": [
    "from pathlib import Path\n",
    "data_folder = Path(\"source_data/text_files/\")\n",
    "\n",
    "file_to_open = data_folder / \"raw_data.txt\"\n",
    "file_to_open.name"
   ]
  },
  {
   "cell_type": "code",
   "execution_count": 165,
   "metadata": {},
   "outputs": [
    {
     "data": {
      "text/plain": [
       "'.txt'"
      ]
     },
     "execution_count": 165,
     "metadata": {},
     "output_type": "execute_result"
    }
   ],
   "source": [
    "file_to_open.suffix"
   ]
  },
  {
   "cell_type": "code",
   "execution_count": 166,
   "metadata": {},
   "outputs": [
    {
     "data": {
      "text/plain": [
       "'raw_data'"
      ]
     },
     "execution_count": 166,
     "metadata": {},
     "output_type": "execute_result"
    }
   ],
   "source": [
    "file_to_open.stem"
   ]
  },
  {
   "cell_type": "markdown",
   "metadata": {},
   "source": [
    "#### 53. Using yield to create a simple iterator"
   ]
  },
  {
   "cell_type": "code",
   "execution_count": 173,
   "metadata": {},
   "outputs": [
    {
     "data": {
      "text/plain": [
       "[1, 2, 3, 6]"
      ]
     },
     "execution_count": 173,
     "metadata": {},
     "output_type": "execute_result"
    }
   ],
   "source": [
    "def foo(lst):\n",
    "    for x in lst:\n",
    "        yield x\n",
    "        yield x*2\n",
    "a = [1,3]\n",
    "list(foo(a))"
   ]
  },
  {
   "cell_type": "markdown",
   "metadata": {},
   "source": [
    "#### 54. Shortcut for declaring small and anonymous functions"
   ]
  },
  {
   "cell_type": "code",
   "execution_count": 180,
   "metadata": {},
   "outputs": [
    {
     "data": {
      "text/plain": [
       "16"
      ]
     },
     "execution_count": 180,
     "metadata": {},
     "output_type": "execute_result"
    }
   ],
   "source": [
    "add = lambda x,y: x+y\n",
    "add(9,7)"
   ]
  },
  {
   "cell_type": "markdown",
   "metadata": {},
   "source": [
    "#### 55. Printing something N times"
   ]
  },
  {
   "cell_type": "code",
   "execution_count": 179,
   "metadata": {},
   "outputs": [
    {
     "name": "stdout",
     "output_type": "stream",
     "text": [
      "HelloHelloHelloHelloHelloHelloHello\n"
     ]
    }
   ],
   "source": [
    "str = \"Hello\"\n",
    "print(str *7)"
   ]
  },
  {
   "cell_type": "code",
   "execution_count": null,
   "metadata": {},
   "outputs": [],
   "source": []
  }
 ],
 "metadata": {
  "kernelspec": {
   "display_name": "Python 3",
   "language": "python",
   "name": "python3"
  },
  "language_info": {
   "codemirror_mode": {
    "name": "ipython",
    "version": 3
   },
   "file_extension": ".py",
   "mimetype": "text/x-python",
   "name": "python",
   "nbconvert_exporter": "python",
   "pygments_lexer": "ipython3",
   "version": "3.7.0"
  }
 },
 "nbformat": 4,
 "nbformat_minor": 2
}
