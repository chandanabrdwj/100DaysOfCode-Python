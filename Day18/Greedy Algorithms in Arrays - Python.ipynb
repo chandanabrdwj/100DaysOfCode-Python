{
 "cells": [
  {
   "cell_type": "markdown",
   "metadata": {},
   "source": [
    "[Source:] https://www.geeksforgeeks.org/greedy-algorithms/#greedyAlgorithmsInArrays"
   ]
  },
  {
   "cell_type": "markdown",
   "metadata": {},
   "source": [
    "#### Minimum product subset of an array"
   ]
  },
  {
   "cell_type": "code",
   "execution_count": 4,
   "metadata": {},
   "outputs": [
    {
     "name": "stdout",
     "output_type": "stream",
     "text": [
      "-24\n"
     ]
    }
   ],
   "source": [
    "# def to find maximum product of a subset \n",
    "def minProductSubset(a, n) :\t \n",
    "\tif (n == 1) : \n",
    "\t\treturn a[0] \n",
    "\n",
    "\t# Find count of negative numbers,count of zeros, maximum valued negative number, \n",
    "    # minimum valued positive number and product of non-zero numbers \n",
    "\tmax_neg = float('-inf') \n",
    "\tmin_pos = float('inf') \n",
    "\tcount_neg = 0\n",
    "\tcount_zero = 0\n",
    "\tprod = 1\n",
    "\tfor i in range(0,n) : \n",
    "\n",
    "\t\t# If number is 0, we don't multiply it with product. \n",
    "\t\tif (a[i] == 0) :\t \n",
    "\t\t\tcount_zero = count_zero + 1\n",
    "\t\t\tcontinue\n",
    "\n",
    "\t\t# Count negatives and keep track of maximum valued negative. \n",
    "\t\tif (a[i] < 0) :\t \n",
    "\t\t\tcount_neg = count_neg + 1\n",
    "\t\t\tmax_neg = max(max_neg, a[i]) \n",
    "\t\t\n",
    "\t\t# Track minimum positive number of array \n",
    "\t\tif (a[i] > 0) : \n",
    "\t\t\tmin_pos = min(min_pos, a[i]) \n",
    "\n",
    "\t\tprod = prod * a[i] \n",
    "\t\n",
    "\n",
    "\t# If there are all zeros or no negative number present \n",
    "\tif (count_zero == n or (count_neg == 0\n",
    "\t\t\t\t\tand count_zero > 0)) : \n",
    "\t\treturn 0; \n",
    "\n",
    "\t# If there are all positive \n",
    "\tif (count_neg == 0) : \n",
    "\t\treturn min_pos \n",
    "\n",
    "\t# If there are even number of negative numbers and count_neg not 0 \n",
    "\tif ((count_neg & 1) == 0 and\n",
    "\t\t\t\t\tcount_neg != 0) : \n",
    "\n",
    "\t\t# Otherwise result is product of all non-zeros divided by maximum valued negative. \n",
    "\t\tprod = int(prod / max_neg) \n",
    "\n",
    "\treturn prod; \n",
    "\n",
    "# Driver code \n",
    "a = [ -1, -1, -2, 4, 3 ] \n",
    "n = len(a) \n",
    "print (minProductSubset(a, n)) "
   ]
  },
  {
   "cell_type": "markdown",
   "metadata": {},
   "source": [
    "#### Maximum product subset of an array"
   ]
  },
  {
   "cell_type": "code",
   "execution_count": 3,
   "metadata": {},
   "outputs": [
    {
     "name": "stdout",
     "output_type": "stream",
     "text": [
      "24\n"
     ]
    }
   ],
   "source": [
    "def maxProductSubset(a, n): \n",
    "\tif n == 1: \n",
    "\t\treturn a[0] \n",
    "\n",
    "\t# Find count of negative numbers, count of zeros, maximum valued negative number and product of non-zero numbers \n",
    "\tmax_neg = -999999999999\n",
    "\tcount_neg = 0\n",
    "\tcount_zero = 0\n",
    "\tprod = 1\n",
    "\tfor i in range(n): \n",
    "\n",
    "\t\t# If number is 0, we don't multiply it with product. \n",
    "\t\tif a[i] == 0: \n",
    "\t\t\tcount_zero += 1\n",
    "\t\t\tcontinue\n",
    "\n",
    "\t\t# Count negatives and keep track of maximum valued negative. \n",
    "\t\tif a[i] < 0: \n",
    "\t\t\tcount_neg += 1\n",
    "\t\t\tmax_neg = max(max_neg, a[i]) \n",
    "\n",
    "\t\tprod = prod * a[i] \n",
    "\n",
    "\t# If there are all zeros \n",
    "\tif count_zero == n: \n",
    "\t\treturn 0\n",
    "\n",
    "\t# If there are odd number of negative numbers \n",
    "\tif count_neg & 1: \n",
    "\n",
    "\t\t# Exceptional case: There is only negative and all other are zeros \n",
    "\t\tif (count_neg == 1 and count_zero > 0 and\n",
    "\t\t\tcount_zero + count_neg == n): \n",
    "\t\t\treturn 0\n",
    "\n",
    "\t\t# Otherwise result is product of all non-zeros divided by maximum valued negative. \n",
    "\t\tprod = int(prod / max_neg) \n",
    "\n",
    "\treturn prod \n",
    "\n",
    "# Driver Code \n",
    "if __name__ == '__main__': \n",
    "\ta = [ -1, -1, -2, 4, 3 ] \n",
    "\tn = len(a) \n",
    "\tprint(maxProductSubset(a, n)) "
   ]
  },
  {
   "cell_type": "markdown",
   "metadata": {},
   "source": [
    "#### Sorting array with reverse around middle"
   ]
  },
  {
   "cell_type": "code",
   "execution_count": 5,
   "metadata": {},
   "outputs": [
    {
     "name": "stdout",
     "output_type": "stream",
     "text": [
      "Yes\n"
     ]
    }
   ],
   "source": [
    "def ifPossible(arr, n): \n",
    "\n",
    "\tcp = [0] * n \n",
    "\tcp = arr \n",
    "\tcp.sort() \n",
    "\tfor i in range(0 , n) : \n",
    "\t\t# checking mirror image of elements of sorted copy array and equivalent element of original array \n",
    "\t\tif (not(arr[i] == cp[i]) and not\n",
    "\t\t\t(arr[n - 1 - i] == cp[i])): \n",
    "\t\t\treturn False\n",
    "\n",
    "\treturn True\n",
    "\n",
    "# Driver code \n",
    "arr = [1, 7, 6, 4, 5, 3, 2, 8] \n",
    "n = len(arr) \n",
    "if (ifPossible(arr, n)): \n",
    "\tprint(\"Yes\") \n",
    "else: \n",
    "\tprint(\"No\") "
   ]
  },
  {
   "cell_type": "code",
   "execution_count": 11,
   "metadata": {},
   "outputs": [
    {
     "ename": "IndentationError",
     "evalue": "unindent does not match any outer indentation level (<ipython-input-11-15961e92c7ee>, line 23)",
     "output_type": "error",
     "traceback": [
      "\u001b[1;36m  File \u001b[1;32m\"<ipython-input-11-15961e92c7ee>\"\u001b[1;36m, line \u001b[1;32m23\u001b[0m\n\u001b[1;33m    finalSequence[n-1] = a[n/2]\u001b[0m\n\u001b[1;37m                                ^\u001b[0m\n\u001b[1;31mIndentationError\u001b[0m\u001b[1;31m:\u001b[0m unindent does not match any outer indentation level\n"
     ]
    }
   ],
   "source": [
    "import numpy as np \n",
    "class GFG: \n",
    "\t\n",
    "\tdef MaxSumDifference(a,n): \n",
    "\t\t# sort the original array so that we can retrieve the large elements from the end of array elements \n",
    "\t\tnp.sort(a); \n",
    "\t\n",
    "\t\t# In this loop first we will insert one smallest element not entered till that time \n",
    "\t\t# in final sequence and then enter a highest element(not entered till that time) in \n",
    "\t\t# final sequence so that we  have large difference value. \n",
    "\t\t# This process is repeated till all array has completely \n",
    "\t\t# entered in sequence. Here, we have loop till n/2 because \n",
    "\t\t# we are inserting two elements at a time in loop. \n",
    "\t\tj = 0\n",
    "\t\tfinalSequence = [0 for x in range(n)] \n",
    "\t\tfor i in range(0, int(n / 2)): \n",
    "\t\t\tfinalSequence[j] = a[i] \n",
    "\t\t\tfinalSequence[j + 1] = a[n - i - 1] \n",
    "\t\t\tj = j + 2\n",
    "\n",
    "\t\t# If there are odd elements, push the middle element at the end. \n",
    "\t\tif (n % 2 != 0): \n",
    "            finalSequence[n-1] = a[n/2] \n",
    "\n",
    "\t\t# variable to store the maximum sum of absolute difference \n",
    "\t\tMaximumSum = 0\n",
    "\t\n",
    "\t\t# In this loop absolute difference of elements for the final sequence is calculated. \n",
    "\t\tfor i in range(0, n - 1): \n",
    "\t\t\tMaximumSum = (MaximumSum +\n",
    "\t\t\t\t\t\tabs(finalSequence[i] -\n",
    "\t\t\t\t\t\t\tfinalSequence[i + 1])) \n",
    "\t\n",
    "\t\t# absolute difference of last element and 1st element \n",
    "\t\tMaximumSum = (MaximumSum +\n",
    "\t\t\t\t\tabs(finalSequence[n - 1] -\n",
    "\t\t\t\t\t\tfinalSequence[0])); \n",
    "\t\n",
    "\t\t# return the value \n",
    "\t\tprint (MaximumSum) \n",
    "\t\n",
    "# Driver Code \n",
    "a = [ 1, 2, 4, 8 ] \n",
    "n = len(a) \n",
    "GFG.MaxSumDifference(a, n); \n"
   ]
  },
  {
   "cell_type": "code",
   "execution_count": null,
   "metadata": {},
   "outputs": [],
   "source": []
  }
 ],
 "metadata": {
  "kernelspec": {
   "display_name": "Python 3",
   "language": "python",
   "name": "python3"
  },
  "language_info": {
   "codemirror_mode": {
    "name": "ipython",
    "version": 3
   },
   "file_extension": ".py",
   "mimetype": "text/x-python",
   "name": "python",
   "nbconvert_exporter": "python",
   "pygments_lexer": "ipython3",
   "version": "3.7.0"
  }
 },
 "nbformat": 4,
 "nbformat_minor": 2
}
