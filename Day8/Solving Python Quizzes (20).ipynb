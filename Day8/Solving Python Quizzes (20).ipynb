{
 "cells": [
  {
   "cell_type": "markdown",
   "metadata": {},
   "source": [
    "[Source:] https://www.geeksforgeeks.org/output-python-program-set-1/?ref=lbp"
   ]
  },
  {
   "cell_type": "code",
   "execution_count": 3,
   "metadata": {},
   "outputs": [
    {
     "name": "stdout",
     "output_type": "stream",
     "text": [
      "24\n"
     ]
    }
   ],
   "source": [
    "r = lambda q: q * 2\n",
    "s = lambda q: q * 3\n",
    "x = 2\n",
    "x = r(x) \n",
    "x = s(x) \n",
    "x = r(x) \n",
    "print(x)"
   ]
  },
  {
   "cell_type": "code",
   "execution_count": 5,
   "metadata": {},
   "outputs": [
    {
     "name": "stdout",
     "output_type": "stream",
     "text": [
      "2.0\n"
     ]
    }
   ],
   "source": [
    "a = 4.5\n",
    "b = 2\n",
    "print (a//b )"
   ]
  },
  {
   "cell_type": "code",
   "execution_count": 6,
   "metadata": {},
   "outputs": [
    {
     "name": "stdout",
     "output_type": "stream",
     "text": [
      "GEEKSFORGEEKS\n"
     ]
    }
   ],
   "source": [
    "a = True\n",
    "b = False\n",
    "c = False\n",
    "  \n",
    "if a or b and c: \n",
    "    print (\"GEEKSFORGEEKS\")\n",
    "else: \n",
    "    print (\"geeksforgeeks\")"
   ]
  },
  {
   "cell_type": "code",
   "execution_count": 7,
   "metadata": {},
   "outputs": [
    {
     "name": "stdout",
     "output_type": "stream",
     "text": [
      "3\n"
     ]
    }
   ],
   "source": [
    "a = True\n",
    "b = False\n",
    "c = False\n",
    "  \n",
    "if not a or b: \n",
    "    print (1)\n",
    "elif not a or not b and c: \n",
    "    print (2)\n",
    "elif not a or b or not b and a: \n",
    "    print (3)\n",
    "else: \n",
    "    print (4)"
   ]
  },
  {
   "cell_type": "code",
   "execution_count": 10,
   "metadata": {},
   "outputs": [
    {
     "name": "stdout",
     "output_type": "stream",
     "text": [
      "4\n"
     ]
    }
   ],
   "source": [
    "count = 1 \n",
    "  \n",
    "def doThis(): \n",
    "  \n",
    "    global count \n",
    "  \n",
    "    for i in (1, 2, 3):  \n",
    "        count += 1\n",
    "  \n",
    "doThis() \n",
    "  \n",
    "print(count)"
   ]
  },
  {
   "cell_type": "code",
   "execution_count": 11,
   "metadata": {},
   "outputs": [
    {
     "name": "stdout",
     "output_type": "stream",
     "text": [
      "111\n"
     ]
    }
   ],
   "source": [
    "class Acc: \n",
    "    def __init__(self, id): \n",
    "        self.id = id\n",
    "        id = 555 \n",
    "  \n",
    "acc = Acc(111) \n",
    "print (acc.id)"
   ]
  },
  {
   "cell_type": "code",
   "execution_count": 12,
   "metadata": {},
   "outputs": [
    {
     "name": "stdout",
     "output_type": "stream",
     "text": [
      "0\n",
      "1\n",
      "4\n",
      "5\n"
     ]
    }
   ],
   "source": [
    "for i in  range(2): \n",
    "    print (i) \n",
    "  \n",
    "for i in range(4,6): \n",
    "    print (i) "
   ]
  },
  {
   "cell_type": "code",
   "execution_count": 13,
   "metadata": {},
   "outputs": [
    {
     "name": "stdout",
     "output_type": "stream",
     "text": [
      "1\n",
      "2\n",
      "3\n",
      "4\n"
     ]
    }
   ],
   "source": [
    "values = [1, 2, 3, 4] \n",
    "numbers = set(values) \n",
    "  \n",
    "def checknums(num): \n",
    "    if num in numbers: \n",
    "        return True\n",
    "    else: \n",
    "        return False\n",
    "  \n",
    "for i in  filter(checknums, values): \n",
    "    print (i) "
   ]
  },
  {
   "cell_type": "code",
   "execution_count": 14,
   "metadata": {},
   "outputs": [
    {
     "name": "stdout",
     "output_type": "stream",
     "text": [
      "3\n"
     ]
    }
   ],
   "source": [
    "counter = {} \n",
    "  \n",
    "def addToCounter(country): \n",
    "    if country in  counter: \n",
    "        counter[country] += 1\n",
    "    else: \n",
    "        counter[country] = 1\n",
    "  \n",
    "addToCounter('China') \n",
    "addToCounter('Japan') \n",
    "addToCounter('china') \n",
    "  \n",
    "print (len(counter)) "
   ]
  },
  {
   "cell_type": "code",
   "execution_count": 15,
   "metadata": {},
   "outputs": [
    {
     "name": "stdout",
     "output_type": "stream",
     "text": [
      "51\n"
     ]
    }
   ],
   "source": [
    "class Geeks: \n",
    "    def __init__(self, id): \n",
    "        self.id = id\n",
    "  \n",
    "manager = Geeks(100) \n",
    "  \n",
    "manager.__dict__['life'] = 49\n",
    "  \n",
    "print (manager.life + len(manager.__dict__) )"
   ]
  },
  {
   "cell_type": "code",
   "execution_count": 17,
   "metadata": {},
   "outputs": [
    {
     "name": "stdout",
     "output_type": "stream",
     "text": [
      "4\n"
     ]
    }
   ],
   "source": [
    "dictionary = {} \n",
    "dictionary[1] = 1\n",
    "dictionary['1'] = 2\n",
    "dictionary[1] += 1\n",
    "  \n",
    "sum = 0\n",
    "for k in dictionary: \n",
    "    sum += dictionary[k] \n",
    "  \n",
    "print (sum)"
   ]
  },
  {
   "cell_type": "code",
   "execution_count": 18,
   "metadata": {},
   "outputs": [
    {
     "name": "stdout",
     "output_type": "stream",
     "text": [
      "2\n"
     ]
    }
   ],
   "source": [
    "dictionary = {1:'1', 2:'2', 3:'3'} \n",
    "del dictionary[1] \n",
    "dictionary[1] = '10'\n",
    "del dictionary[2] \n",
    "print (len(dictionary))"
   ]
  },
  {
   "cell_type": "code",
   "execution_count": 27,
   "metadata": {},
   "outputs": [
    {
     "name": "stdout",
     "output_type": "stream",
     "text": [
      "k\n"
     ]
    }
   ],
   "source": [
    "nameList = ['H', 'Polk', 'B', 'D'] \n",
    "  \n",
    "print(nameList[1][-1])"
   ]
  },
  {
   "cell_type": "code",
   "execution_count": 28,
   "metadata": {},
   "outputs": [
    {
     "name": "stdout",
     "output_type": "stream",
     "text": [
      "5\n"
     ]
    }
   ],
   "source": [
    "geekCodes = [1, 2, 3, 4] \n",
    "  \n",
    "geekCodes.append([5,6,7,8]) \n",
    "  \n",
    "print (len(geekCodes))"
   ]
  },
  {
   "cell_type": "code",
   "execution_count": 29,
   "metadata": {},
   "outputs": [
    {
     "name": "stdout",
     "output_type": "stream",
     "text": [
      "8\n"
     ]
    }
   ],
   "source": [
    "geekCodes = [1, 2, 3, 4] \n",
    "  \n",
    "geekCodes.extend([5,6,7,8]) \n",
    "  \n",
    "print (len(geekCodes))"
   ]
  },
  {
   "cell_type": "code",
   "execution_count": 32,
   "metadata": {},
   "outputs": [
    {
     "name": "stdout",
     "output_type": "stream",
     "text": [
      "[10, 20, 30, 40, 10]\n"
     ]
    }
   ],
   "source": [
    "def addToList(listcontainer): \n",
    "    listcontainer += [10] \n",
    "  \n",
    "mylistContainer = [10, 20, 30, 40] \n",
    "addToList(mylistContainer) \n",
    "print(mylistContainer)"
   ]
  },
  {
   "cell_type": "code",
   "execution_count": null,
   "metadata": {},
   "outputs": [],
   "source": []
  }
 ],
 "metadata": {
  "kernelspec": {
   "display_name": "Python 3",
   "language": "python",
   "name": "python3"
  },
  "language_info": {
   "codemirror_mode": {
    "name": "ipython",
    "version": 3
   },
   "file_extension": ".py",
   "mimetype": "text/x-python",
   "name": "python",
   "nbconvert_exporter": "python",
   "pygments_lexer": "ipython3",
   "version": "3.7.0"
  }
 },
 "nbformat": 4,
 "nbformat_minor": 2
}
