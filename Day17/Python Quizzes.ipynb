{
 "cells": [
  {
   "cell_type": "markdown",
   "metadata": {},
   "source": [
    "[Source:] https://www.geeksforgeeks.org/functions-python-gq/"
   ]
  },
  {
   "cell_type": "markdown",
   "metadata": {},
   "source": [
    "```\n",
    "What will be the output of the following code :\n",
    "\n",
    "print(type(type(int)))\n",
    "```"
   ]
  },
  {
   "cell_type": "code",
   "execution_count": 4,
   "metadata": {},
   "outputs": [
    {
     "name": "stdout",
     "output_type": "stream",
     "text": [
      "<class 'type'>\n"
     ]
    }
   ],
   "source": [
    "print(type(type(int)))"
   ]
  },
  {
   "cell_type": "markdown",
   "metadata": {},
   "source": [
    "```\n",
    "What is the output of the following code :\n",
    "\n",
    "L = ['a','b','c','d']\n",
    "print(\"\".join(L))\n",
    "```"
   ]
  },
  {
   "cell_type": "code",
   "execution_count": 3,
   "metadata": {},
   "outputs": [
    {
     "name": "stdout",
     "output_type": "stream",
     "text": [
      "abcd\n"
     ]
    }
   ],
   "source": [
    "L = ['a','b','c','d']\n",
    "print(\"\".join(L))"
   ]
  },
  {
   "cell_type": "markdown",
   "metadata": {},
   "source": [
    "```\n",
    "What is the output of the following segment :\n",
    "\n",
    "chr(ord('A'))\n",
    "```"
   ]
  },
  {
   "cell_type": "code",
   "execution_count": 5,
   "metadata": {},
   "outputs": [
    {
     "data": {
      "text/plain": [
       "'A'"
      ]
     },
     "execution_count": 5,
     "metadata": {},
     "output_type": "execute_result"
    }
   ],
   "source": [
    "chr(ord('A'))"
   ]
  },
  {
   "cell_type": "markdown",
   "metadata": {},
   "source": [
    "```\n",
    "What is the output of the following program :\n",
    "\n",
    "y = 8\n",
    "z = lambda x : x * y\n",
    "print(z(6))\n",
    "```"
   ]
  },
  {
   "cell_type": "code",
   "execution_count": 6,
   "metadata": {},
   "outputs": [
    {
     "name": "stdout",
     "output_type": "stream",
     "text": [
      "48\n"
     ]
    }
   ],
   "source": [
    "y = 8\n",
    "z = lambda x : x * y\n",
    "print(z(6))"
   ]
  },
  {
   "cell_type": "markdown",
   "metadata": {},
   "source": [
    "```\n",
    "What is called when a function is defined inside a class?\n",
    "\n",
    "A Module\n",
    "B Class\n",
    "C Another Function\n",
    "D Method (ANS)\n",
    "\n",
    "```"
   ]
  },
  {
   "cell_type": "markdown",
   "metadata": {},
   "source": [
    "```\n",
    "Which of the following is the use of id() function in python?\n",
    "\n",
    "A Id returns the identity of the object (ANS)\n",
    "B Every object doesn’t have a unique id\n",
    "C All of the mentioned\n",
    "D None of the mentioned\n",
    "```"
   ]
  },
  {
   "cell_type": "markdown",
   "metadata": {},
   "source": [
    "```\n",
    "Suppose list1 is [3, 4, 5, 20, 5, 25, 1, 3], what is list1 after list1.pop(1)?\n",
    "\n",
    "A [3, 4, 5, 20, 5, 25, 1, 3]\n",
    "B [1, 3, 3, 4, 5, 5, 20, 25]\n",
    "C [3, 5, 20, 5, 25, 1, 3] (ANS)\n",
    "D [1, 3, 4, 5, 20, 5, 25]\n",
    "```"
   ]
  },
  {
   "cell_type": "markdown",
   "metadata": {},
   "source": [
    "```\n",
    "time.time() returns ________\n",
    "\n",
    "A the current time\n",
    "B the current time in milliseconds\n",
    "C the current time in milliseconds since midnight\n",
    "D the current time in milliseconds since midnight, January 1, 1970\n",
    "E the current time in milliseconds since midnight, January 1, 1970 GMT (the Unix time) (ANS)\n",
    "```"
   ]
  },
  {
   "cell_type": "markdown",
   "metadata": {},
   "source": [
    "```\n",
    "Consider the results of a medical experiment that aims to predict whether someone is going to develop myopia based on some physical measurements and heredity. In this case, the input dataset consists of the person’s medical characteristics and the target variable is binary: 1 for those who are likely to develop myopia and 0 for those who aren’t. This can be best classified as\n",
    "\n",
    "A Regression\n",
    "B Decision Tree (ANS)\n",
    "C Clustering\n",
    "D Association Rules\n",
    "```"
   ]
  },
  {
   "cell_type": "markdown",
   "metadata": {},
   "source": [
    "```\n",
    "What is the output of the following of code?\n",
    "\n",
    "a = {i: i * i for i in range(6)} \n",
    "print (a) \n",
    "\n",
    "Options:\n",
    "a) Dictionary comprehension doesn’t exist\n",
    "b) {0: 0, 1: 1, 2: 4, 3: 9, 4: 16, 5: 25, 6:36}\n",
    "c) {0: 0, 1: 1, 4: 4, 9: 9, 16: 16, 25: 25}\n",
    "d) {0: 0, 1: 1, 2: 4, 3: 9, 4: 16, 5: 25} (ANS)\n",
    "```"
   ]
  },
  {
   "cell_type": "markdown",
   "metadata": {},
   "source": [
    "```\n",
    "5.Which of these about a dictionary is false?\n",
    "\n",
    "a) The values of a dictionary can be accessed using keys\n",
    "b) The keys of a dictionary can be accessed using values (ANS)\n",
    "c) Dictionaries may or may not be ordered\n",
    "d) None of the above\n",
    "```"
   ]
  },
  {
   "cell_type": "markdown",
   "metadata": {},
   "source": [
    "```\n",
    "What is the output of the following?\n",
    "\n",
    "True = False\n",
    "while True: \n",
    "    print(True) \n",
    "    break\n",
    "\n",
    "a False.\n",
    "b True.\n",
    "c Error. (ANS)\n",
    "d None of these\n",
    "```"
   ]
  },
  {
   "cell_type": "code",
   "execution_count": null,
   "metadata": {},
   "outputs": [],
   "source": []
  }
 ],
 "metadata": {
  "kernelspec": {
   "display_name": "Python 3",
   "language": "python",
   "name": "python3"
  },
  "language_info": {
   "codemirror_mode": {
    "name": "ipython",
    "version": 3
   },
   "file_extension": ".py",
   "mimetype": "text/x-python",
   "name": "python",
   "nbconvert_exporter": "python",
   "pygments_lexer": "ipython3",
   "version": "3.7.0"
  }
 },
 "nbformat": 4,
 "nbformat_minor": 2
}
