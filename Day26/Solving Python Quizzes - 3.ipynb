{
 "cells": [
  {
   "cell_type": "markdown",
   "metadata": {},
   "source": [
    "[Source:] https://www.sanfoundry.com/python-questions-answers-numeric-types/"
   ]
  },
  {
   "cell_type": "markdown",
   "metadata": {},
   "source": [
    "```\n",
    "1. Which of the following results in a SyntaxError?\n",
    "a) ‘”Once upon a time…”, she said.’\n",
    "b) “He said, ‘Yes!'”\n",
    "c) ‘3\\’\n",
    "d) ”’That’s okay”’\n",
    "\n",
    "Answer: c\n",
    "Explanation: Carefully look at the colons.\n",
    "```"
   ]
  },
  {
   "cell_type": "markdown",
   "metadata": {},
   "source": [
    "```\n",
    "2. The following is displayed by a print function call. Select all of the function calls that result in this output.\n",
    "\n",
    "tom\n",
    "dick\n",
    "harry\n",
    "a)\n",
    "\n",
    "print('''tom\n",
    "\\ndick\n",
    "\\nharry''')\n",
    "b) print(”’tomdickharry”’)\n",
    "c) print(‘tom\\ndick\\nharry’)\n",
    "d)\n",
    "\n",
    "print('tom\n",
    "dick\n",
    "harry')\n",
    "\n",
    "Answer: c\n",
    "Explanation: The \\n adds a new line\n",
    "```"
   ]
  },
  {
   "cell_type": "markdown",
   "metadata": {},
   "source": [
    "```\n",
    "3. What is the average value of the following Python code snippet?\n",
    "\n",
    ">>>grade1 = 80\n",
    ">>>grade2 = 90\n",
    ">>>average = (grade1 + grade2) / 2\n",
    "a) 85.0\n",
    "b) 85.1\n",
    "c) 95.0\n",
    "d) 95.1\n",
    "\n",
    "Answer: a\n",
    "Explanatio:Cause a decimal value of 0 to appear as output.\n",
    "```"
   ]
  },
  {
   "cell_type": "markdown",
   "metadata": {},
   "source": [
    "```\n",
    "4. Select all options that print.\n",
    "\n",
    "hello-how-are-you\n",
    "a) print(‘hello’, ‘how’, ‘are’, ‘you’)\n",
    "b) print(‘hello’, ‘how’, ‘are’, ‘you’ + ‘-‘ * 4)\n",
    "c) print(‘hello-‘ + ‘how-are-you’)\n",
    "d) print(‘hello’ + ‘-‘ + ‘how’ + ‘-‘ + ‘are’ + ‘you’)\n",
    "\n",
    "Answer: c\n",
    "Explanation: Execute in the shell.\n",
    "```"
   ]
  },
  {
   "cell_type": "markdown",
   "metadata": {},
   "source": [
    "```\n",
    "5. What is the return value of trunc()?\n",
    "a) int\n",
    "b) bool\n",
    "c) float\n",
    "d) None\n",
    "\n",
    "Answer: a\n",
    "Explanation: Execute help(math.trunc) to get details.\n",
    "```"
   ]
  },
  {
   "cell_type": "markdown",
   "metadata": {},
   "source": [
    "```\n",
    "6. Which is the correct operator for power(xy)?\n",
    "a) X^y\n",
    "b) X**y\n",
    "c) X^^y\n",
    "d) None of the mentioned\n",
    "\n",
    "Answer: b\n",
    "Explanation: In python, power operator is x**y i.e. 2**3=8.\n",
    "```"
   ]
  },
  {
   "cell_type": "markdown",
   "metadata": {},
   "source": [
    "```\n",
    "7. Which one of these is floor division?\n",
    "a) /\n",
    "b) //\n",
    "c) %\n",
    "d) None of the mentioned\n",
    "\n",
    "Answer: b\n",
    "Explanation: When both of the operands are integer then python chops out the fraction part and gives you the round off value, to get the accurate answer use floor division. This is floor division. For ex, 5/2 = 2.5 but both of the operands are integer so answer of this expression in python is 2. To get the 2.5 answer, use floor division.\n",
    "```"
   ]
  },
  {
   "cell_type": "markdown",
   "metadata": {},
   "source": [
    "```\n",
    "8. What is the order of precedence in python?\n",
    "i) Parentheses\n",
    "ii) Exponential\n",
    "iii) Multiplication\n",
    "iv) Division\n",
    "v) Addition\n",
    "vi) Subtraction\n",
    "a) i,ii,iii,iv,v,vi\n",
    "b) ii,i,iii,iv,v,vi\n",
    "c) ii,i,iv,iii,v,vi\n",
    "d) i,ii,iii,iv,vi,v\n",
    "\n",
    "Answer: a\n",
    "Explanation: For order of precedence, just remember this  PEMDAS (similar to BODMAS).\n",
    "```"
   ]
  },
  {
   "cell_type": "markdown",
   "metadata": {},
   "source": [
    "```\n",
    "9. What is the answer to this expression, 22 % 3 is?\n",
    "a) 7\n",
    "b) 1\n",
    "c) 0\n",
    "d) 5\n",
    "\n",
    "Answer: b\n",
    "Explanation: Modulus operator gives the remainder. So, 22%3 gives the remainder, that is, 1.\n",
    "```"
   ]
  },
  {
   "cell_type": "markdown",
   "metadata": {},
   "source": [
    "```\n",
    "10. Mathematical operations can be performed on a string.\n",
    "a) True\n",
    "b) False\n",
    "\n",
    "Answer: b\n",
    "Explanation: You can’t perform mathematical operation on string even if the string is in the form: ‘1234…’.\n",
    "```"
   ]
  },
  {
   "cell_type": "markdown",
   "metadata": {},
   "source": [
    "```\n",
    "11. Operators with the same precedence are evaluated in which manner?\n",
    "a) Left to Right\n",
    "b) Right to Left\n",
    "c) Can’t say\n",
    "d) None of the mentioned\n",
    "\n",
    "Answer: a\n",
    "Explanation: None.\n",
    "```"
   ]
  },
  {
   "cell_type": "markdown",
   "metadata": {},
   "source": [
    "```\n",
    "12. What is the output of this expression, 3*1**3?\n",
    "a) 27\n",
    "b) 9\n",
    "c) 3\n",
    "d) 1\n",
    "\n",
    "Answer: c\n",
    "Explanation: First this expression will solve 1**3 because exponential has higher precedence than multiplication, so 1**3 = 1 and 3*1 = 3. Final answer is 3.\n",
    "```"
   ]
  },
  {
   "cell_type": "markdown",
   "metadata": {},
   "source": [
    "```\n",
    "13. Which one of the following has the same precedence level?\n",
    "a) Addition and Subtraction\n",
    "b) Multiplication, Division and Addition\n",
    "c) Multiplication, Division, Addition and Subtraction\n",
    "d) Addition and Multiplication\n",
    "\n",
    "Answer: a\n",
    "Explanation: “Addition and Subtraction” are at the same precedence level. Similarly, “Multiplication and Division” are at the same precedence level. However, Multiplication and Division operators are at a higher precedence level than Addition and Subtraction operators.\n",
    "```"
   ]
  },
  {
   "cell_type": "markdown",
   "metadata": {},
   "source": [
    "```\n",
    "14. The expression Int(x) implies that the variable x is converted to integer.\n",
    "a) True\n",
    "b) False\n",
    "\n",
    "Answer: a\n",
    "Explanation: None.\n",
    "```"
   ]
  },
  {
   "cell_type": "markdown",
   "metadata": {},
   "source": [
    "```\n",
    "15. Which one of the following has the highest precedence in the expression?\n",
    "a) Exponential\n",
    "b) Addition\n",
    "c) Multiplication\n",
    "d) Parentheses\n",
    "\n",
    "Answer: d\n",
    "Explanation: Just remember: PEMDAS, that is, Parenthesis, Exponentiation, Division, Multiplication, Addition, Subtraction. Note that the precedence order of Division and Multiplication is the same. Likewise, the order of Addition and Subtraction is also the same.\n",
    "```"
   ]
  },
  {
   "cell_type": "markdown",
   "metadata": {},
   "source": [
    "```\n",
    "16. What is the output of print 0.1 + 0.2 == 0.3?\n",
    "a) True\n",
    "b) False\n",
    "c) Machine dependent\n",
    "d) Error\n",
    "\n",
    "Answer: b\n",
    "Explanation: Neither of 0.1, 0.2 and 0.3 can be represented accurately in binary. The round off errors from 0.1 and 0.2 accumulate and hence there is a difference of 5.5511e-17 between (0.1 + 0.2) and 0.3.\n",
    "```"
   ]
  },
  {
   "cell_type": "markdown",
   "metadata": {},
   "source": [
    "```\n",
    "17. Which of the following is not a complex number?\n",
    "a) k = 2 + 3j\n",
    "b) k = complex(2, 3)\n",
    "c) k = 2 + 3l\n",
    "d) k = 2 + 3J\n",
    "\n",
    "Answer: c\n",
    "Explanation: l (or L) stands for long.\n",
    "```"
   ]
  },
  {
   "cell_type": "markdown",
   "metadata": {},
   "source": [
    "```\n",
    "18. What is the type of inf?\n",
    "a) Boolean\n",
    "b) Integer\n",
    "c) Float\n",
    "d) Complex\n",
    "\n",
    "Answer: c\n",
    "Explanation: Infinity is a special case of floating point numbers. It can be obtained by float(‘inf’).\n",
    "```"
   ]
  },
  {
   "cell_type": "markdown",
   "metadata": {},
   "source": [
    "```\n",
    "19. What does ~4 evaluate to?\n",
    "a) -5\n",
    "b) -4\n",
    "c) -3\n",
    "d) +3\n",
    "\n",
    "Answer: a\n",
    "Explanation: ~x is equivalent to -(x+1).\n",
    "```"
   ]
  },
  {
   "cell_type": "markdown",
   "metadata": {},
   "source": [
    "```\n",
    "20. What does ~~~~~~5 evaluate to?\n",
    "a) +5\n",
    "b) -11\n",
    "c) +11\n",
    "d) -5\n",
    "\n",
    "Answer: a\n",
    "Explanation: ~x is equivalent to -(x+1).\n",
    "```"
   ]
  }
 ],
 "metadata": {
  "kernelspec": {
   "display_name": "Python 3",
   "language": "python",
   "name": "python3"
  },
  "language_info": {
   "codemirror_mode": {
    "name": "ipython",
    "version": 3
   },
   "file_extension": ".py",
   "mimetype": "text/x-python",
   "name": "python",
   "nbconvert_exporter": "python",
   "pygments_lexer": "ipython3",
   "version": "3.7.0"
  }
 },
 "nbformat": 4,
 "nbformat_minor": 2
}
